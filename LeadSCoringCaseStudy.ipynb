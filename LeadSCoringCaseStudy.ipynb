{
 "cells": [
  {
   "cell_type": "markdown",
   "id": "6e0128fd",
   "metadata": {},
   "source": [
    "# Problem Statement:"
   ]
  },
  {
   "cell_type": "markdown",
   "id": "3f73b94e",
   "metadata": {},
   "source": [
    "\n",
    "X-Education is an education company sells online Education courses to professionals and does its marketing through many online advertisements. Company gets information through different channels and if candidates enquring with certain education level it calls lead. Typically lead conversion is 30% of certain education. Company identifying Hot Leads on certain criteria also. Lead conversion ratio is lesser than number of enrollment. comapny given Target to achieve 80% of total enrollment\n"
   ]
  },
  {
   "cell_type": "markdown",
   "id": "1bfc692c",
   "metadata": {},
   "source": [
    "# Goals of the Case Study"
   ]
  },
  {
   "cell_type": "markdown",
   "id": "57df11f5",
   "metadata": {},
   "source": [
    "Build a logistic regression model to assign a lead score between 0 and 100 to each of the leads which can be used by the company to target potential leads. A higher score would mean that the lead is hot, i.e. is most likely to convert whereas a lower score would mean that the lead is cold and will mostly not get converted.\n",
    "There are some more problems presented by the company which your model should be able to adjust to if the company's requirement changes in the future so you will need to handle these as well. These problems are provided in a separate doc file. Please fill it based on the logistic regression model you got in the first step. Also, make sure you include this in your final PPT where you'll make recommendations."
   ]
  },
  {
   "cell_type": "markdown",
   "id": "cba74896",
   "metadata": {},
   "source": [
    "# Step 1:  Reading and Understanding Data"
   ]
  },
  {
   "cell_type": "code",
   "execution_count": 133,
   "id": "c719d5b2",
   "metadata": {},
   "outputs": [],
   "source": [
    "# Importing required libraries:-\n",
    "\n",
    "import pandas as pd\n",
    "import numpy as np\n",
    "import matplotlib.pyplot as plt\n",
    "import seaborn as sns\n",
    "#import pandas_profile\n",
    "\n",
    "%matplotlib inline\n",
    "# Suppressing Warnings\n",
    "import warnings\n",
    "warnings.filterwarnings('ignore')"
   ]
  },
  {
   "cell_type": "code",
   "execution_count": 134,
   "id": "7b829c1a",
   "metadata": {},
   "outputs": [
    {
     "data": {
      "text/html": [
       "<div>\n",
       "<style scoped>\n",
       "    .dataframe tbody tr th:only-of-type {\n",
       "        vertical-align: middle;\n",
       "    }\n",
       "\n",
       "    .dataframe tbody tr th {\n",
       "        vertical-align: top;\n",
       "    }\n",
       "\n",
       "    .dataframe thead th {\n",
       "        text-align: right;\n",
       "    }\n",
       "</style>\n",
       "<table border=\"1\" class=\"dataframe\">\n",
       "  <thead>\n",
       "    <tr style=\"text-align: right;\">\n",
       "      <th></th>\n",
       "      <th>Prospect ID</th>\n",
       "      <th>Lead Number</th>\n",
       "      <th>Lead Origin</th>\n",
       "      <th>Lead Source</th>\n",
       "      <th>Do Not Email</th>\n",
       "      <th>Do Not Call</th>\n",
       "      <th>Converted</th>\n",
       "      <th>TotalVisits</th>\n",
       "      <th>Total Time Spent on Website</th>\n",
       "      <th>Page Views Per Visit</th>\n",
       "      <th>...</th>\n",
       "      <th>Get updates on DM Content</th>\n",
       "      <th>Lead Profile</th>\n",
       "      <th>City</th>\n",
       "      <th>Asymmetrique Activity Index</th>\n",
       "      <th>Asymmetrique Profile Index</th>\n",
       "      <th>Asymmetrique Activity Score</th>\n",
       "      <th>Asymmetrique Profile Score</th>\n",
       "      <th>I agree to pay the amount through cheque</th>\n",
       "      <th>A free copy of Mastering The Interview</th>\n",
       "      <th>Last Notable Activity</th>\n",
       "    </tr>\n",
       "  </thead>\n",
       "  <tbody>\n",
       "    <tr>\n",
       "      <th>0</th>\n",
       "      <td>7927b2df-8bba-4d29-b9a2-b6e0beafe620</td>\n",
       "      <td>660737</td>\n",
       "      <td>API</td>\n",
       "      <td>Olark Chat</td>\n",
       "      <td>No</td>\n",
       "      <td>No</td>\n",
       "      <td>0</td>\n",
       "      <td>0.0</td>\n",
       "      <td>0</td>\n",
       "      <td>0.0</td>\n",
       "      <td>...</td>\n",
       "      <td>No</td>\n",
       "      <td>Select</td>\n",
       "      <td>Select</td>\n",
       "      <td>02.Medium</td>\n",
       "      <td>02.Medium</td>\n",
       "      <td>15.0</td>\n",
       "      <td>15.0</td>\n",
       "      <td>No</td>\n",
       "      <td>No</td>\n",
       "      <td>Modified</td>\n",
       "    </tr>\n",
       "    <tr>\n",
       "      <th>1</th>\n",
       "      <td>2a272436-5132-4136-86fa-dcc88c88f482</td>\n",
       "      <td>660728</td>\n",
       "      <td>API</td>\n",
       "      <td>Organic Search</td>\n",
       "      <td>No</td>\n",
       "      <td>No</td>\n",
       "      <td>0</td>\n",
       "      <td>5.0</td>\n",
       "      <td>674</td>\n",
       "      <td>2.5</td>\n",
       "      <td>...</td>\n",
       "      <td>No</td>\n",
       "      <td>Select</td>\n",
       "      <td>Select</td>\n",
       "      <td>02.Medium</td>\n",
       "      <td>02.Medium</td>\n",
       "      <td>15.0</td>\n",
       "      <td>15.0</td>\n",
       "      <td>No</td>\n",
       "      <td>No</td>\n",
       "      <td>Email Opened</td>\n",
       "    </tr>\n",
       "    <tr>\n",
       "      <th>2</th>\n",
       "      <td>8cc8c611-a219-4f35-ad23-fdfd2656bd8a</td>\n",
       "      <td>660727</td>\n",
       "      <td>Landing Page Submission</td>\n",
       "      <td>Direct Traffic</td>\n",
       "      <td>No</td>\n",
       "      <td>No</td>\n",
       "      <td>1</td>\n",
       "      <td>2.0</td>\n",
       "      <td>1532</td>\n",
       "      <td>2.0</td>\n",
       "      <td>...</td>\n",
       "      <td>No</td>\n",
       "      <td>Potential Lead</td>\n",
       "      <td>Mumbai</td>\n",
       "      <td>02.Medium</td>\n",
       "      <td>01.High</td>\n",
       "      <td>14.0</td>\n",
       "      <td>20.0</td>\n",
       "      <td>No</td>\n",
       "      <td>Yes</td>\n",
       "      <td>Email Opened</td>\n",
       "    </tr>\n",
       "    <tr>\n",
       "      <th>3</th>\n",
       "      <td>0cc2df48-7cf4-4e39-9de9-19797f9b38cc</td>\n",
       "      <td>660719</td>\n",
       "      <td>Landing Page Submission</td>\n",
       "      <td>Direct Traffic</td>\n",
       "      <td>No</td>\n",
       "      <td>No</td>\n",
       "      <td>0</td>\n",
       "      <td>1.0</td>\n",
       "      <td>305</td>\n",
       "      <td>1.0</td>\n",
       "      <td>...</td>\n",
       "      <td>No</td>\n",
       "      <td>Select</td>\n",
       "      <td>Mumbai</td>\n",
       "      <td>02.Medium</td>\n",
       "      <td>01.High</td>\n",
       "      <td>13.0</td>\n",
       "      <td>17.0</td>\n",
       "      <td>No</td>\n",
       "      <td>No</td>\n",
       "      <td>Modified</td>\n",
       "    </tr>\n",
       "    <tr>\n",
       "      <th>4</th>\n",
       "      <td>3256f628-e534-4826-9d63-4a8b88782852</td>\n",
       "      <td>660681</td>\n",
       "      <td>Landing Page Submission</td>\n",
       "      <td>Google</td>\n",
       "      <td>No</td>\n",
       "      <td>No</td>\n",
       "      <td>1</td>\n",
       "      <td>2.0</td>\n",
       "      <td>1428</td>\n",
       "      <td>1.0</td>\n",
       "      <td>...</td>\n",
       "      <td>No</td>\n",
       "      <td>Select</td>\n",
       "      <td>Mumbai</td>\n",
       "      <td>02.Medium</td>\n",
       "      <td>01.High</td>\n",
       "      <td>15.0</td>\n",
       "      <td>18.0</td>\n",
       "      <td>No</td>\n",
       "      <td>No</td>\n",
       "      <td>Modified</td>\n",
       "    </tr>\n",
       "  </tbody>\n",
       "</table>\n",
       "<p>5 rows × 37 columns</p>\n",
       "</div>"
      ],
      "text/plain": [
       "                            Prospect ID  Lead Number              Lead Origin  \\\n",
       "0  7927b2df-8bba-4d29-b9a2-b6e0beafe620       660737                      API   \n",
       "1  2a272436-5132-4136-86fa-dcc88c88f482       660728                      API   \n",
       "2  8cc8c611-a219-4f35-ad23-fdfd2656bd8a       660727  Landing Page Submission   \n",
       "3  0cc2df48-7cf4-4e39-9de9-19797f9b38cc       660719  Landing Page Submission   \n",
       "4  3256f628-e534-4826-9d63-4a8b88782852       660681  Landing Page Submission   \n",
       "\n",
       "      Lead Source Do Not Email Do Not Call  Converted  TotalVisits  \\\n",
       "0      Olark Chat           No          No          0          0.0   \n",
       "1  Organic Search           No          No          0          5.0   \n",
       "2  Direct Traffic           No          No          1          2.0   \n",
       "3  Direct Traffic           No          No          0          1.0   \n",
       "4          Google           No          No          1          2.0   \n",
       "\n",
       "   Total Time Spent on Website  Page Views Per Visit  ...  \\\n",
       "0                            0                   0.0  ...   \n",
       "1                          674                   2.5  ...   \n",
       "2                         1532                   2.0  ...   \n",
       "3                          305                   1.0  ...   \n",
       "4                         1428                   1.0  ...   \n",
       "\n",
       "  Get updates on DM Content    Lead Profile    City  \\\n",
       "0                        No          Select  Select   \n",
       "1                        No          Select  Select   \n",
       "2                        No  Potential Lead  Mumbai   \n",
       "3                        No          Select  Mumbai   \n",
       "4                        No          Select  Mumbai   \n",
       "\n",
       "  Asymmetrique Activity Index Asymmetrique Profile Index  \\\n",
       "0                   02.Medium                  02.Medium   \n",
       "1                   02.Medium                  02.Medium   \n",
       "2                   02.Medium                    01.High   \n",
       "3                   02.Medium                    01.High   \n",
       "4                   02.Medium                    01.High   \n",
       "\n",
       "  Asymmetrique Activity Score Asymmetrique Profile Score  \\\n",
       "0                        15.0                       15.0   \n",
       "1                        15.0                       15.0   \n",
       "2                        14.0                       20.0   \n",
       "3                        13.0                       17.0   \n",
       "4                        15.0                       18.0   \n",
       "\n",
       "  I agree to pay the amount through cheque  \\\n",
       "0                                       No   \n",
       "1                                       No   \n",
       "2                                       No   \n",
       "3                                       No   \n",
       "4                                       No   \n",
       "\n",
       "  A free copy of Mastering The Interview Last Notable Activity  \n",
       "0                                     No              Modified  \n",
       "1                                     No          Email Opened  \n",
       "2                                    Yes          Email Opened  \n",
       "3                                     No              Modified  \n",
       "4                                     No              Modified  \n",
       "\n",
       "[5 rows x 37 columns]"
      ]
     },
     "execution_count": 134,
     "metadata": {},
     "output_type": "execute_result"
    }
   ],
   "source": [
    "# Load the  dataset\n",
    "\n",
    "leaddf = pd.read_csv('Leads.csv', encoding = 'latin')\n",
    "leaddf.head()"
   ]
  },
  {
   "cell_type": "code",
   "execution_count": 135,
   "id": "df3ac63c",
   "metadata": {},
   "outputs": [
    {
     "name": "stdout",
     "output_type": "stream",
     "text": [
      "*********************************  Info *******************************************\n",
      "<class 'pandas.core.frame.DataFrame'>\n",
      "RangeIndex: 9240 entries, 0 to 9239\n",
      "Data columns (total 37 columns):\n",
      " #   Column                                         Non-Null Count  Dtype  \n",
      "---  ------                                         --------------  -----  \n",
      " 0   Prospect ID                                    9240 non-null   object \n",
      " 1   Lead Number                                    9240 non-null   int64  \n",
      " 2   Lead Origin                                    9240 non-null   object \n",
      " 3   Lead Source                                    9204 non-null   object \n",
      " 4   Do Not Email                                   9240 non-null   object \n",
      " 5   Do Not Call                                    9240 non-null   object \n",
      " 6   Converted                                      9240 non-null   int64  \n",
      " 7   TotalVisits                                    9103 non-null   float64\n",
      " 8   Total Time Spent on Website                    9240 non-null   int64  \n",
      " 9   Page Views Per Visit                           9103 non-null   float64\n",
      " 10  Last Activity                                  9137 non-null   object \n",
      " 11  Country                                        6779 non-null   object \n",
      " 12  Specialization                                 7802 non-null   object \n",
      " 13  How did you hear about X Education             7033 non-null   object \n",
      " 14  What is your current occupation                6550 non-null   object \n",
      " 15  What matters most to you in choosing a course  6531 non-null   object \n",
      " 16  Search                                         9240 non-null   object \n",
      " 17  Magazine                                       9240 non-null   object \n",
      " 18  Newspaper Article                              9240 non-null   object \n",
      " 19  X Education Forums                             9240 non-null   object \n",
      " 20  Newspaper                                      9240 non-null   object \n",
      " 21  Digital Advertisement                          9240 non-null   object \n",
      " 22  Through Recommendations                        9240 non-null   object \n",
      " 23  Receive More Updates About Our Courses         9240 non-null   object \n",
      " 24  Tags                                           5887 non-null   object \n",
      " 25  Lead Quality                                   4473 non-null   object \n",
      " 26  Update me on Supply Chain Content              9240 non-null   object \n",
      " 27  Get updates on DM Content                      9240 non-null   object \n",
      " 28  Lead Profile                                   6531 non-null   object \n",
      " 29  City                                           7820 non-null   object \n",
      " 30  Asymmetrique Activity Index                    5022 non-null   object \n",
      " 31  Asymmetrique Profile Index                     5022 non-null   object \n",
      " 32  Asymmetrique Activity Score                    5022 non-null   float64\n",
      " 33  Asymmetrique Profile Score                     5022 non-null   float64\n",
      " 34  I agree to pay the amount through cheque       9240 non-null   object \n",
      " 35  A free copy of Mastering The Interview         9240 non-null   object \n",
      " 36  Last Notable Activity                          9240 non-null   object \n",
      "dtypes: float64(4), int64(3), object(30)\n",
      "memory usage: 2.6+ MB\n",
      "None\n",
      "*********************************  Shape ******************************************\n",
      "(9240, 37)\n",
      "**************************** Columns having null values *****************************\n",
      "Prospect ID                                      False\n",
      "Lead Number                                      False\n",
      "Lead Origin                                      False\n",
      "Lead Source                                       True\n",
      "Do Not Email                                     False\n",
      "Do Not Call                                      False\n",
      "Converted                                        False\n",
      "TotalVisits                                       True\n",
      "Total Time Spent on Website                      False\n",
      "Page Views Per Visit                              True\n",
      "Last Activity                                     True\n",
      "Country                                           True\n",
      "Specialization                                    True\n",
      "How did you hear about X Education                True\n",
      "What is your current occupation                   True\n",
      "What matters most to you in choosing a course     True\n",
      "Search                                           False\n",
      "Magazine                                         False\n",
      "Newspaper Article                                False\n",
      "X Education Forums                               False\n",
      "Newspaper                                        False\n",
      "Digital Advertisement                            False\n",
      "Through Recommendations                          False\n",
      "Receive More Updates About Our Courses           False\n",
      "Tags                                              True\n",
      "Lead Quality                                      True\n",
      "Update me on Supply Chain Content                False\n",
      "Get updates on DM Content                        False\n",
      "Lead Profile                                      True\n",
      "City                                              True\n",
      "Asymmetrique Activity Index                       True\n",
      "Asymmetrique Profile Index                        True\n",
      "Asymmetrique Activity Score                       True\n",
      "Asymmetrique Profile Score                        True\n",
      "I agree to pay the amount through cheque         False\n",
      "A free copy of Mastering The Interview           False\n",
      "Last Notable Activity                            False\n",
      "dtype: bool\n",
      "**************************** Describe *****************************\n"
     ]
    },
    {
     "data": {
      "text/html": [
       "<div>\n",
       "<style scoped>\n",
       "    .dataframe tbody tr th:only-of-type {\n",
       "        vertical-align: middle;\n",
       "    }\n",
       "\n",
       "    .dataframe tbody tr th {\n",
       "        vertical-align: top;\n",
       "    }\n",
       "\n",
       "    .dataframe thead th {\n",
       "        text-align: right;\n",
       "    }\n",
       "</style>\n",
       "<table border=\"1\" class=\"dataframe\">\n",
       "  <thead>\n",
       "    <tr style=\"text-align: right;\">\n",
       "      <th></th>\n",
       "      <th>Lead Number</th>\n",
       "      <th>Converted</th>\n",
       "      <th>TotalVisits</th>\n",
       "      <th>Total Time Spent on Website</th>\n",
       "      <th>Page Views Per Visit</th>\n",
       "      <th>Asymmetrique Activity Score</th>\n",
       "      <th>Asymmetrique Profile Score</th>\n",
       "    </tr>\n",
       "  </thead>\n",
       "  <tbody>\n",
       "    <tr>\n",
       "      <th>count</th>\n",
       "      <td>9240.000000</td>\n",
       "      <td>9240.000000</td>\n",
       "      <td>9103.000000</td>\n",
       "      <td>9240.000000</td>\n",
       "      <td>9103.000000</td>\n",
       "      <td>5022.000000</td>\n",
       "      <td>5022.000000</td>\n",
       "    </tr>\n",
       "    <tr>\n",
       "      <th>mean</th>\n",
       "      <td>617188.435606</td>\n",
       "      <td>0.385390</td>\n",
       "      <td>3.445238</td>\n",
       "      <td>487.698268</td>\n",
       "      <td>2.362820</td>\n",
       "      <td>14.306252</td>\n",
       "      <td>16.344883</td>\n",
       "    </tr>\n",
       "    <tr>\n",
       "      <th>std</th>\n",
       "      <td>23405.995698</td>\n",
       "      <td>0.486714</td>\n",
       "      <td>4.854853</td>\n",
       "      <td>548.021466</td>\n",
       "      <td>2.161418</td>\n",
       "      <td>1.386694</td>\n",
       "      <td>1.811395</td>\n",
       "    </tr>\n",
       "    <tr>\n",
       "      <th>min</th>\n",
       "      <td>579533.000000</td>\n",
       "      <td>0.000000</td>\n",
       "      <td>0.000000</td>\n",
       "      <td>0.000000</td>\n",
       "      <td>0.000000</td>\n",
       "      <td>7.000000</td>\n",
       "      <td>11.000000</td>\n",
       "    </tr>\n",
       "    <tr>\n",
       "      <th>25%</th>\n",
       "      <td>596484.500000</td>\n",
       "      <td>0.000000</td>\n",
       "      <td>1.000000</td>\n",
       "      <td>12.000000</td>\n",
       "      <td>1.000000</td>\n",
       "      <td>14.000000</td>\n",
       "      <td>15.000000</td>\n",
       "    </tr>\n",
       "    <tr>\n",
       "      <th>50%</th>\n",
       "      <td>615479.000000</td>\n",
       "      <td>0.000000</td>\n",
       "      <td>3.000000</td>\n",
       "      <td>248.000000</td>\n",
       "      <td>2.000000</td>\n",
       "      <td>14.000000</td>\n",
       "      <td>16.000000</td>\n",
       "    </tr>\n",
       "    <tr>\n",
       "      <th>75%</th>\n",
       "      <td>637387.250000</td>\n",
       "      <td>1.000000</td>\n",
       "      <td>5.000000</td>\n",
       "      <td>936.000000</td>\n",
       "      <td>3.000000</td>\n",
       "      <td>15.000000</td>\n",
       "      <td>18.000000</td>\n",
       "    </tr>\n",
       "    <tr>\n",
       "      <th>max</th>\n",
       "      <td>660737.000000</td>\n",
       "      <td>1.000000</td>\n",
       "      <td>251.000000</td>\n",
       "      <td>2272.000000</td>\n",
       "      <td>55.000000</td>\n",
       "      <td>18.000000</td>\n",
       "      <td>20.000000</td>\n",
       "    </tr>\n",
       "  </tbody>\n",
       "</table>\n",
       "</div>"
      ],
      "text/plain": [
       "         Lead Number    Converted  TotalVisits  Total Time Spent on Website  \\\n",
       "count    9240.000000  9240.000000  9103.000000                  9240.000000   \n",
       "mean   617188.435606     0.385390     3.445238                   487.698268   \n",
       "std     23405.995698     0.486714     4.854853                   548.021466   \n",
       "min    579533.000000     0.000000     0.000000                     0.000000   \n",
       "25%    596484.500000     0.000000     1.000000                    12.000000   \n",
       "50%    615479.000000     0.000000     3.000000                   248.000000   \n",
       "75%    637387.250000     1.000000     5.000000                   936.000000   \n",
       "max    660737.000000     1.000000   251.000000                  2272.000000   \n",
       "\n",
       "       Page Views Per Visit  Asymmetrique Activity Score  \\\n",
       "count           9103.000000                  5022.000000   \n",
       "mean               2.362820                    14.306252   \n",
       "std                2.161418                     1.386694   \n",
       "min                0.000000                     7.000000   \n",
       "25%                1.000000                    14.000000   \n",
       "50%                2.000000                    14.000000   \n",
       "75%                3.000000                    15.000000   \n",
       "max               55.000000                    18.000000   \n",
       "\n",
       "       Asymmetrique Profile Score  \n",
       "count                 5022.000000  \n",
       "mean                    16.344883  \n",
       "std                      1.811395  \n",
       "min                     11.000000  \n",
       "25%                     15.000000  \n",
       "50%                     16.000000  \n",
       "75%                     18.000000  \n",
       "max                     20.000000  "
      ]
     },
     "execution_count": 135,
     "metadata": {},
     "output_type": "execute_result"
    }
   ],
   "source": [
    "# inspect leaddf dataframe\n",
    "\n",
    "print(\"*********************************  Info *******************************************\") \n",
    "print(leaddf.info())\n",
    "print(\"*********************************  Shape ******************************************\") \n",
    "print(leaddf.shape)\n",
    "print(\"**************************** Columns having null values *****************************\")\n",
    "print(leaddf.isnull().any())\n",
    "print(\"**************************** Describe *****************************\")\n",
    "leaddf.describe()"
   ]
  },
  {
   "cell_type": "markdown",
   "id": "1b19ba8b",
   "metadata": {},
   "source": [
    "# Data Cleaning"
   ]
  },
  {
   "cell_type": "code",
   "execution_count": 136,
   "id": "6f6b3f71",
   "metadata": {},
   "outputs": [
    {
     "data": {
      "text/plain": [
       "Prospect ID                                       object\n",
       "Lead Number                                        int64\n",
       "Lead Origin                                       object\n",
       "Lead Source                                       object\n",
       "Do Not Email                                      object\n",
       "Do Not Call                                       object\n",
       "Converted                                          int64\n",
       "TotalVisits                                      float64\n",
       "Total Time Spent on Website                        int64\n",
       "Page Views Per Visit                             float64\n",
       "Last Activity                                     object\n",
       "Country                                           object\n",
       "Specialization                                    object\n",
       "How did you hear about X Education                object\n",
       "What is your current occupation                   object\n",
       "What matters most to you in choosing a course     object\n",
       "Search                                            object\n",
       "Magazine                                          object\n",
       "Newspaper Article                                 object\n",
       "X Education Forums                                object\n",
       "Newspaper                                         object\n",
       "Digital Advertisement                             object\n",
       "Through Recommendations                           object\n",
       "Receive More Updates About Our Courses            object\n",
       "Tags                                              object\n",
       "Lead Quality                                      object\n",
       "Update me on Supply Chain Content                 object\n",
       "Get updates on DM Content                         object\n",
       "Lead Profile                                      object\n",
       "City                                              object\n",
       "Asymmetrique Activity Index                       object\n",
       "Asymmetrique Profile Index                        object\n",
       "Asymmetrique Activity Score                      float64\n",
       "Asymmetrique Profile Score                       float64\n",
       "I agree to pay the amount through cheque          object\n",
       "A free copy of Mastering The Interview            object\n",
       "Last Notable Activity                             object\n",
       "dtype: object"
      ]
     },
     "execution_count": 136,
     "metadata": {},
     "output_type": "execute_result"
    }
   ],
   "source": [
    "leaddf.dtypes"
   ]
  },
  {
   "cell_type": "markdown",
   "id": "6ef0d7bd",
   "metadata": {},
   "source": [
    "Following columns have a value called select. Convert those values as nan since the customer has not selected any options for \n",
    "these columns while entering the data.\n",
    "\n",
    "Specialization\n",
    "How did you hear about X Education\n",
    "Lead Profile\n",
    "City"
   ]
  },
  {
   "cell_type": "code",
   "execution_count": 137,
   "id": "d8b18380",
   "metadata": {},
   "outputs": [],
   "source": [
    "# Update 'Select' values to NaN.\n",
    "\n",
    "leaddf['Specialization'] = leaddf['Specialization'].replace('Select', np.nan)\n",
    "leaddf['How did you hear about X Education'] = leaddf['How did you hear about X Education'].replace('Select', np.nan)\n",
    "leaddf['Lead Profile'] = leaddf['Lead Profile'].replace('Select', np.nan)\n",
    "leaddf['City'] = leaddf['City'].replace('Select', np.nan)"
   ]
  },
  {
   "cell_type": "markdown",
   "id": "30069440",
   "metadata": {},
   "source": [
    "### Check for the null values"
   ]
  },
  {
   "cell_type": "code",
   "execution_count": 138,
   "id": "2e3c1b14",
   "metadata": {},
   "outputs": [
    {
     "name": "stdout",
     "output_type": "stream",
     "text": [
      "Prospect ID                                       0.00\n",
      "Lead Number                                       0.00\n",
      "Lead Origin                                       0.00\n",
      "Lead Source                                       0.39\n",
      "Do Not Email                                      0.00\n",
      "Do Not Call                                       0.00\n",
      "Converted                                         0.00\n",
      "TotalVisits                                       1.48\n",
      "Total Time Spent on Website                       0.00\n",
      "Page Views Per Visit                              1.48\n",
      "Last Activity                                     1.11\n",
      "Country                                          26.63\n",
      "Specialization                                   36.58\n",
      "How did you hear about X Education               78.46\n",
      "What is your current occupation                  29.11\n",
      "What matters most to you in choosing a course    29.32\n",
      "Search                                            0.00\n",
      "Magazine                                          0.00\n",
      "Newspaper Article                                 0.00\n",
      "X Education Forums                                0.00\n",
      "Newspaper                                         0.00\n",
      "Digital Advertisement                             0.00\n",
      "Through Recommendations                           0.00\n",
      "Receive More Updates About Our Courses            0.00\n",
      "Tags                                             36.29\n",
      "Lead Quality                                     51.59\n",
      "Update me on Supply Chain Content                 0.00\n",
      "Get updates on DM Content                         0.00\n",
      "Lead Profile                                     74.19\n",
      "City                                             39.71\n",
      "Asymmetrique Activity Index                      45.65\n",
      "Asymmetrique Profile Index                       45.65\n",
      "Asymmetrique Activity Score                      45.65\n",
      "Asymmetrique Profile Score                       45.65\n",
      "I agree to pay the amount through cheque          0.00\n",
      "A free copy of Mastering The Interview            0.00\n",
      "Last Notable Activity                             0.00\n",
      "dtype: float64\n"
     ]
    }
   ],
   "source": [
    "percent_missing = round(100*(leaddf.isnull().sum()/len(leaddf.index)), 2)\n",
    "print(percent_missing)"
   ]
  },
  {
   "cell_type": "markdown",
   "id": "52c5ef59",
   "metadata": {},
   "source": [
    "#### Listing the columns having more than 30 % of Null values"
   ]
  },
  {
   "cell_type": "code",
   "execution_count": 139,
   "id": "abcbfd00",
   "metadata": {},
   "outputs": [
    {
     "name": "stdout",
     "output_type": "stream",
     "text": [
      "Index(['Specialization', 'How did you hear about X Education', 'Tags',\n",
      "       'Lead Quality', 'Lead Profile', 'City', 'Asymmetrique Activity Index',\n",
      "       'Asymmetrique Profile Index', 'Asymmetrique Activity Score',\n",
      "       'Asymmetrique Profile Score'],\n",
      "      dtype='object')\n"
     ]
    }
   ],
   "source": [
    "colswithhigerNullvalues=leaddf.columns[100*(leaddf.isnull().sum()/len(leaddf.index))>30]\n",
    "print(colswithhigerNullvalues)"
   ]
  },
  {
   "cell_type": "markdown",
   "id": "7ca5974a",
   "metadata": {},
   "source": [
    "#### Dropping all the columns with null values percentage greater than 30%"
   ]
  },
  {
   "cell_type": "code",
   "execution_count": 140,
   "id": "2b31aa7d",
   "metadata": {},
   "outputs": [],
   "source": [
    "leaddf1 = leaddf.drop(colswithhigerNullvalues, axis=1).copy()\n"
   ]
  },
  {
   "cell_type": "code",
   "execution_count": 141,
   "id": "f2d2b094",
   "metadata": {},
   "outputs": [
    {
     "data": {
      "text/plain": [
       "Prospect ID                                       0.00\n",
       "Lead Number                                       0.00\n",
       "Lead Origin                                       0.00\n",
       "Lead Source                                       0.39\n",
       "Do Not Email                                      0.00\n",
       "Do Not Call                                       0.00\n",
       "Converted                                         0.00\n",
       "TotalVisits                                       1.48\n",
       "Total Time Spent on Website                       0.00\n",
       "Page Views Per Visit                              1.48\n",
       "Last Activity                                     1.11\n",
       "Country                                          26.63\n",
       "What is your current occupation                  29.11\n",
       "What matters most to you in choosing a course    29.32\n",
       "Search                                            0.00\n",
       "Magazine                                          0.00\n",
       "Newspaper Article                                 0.00\n",
       "X Education Forums                                0.00\n",
       "Newspaper                                         0.00\n",
       "Digital Advertisement                             0.00\n",
       "Through Recommendations                           0.00\n",
       "Receive More Updates About Our Courses            0.00\n",
       "Update me on Supply Chain Content                 0.00\n",
       "Get updates on DM Content                         0.00\n",
       "I agree to pay the amount through cheque          0.00\n",
       "A free copy of Mastering The Interview            0.00\n",
       "Last Notable Activity                             0.00\n",
       "dtype: float64"
      ]
     },
     "execution_count": 141,
     "metadata": {},
     "output_type": "execute_result"
    }
   ],
   "source": [
    "round(100*(leaddf1.isnull().sum()/len(leaddf1)),2)"
   ]
  },
  {
   "cell_type": "code",
   "execution_count": 142,
   "id": "ebeaa670",
   "metadata": {},
   "outputs": [
    {
     "name": "stdout",
     "output_type": "stream",
     "text": [
      "Index(['Lead Source', 'TotalVisits', 'Page Views Per Visit', 'Last Activity',\n",
      "       'Country', 'What is your current occupation',\n",
      "       'What matters most to you in choosing a course'],\n",
      "      dtype='object')\n"
     ]
    }
   ],
   "source": [
    "# Treating the columns with null values less than 30%\n",
    "\n",
    "remaining_missing = leaddf1.columns[(100*(leaddf1.isnull().sum()/len(leaddf1)) < 30) & (100*(leaddf1.isnull().sum()/len(leaddf1)) >0) ]\n",
    "print(remaining_missing)"
   ]
  },
  {
   "cell_type": "code",
   "execution_count": 143,
   "id": "1ff959f1",
   "metadata": {},
   "outputs": [
    {
     "data": {
      "text/plain": [
       "Unemployed              5600\n",
       "Working Professional     706\n",
       "Student                  210\n",
       "Other                     16\n",
       "Housewife                 10\n",
       "Businessman                8\n",
       "Name: What is your current occupation, dtype: int64"
      ]
     },
     "execution_count": 143,
     "metadata": {},
     "output_type": "execute_result"
    }
   ],
   "source": [
    "# Checking value counts of 'What is your current occupation' variable:-\n",
    "\n",
    "leaddf1['What is your current occupation'].value_counts()"
   ]
  },
  {
   "cell_type": "code",
   "execution_count": 144,
   "id": "2c366de8",
   "metadata": {},
   "outputs": [
    {
     "data": {
      "image/png": "[encoded data removed]",
      "text/plain": [
       "<Figure size 1080x360 with 1 Axes>"
      ]
     },
     "metadata": {
      "needs_background": "light"
     },
     "output_type": "display_data"
    }
   ],
   "source": [
    "\n",
    "plt.figure(figsize=(15,5))\n",
    "sns.countplot(leaddf1['What is your current occupation'])\n",
    "plt.show()"
   ]
  },
  {
   "cell_type": "markdown",
   "id": "dcec43a7",
   "metadata": {},
   "source": [
    "As we see that for 'What is your current occupation'  count of 'Unemployed' is highest but we will impute missing values with 'Other' considering \n",
    "we do not know current occupation of lead.So we will create a separate category called 'Other'."
   ]
  },
  {
   "cell_type": "code",
   "execution_count": 145,
   "id": "3f10de86",
   "metadata": {},
   "outputs": [],
   "source": [
    "leaddf1['What is your current occupation'].fillna('Other',inplace=True)"
   ]
  },
  {
   "cell_type": "code",
   "execution_count": 146,
   "id": "fd6d332e",
   "metadata": {},
   "outputs": [
    {
     "data": {
      "image/png": "[encoded data removed]",
      "text/plain": [
       "<Figure size 1080x360 with 1 Axes>"
      ]
     },
     "metadata": {
      "needs_background": "light"
     },
     "output_type": "display_data"
    }
   ],
   "source": [
    "\n",
    "plt.figure(figsize=(15,5))\n",
    "sns.countplot(leaddf1['What is your current occupation'])\n",
    "plt.show()"
   ]
  },
  {
   "cell_type": "code",
   "execution_count": 147,
   "id": "3d3085f1",
   "metadata": {},
   "outputs": [
    {
     "data": {
      "text/plain": [
       "Better Career Prospects      99.954065\n",
       "Flexibility & Convenience     0.030623\n",
       "Other                         0.015312\n",
       "Name: What matters most to you in choosing a course, dtype: float64"
      ]
     },
     "execution_count": 147,
     "metadata": {},
     "output_type": "execute_result"
    }
   ],
   "source": [
    "# Checking value count of 'What matters most to you in choosing a course' variable:-\n",
    "\n",
    "leaddf1['What matters most to you in choosing a course'].value_counts(normalize=True)*100"
   ]
  },
  {
   "cell_type": "code",
   "execution_count": 148,
   "id": "d446e63f",
   "metadata": {},
   "outputs": [
    {
     "data": {
      "image/png": "[encoded data removed]",
      "text/plain": [
       "<Figure size 1080x360 with 1 Axes>"
      ]
     },
     "metadata": {
      "needs_background": "light"
     },
     "output_type": "display_data"
    }
   ],
   "source": [
    "\n",
    "plt.figure(figsize=(15,5))\n",
    "sns.countplot(leaddf1['What matters most to you in choosing a course'])\n",
    "plt.show()"
   ]
  },
  {
   "cell_type": "markdown",
   "id": "c8637ee8",
   "metadata": {},
   "source": [
    " Since Better Career Prospects occurs around 70% of times in the What matters most to you in choosing a course column, and\n",
    " since the column also has around 29% as missing values, we shall go ahead and drop the column\n"
   ]
  },
  {
   "cell_type": "code",
   "execution_count": 149,
   "id": "63c2a0c0",
   "metadata": {},
   "outputs": [],
   "source": [
    "\n",
    "leaddf1 = leaddf1.drop(['What matters most to you in choosing a course'], axis=1)"
   ]
  },
  {
   "cell_type": "code",
   "execution_count": 150,
   "id": "7e122c72",
   "metadata": {},
   "outputs": [
    {
     "data": {
      "image/png": "[encoded data removed]",
      "text/plain": [
       "<Figure size 1080x360 with 1 Axes>"
      ]
     },
     "metadata": {
      "needs_background": "light"
     },
     "output_type": "display_data"
    }
   ],
   "source": [
    "# Plotting count plot to visualize counts of data of 'Country' column:-\n",
    "\n",
    "plt.figure(figsize=(15,5))\n",
    "sns.countplot(leaddf1['Country'])\n",
    "plt.xticks(rotation=90)\n",
    "plt.show()"
   ]
  },
  {
   "cell_type": "markdown",
   "id": "18debbe3",
   "metadata": {},
   "source": [
    "Since \"India\" occurs around 70% of times in the Country column, and country column also has around 27% as missing values, \n",
    " we shall go ahead and drop the column"
   ]
  },
  {
   "cell_type": "code",
   "execution_count": 151,
   "id": "40c9e298",
   "metadata": {},
   "outputs": [],
   "source": [
    "\n",
    "leaddf1 = leaddf1.drop(['Country'], axis=1)"
   ]
  },
  {
   "cell_type": "code",
   "execution_count": 152,
   "id": "ec016d50",
   "metadata": {},
   "outputs": [
    {
     "data": {
      "text/plain": [
       "Google               2868\n",
       "Direct Traffic       2543\n",
       "Olark Chat           1755\n",
       "Organic Search       1154\n",
       "Reference             534\n",
       "Welingak Website      142\n",
       "Referral Sites        125\n",
       "Facebook               55\n",
       "bing                    6\n",
       "google                  5\n",
       "Click2call              4\n",
       "Press_Release           2\n",
       "Social Media            2\n",
       "Live Chat               2\n",
       "youtubechannel          1\n",
       "testone                 1\n",
       "Pay per Click Ads       1\n",
       "welearnblog_Home        1\n",
       "WeLearn                 1\n",
       "blog                    1\n",
       "NC_EDM                  1\n",
       "Name: Lead Source, dtype: int64"
      ]
     },
     "execution_count": 152,
     "metadata": {},
     "output_type": "execute_result"
    }
   ],
   "source": [
    "# Null value treatment for 'Lead Source'\n",
    "\n",
    "leaddf1['Lead Source'].value_counts()"
   ]
  },
  {
   "cell_type": "markdown",
   "id": "fc4845a7",
   "metadata": {},
   "source": [
    "As noticed from the above value counts list there are two vlaues for Google and google.So lets fix this"
   ]
  },
  {
   "cell_type": "code",
   "execution_count": 153,
   "id": "5659b748",
   "metadata": {},
   "outputs": [],
   "source": [
    "leaddf1['Lead Source']=leaddf1['Lead Source'].replace('google','Google')"
   ]
  },
  {
   "cell_type": "markdown",
   "id": "547981ba",
   "metadata": {},
   "source": [
    "As Google is has the highest value count, lets replace the null values with 'Goole'"
   ]
  },
  {
   "cell_type": "code",
   "execution_count": 154,
   "id": "352bb3ec",
   "metadata": {},
   "outputs": [],
   "source": [
    "leaddf1['Lead Source'].fillna('Google',inplace=True)"
   ]
  },
  {
   "cell_type": "code",
   "execution_count": 155,
   "id": "a7c39f3c",
   "metadata": {},
   "outputs": [
    {
     "data": {
      "image/png": "[encoded data removed]",
      "text/plain": [
       "<Figure size 1080x360 with 1 Axes>"
      ]
     },
     "metadata": {
      "needs_background": "light"
     },
     "output_type": "display_data"
    }
   ],
   "source": [
    "plt.figure(figsize=(15,5))\n",
    "sns.countplot(leaddf1['Lead Source'])\n",
    "plt.xticks(rotation=90)\n",
    "plt.show()"
   ]
  },
  {
   "cell_type": "code",
   "execution_count": 156,
   "id": "a47826fc",
   "metadata": {},
   "outputs": [
    {
     "data": {
      "text/plain": [
       "Prospect ID                                 0.00\n",
       "Lead Number                                 0.00\n",
       "Lead Origin                                 0.00\n",
       "Lead Source                                 0.00\n",
       "Do Not Email                                0.00\n",
       "Do Not Call                                 0.00\n",
       "Converted                                   0.00\n",
       "TotalVisits                                 1.48\n",
       "Total Time Spent on Website                 0.00\n",
       "Page Views Per Visit                        1.48\n",
       "Last Activity                               1.11\n",
       "What is your current occupation             0.00\n",
       "Search                                      0.00\n",
       "Magazine                                    0.00\n",
       "Newspaper Article                           0.00\n",
       "X Education Forums                          0.00\n",
       "Newspaper                                   0.00\n",
       "Digital Advertisement                       0.00\n",
       "Through Recommendations                     0.00\n",
       "Receive More Updates About Our Courses      0.00\n",
       "Update me on Supply Chain Content           0.00\n",
       "Get updates on DM Content                   0.00\n",
       "I agree to pay the amount through cheque    0.00\n",
       "A free copy of Mastering The Interview      0.00\n",
       "Last Notable Activity                       0.00\n",
       "dtype: float64"
      ]
     },
     "execution_count": 156,
     "metadata": {},
     "output_type": "execute_result"
    }
   ],
   "source": [
    "round(100*(leaddf1.isnull().sum()/len(leaddf1)),2)"
   ]
  },
  {
   "cell_type": "code",
   "execution_count": 157,
   "id": "8883b3d0",
   "metadata": {},
   "outputs": [
    {
     "data": {
      "text/plain": [
       "0.0      2189\n",
       "2.0      1680\n",
       "3.0      1306\n",
       "4.0      1120\n",
       "5.0       783\n",
       "6.0       466\n",
       "1.0       395\n",
       "7.0       309\n",
       "8.0       224\n",
       "9.0       164\n",
       "10.0      114\n",
       "11.0       86\n",
       "13.0       48\n",
       "12.0       45\n",
       "14.0       36\n",
       "16.0       21\n",
       "15.0       18\n",
       "17.0       16\n",
       "18.0       15\n",
       "20.0       12\n",
       "19.0        9\n",
       "21.0        6\n",
       "23.0        6\n",
       "24.0        5\n",
       "25.0        5\n",
       "27.0        5\n",
       "22.0        3\n",
       "29.0        2\n",
       "28.0        2\n",
       "26.0        2\n",
       "141.0       1\n",
       "55.0        1\n",
       "30.0        1\n",
       "43.0        1\n",
       "74.0        1\n",
       "41.0        1\n",
       "54.0        1\n",
       "115.0       1\n",
       "251.0       1\n",
       "32.0        1\n",
       "42.0        1\n",
       "Name: TotalVisits, dtype: int64"
      ]
     },
     "execution_count": 157,
     "metadata": {},
     "output_type": "execute_result"
    }
   ],
   "source": [
    "# Check the value counts for the column Total Visits\n",
    "\n",
    "leaddf1['TotalVisits'].value_counts()"
   ]
  },
  {
   "cell_type": "markdown",
   "id": "5689eb92",
   "metadata": {},
   "source": [
    "Replace the null values of Total visits with median"
   ]
  },
  {
   "cell_type": "code",
   "execution_count": 158,
   "id": "eebe12fa",
   "metadata": {},
   "outputs": [],
   "source": [
    "leaddf1['TotalVisits'] = leaddf1['TotalVisits'].replace(np.nan, leaddf1['TotalVisits'].median())\n"
   ]
  },
  {
   "cell_type": "code",
   "execution_count": 159,
   "id": "d1308779",
   "metadata": {},
   "outputs": [
    {
     "data": {
      "text/plain": [
       "0.00    2189\n",
       "2.00    1795\n",
       "3.00    1196\n",
       "4.00     896\n",
       "1.00     651\n",
       "        ... \n",
       "3.43       1\n",
       "2.56       1\n",
       "6.33       1\n",
       "1.64       1\n",
       "2.08       1\n",
       "Name: Page Views Per Visit, Length: 114, dtype: int64"
      ]
     },
     "execution_count": 159,
     "metadata": {},
     "output_type": "execute_result"
    }
   ],
   "source": [
    "\n",
    "# Check the value counts for Page Views Per Visit\n",
    "\n",
    "leaddf1['Page Views Per Visit'].value_counts()"
   ]
  },
  {
   "cell_type": "markdown",
   "id": "0254afb6",
   "metadata": {},
   "source": [
    "Replace the null values of 'Page Views Per Visit' with median"
   ]
  },
  {
   "cell_type": "code",
   "execution_count": 160,
   "id": "095f070d",
   "metadata": {},
   "outputs": [],
   "source": [
    "leaddf1['Page Views Per Visit'] = leaddf1['Page Views Per Visit'].replace(np.nan, leaddf1['Page Views Per Visit'].median())"
   ]
  },
  {
   "cell_type": "code",
   "execution_count": 161,
   "id": "590af354",
   "metadata": {},
   "outputs": [
    {
     "data": {
      "text/plain": [
       "Email Opened                    3437\n",
       "SMS Sent                        2745\n",
       "Olark Chat Conversation          973\n",
       "Page Visited on Website          640\n",
       "Converted to Lead                428\n",
       "Email Bounced                    326\n",
       "Email Link Clicked               267\n",
       "Form Submitted on Website        116\n",
       "Unreachable                       93\n",
       "Unsubscribed                      61\n",
       "Had a Phone Conversation          30\n",
       "Approached upfront                 9\n",
       "View in browser link Clicked       6\n",
       "Email Received                     2\n",
       "Email Marked Spam                  2\n",
       "Visited Booth in Tradeshow         1\n",
       "Resubscribed to emails             1\n",
       "Name: Last Activity, dtype: int64"
      ]
     },
     "execution_count": 161,
     "metadata": {},
     "output_type": "execute_result"
    }
   ],
   "source": [
    "# Check the value counts for the column Last Activity\n",
    "\n",
    "leaddf1['Last Activity'].value_counts()"
   ]
  },
  {
   "cell_type": "markdown",
   "id": "c2157c19",
   "metadata": {},
   "source": [
    "As we do not have any information of what the last activity of the customer would have been, we can add a new category \n",
    " called 'Other' for the null values"
   ]
  },
  {
   "cell_type": "code",
   "execution_count": 162,
   "id": "629fab06",
   "metadata": {},
   "outputs": [],
   "source": [
    "leaddf1['Last Activity'].fillna(\"Other\",inplace=True)"
   ]
  },
  {
   "cell_type": "code",
   "execution_count": 163,
   "id": "7f5eb129",
   "metadata": {},
   "outputs": [
    {
     "data": {
      "text/plain": [
       "Prospect ID                                 0.0\n",
       "Lead Number                                 0.0\n",
       "Lead Origin                                 0.0\n",
       "Lead Source                                 0.0\n",
       "Do Not Email                                0.0\n",
       "Do Not Call                                 0.0\n",
       "Converted                                   0.0\n",
       "TotalVisits                                 0.0\n",
       "Total Time Spent on Website                 0.0\n",
       "Page Views Per Visit                        0.0\n",
       "Last Activity                               0.0\n",
       "What is your current occupation             0.0\n",
       "Search                                      0.0\n",
       "Magazine                                    0.0\n",
       "Newspaper Article                           0.0\n",
       "X Education Forums                          0.0\n",
       "Newspaper                                   0.0\n",
       "Digital Advertisement                       0.0\n",
       "Through Recommendations                     0.0\n",
       "Receive More Updates About Our Courses      0.0\n",
       "Update me on Supply Chain Content           0.0\n",
       "Get updates on DM Content                   0.0\n",
       "I agree to pay the amount through cheque    0.0\n",
       "A free copy of Mastering The Interview      0.0\n",
       "Last Notable Activity                       0.0\n",
       "dtype: float64"
      ]
     },
     "execution_count": 163,
     "metadata": {},
     "output_type": "execute_result"
    }
   ],
   "source": [
    "round(100*(leaddf1.isnull().sum()/len(leaddf1)),2)"
   ]
  },
  {
   "cell_type": "markdown",
   "id": "ad91e5c6",
   "metadata": {},
   "source": [
    "Now we see that there are no columns with null values, so we are good to go with futher data validations"
   ]
  },
  {
   "cell_type": "markdown",
   "id": "1cf10a4d",
   "metadata": {},
   "source": [
    "When we see that Prospect ID and Lead Number have unique Id and will not make any significant impact on our model.So we can drop it."
   ]
  },
  {
   "cell_type": "code",
   "execution_count": 164,
   "id": "4dd1fd05",
   "metadata": {},
   "outputs": [],
   "source": [
    "leaddf1 = leaddf1.drop(['Lead Number'], axis=1)\n",
    "leaddf1 = leaddf1.drop(['Prospect ID'], axis=1)"
   ]
  },
  {
   "cell_type": "code",
   "execution_count": 165,
   "id": "d97dc08a",
   "metadata": {},
   "outputs": [
    {
     "data": {
      "text/plain": [
       "Index(['Lead Origin', 'Lead Source', 'Do Not Email', 'Do Not Call',\n",
       "       'Converted', 'TotalVisits', 'Total Time Spent on Website',\n",
       "       'Page Views Per Visit', 'Last Activity',\n",
       "       'What is your current occupation', 'Search', 'Magazine',\n",
       "       'Newspaper Article', 'X Education Forums', 'Newspaper',\n",
       "       'Digital Advertisement', 'Through Recommendations',\n",
       "       'Receive More Updates About Our Courses',\n",
       "       'Update me on Supply Chain Content', 'Get updates on DM Content',\n",
       "       'I agree to pay the amount through cheque',\n",
       "       'A free copy of Mastering The Interview', 'Last Notable Activity'],\n",
       "      dtype='object')"
      ]
     },
     "execution_count": 165,
     "metadata": {},
     "output_type": "execute_result"
    }
   ],
   "source": [
    "leaddf1.columns"
   ]
  },
  {
   "cell_type": "code",
   "execution_count": 166,
   "id": "20fd15d5",
   "metadata": {},
   "outputs": [
    {
     "name": "stdout",
     "output_type": "stream",
     "text": [
      "Value counts of  {'Lead Origin'}\n",
      "Landing Page Submission    4886\n",
      "API                        3580\n",
      "Lead Add Form               718\n",
      "Lead Import                  55\n",
      "Quick Add Form                1\n",
      "Name: Lead Origin, dtype: int64\n",
      "*******\n",
      "Value counts of  {'Lead Source'}\n",
      "Google               2909\n",
      "Direct Traffic       2543\n",
      "Olark Chat           1755\n",
      "Organic Search       1154\n",
      "Reference             534\n",
      "Welingak Website      142\n",
      "Referral Sites        125\n",
      "Facebook               55\n",
      "bing                    6\n",
      "Click2call              4\n",
      "Social Media            2\n",
      "Live Chat               2\n",
      "Press_Release           2\n",
      "Pay per Click Ads       1\n",
      "blog                    1\n",
      "WeLearn                 1\n",
      "welearnblog_Home        1\n",
      "youtubechannel          1\n",
      "testone                 1\n",
      "NC_EDM                  1\n",
      "Name: Lead Source, dtype: int64\n",
      "*******\n",
      "Value counts of  {'Do Not Email'}\n",
      "No     8506\n",
      "Yes     734\n",
      "Name: Do Not Email, dtype: int64\n",
      "*******\n",
      "Value counts of  {'Do Not Call'}\n",
      "No     9238\n",
      "Yes       2\n",
      "Name: Do Not Call, dtype: int64\n",
      "*******\n",
      "Value counts of  {'Converted'}\n",
      "0    5679\n",
      "1    3561\n",
      "Name: Converted, dtype: int64\n",
      "*******\n",
      "Value counts of  {'TotalVisits'}\n",
      "0.0      2189\n",
      "2.0      1680\n",
      "3.0      1443\n",
      "4.0      1120\n",
      "5.0       783\n",
      "6.0       466\n",
      "1.0       395\n",
      "7.0       309\n",
      "8.0       224\n",
      "9.0       164\n",
      "10.0      114\n",
      "11.0       86\n",
      "13.0       48\n",
      "12.0       45\n",
      "14.0       36\n",
      "16.0       21\n",
      "15.0       18\n",
      "17.0       16\n",
      "18.0       15\n",
      "20.0       12\n",
      "19.0        9\n",
      "21.0        6\n",
      "23.0        6\n",
      "24.0        5\n",
      "25.0        5\n",
      "27.0        5\n",
      "22.0        3\n",
      "29.0        2\n",
      "28.0        2\n",
      "26.0        2\n",
      "141.0       1\n",
      "55.0        1\n",
      "30.0        1\n",
      "43.0        1\n",
      "74.0        1\n",
      "41.0        1\n",
      "54.0        1\n",
      "115.0       1\n",
      "251.0       1\n",
      "32.0        1\n",
      "42.0        1\n",
      "Name: TotalVisits, dtype: int64\n",
      "*******\n",
      "Value counts of  {'Total Time Spent on Website'}\n",
      "0       2193\n",
      "60        19\n",
      "74        18\n",
      "75        18\n",
      "127       18\n",
      "        ... \n",
      "1701       1\n",
      "1952       1\n",
      "1229       1\n",
      "1743       1\n",
      "927        1\n",
      "Name: Total Time Spent on Website, Length: 1731, dtype: int64\n",
      "*******\n",
      "Value counts of  {'Page Views Per Visit'}\n",
      "0.00    2189\n",
      "2.00    1932\n",
      "3.00    1196\n",
      "4.00     896\n",
      "1.00     651\n",
      "        ... \n",
      "3.43       1\n",
      "2.56       1\n",
      "6.33       1\n",
      "1.64       1\n",
      "2.08       1\n",
      "Name: Page Views Per Visit, Length: 114, dtype: int64\n",
      "*******\n",
      "Value counts of  {'Last Activity'}\n",
      "Email Opened                    3437\n",
      "SMS Sent                        2745\n",
      "Olark Chat Conversation          973\n",
      "Page Visited on Website          640\n",
      "Converted to Lead                428\n",
      "Email Bounced                    326\n",
      "Email Link Clicked               267\n",
      "Form Submitted on Website        116\n",
      "Other                            103\n",
      "Unreachable                       93\n",
      "Unsubscribed                      61\n",
      "Had a Phone Conversation          30\n",
      "Approached upfront                 9\n",
      "View in browser link Clicked       6\n",
      "Email Received                     2\n",
      "Email Marked Spam                  2\n",
      "Visited Booth in Tradeshow         1\n",
      "Resubscribed to emails             1\n",
      "Name: Last Activity, dtype: int64\n",
      "*******\n",
      "Value counts of  {'What is your current occupation'}\n",
      "Unemployed              5600\n",
      "Other                   2706\n",
      "Working Professional     706\n",
      "Student                  210\n",
      "Housewife                 10\n",
      "Businessman                8\n",
      "Name: What is your current occupation, dtype: int64\n",
      "*******\n",
      "Value counts of  {'Search'}\n",
      "No     9226\n",
      "Yes      14\n",
      "Name: Search, dtype: int64\n",
      "*******\n",
      "Value counts of  {'Magazine'}\n",
      "No    9240\n",
      "Name: Magazine, dtype: int64\n",
      "*******\n",
      "Value counts of  {'Newspaper Article'}\n",
      "No     9238\n",
      "Yes       2\n",
      "Name: Newspaper Article, dtype: int64\n",
      "*******\n",
      "Value counts of  {'X Education Forums'}\n",
      "No     9239\n",
      "Yes       1\n",
      "Name: X Education Forums, dtype: int64\n",
      "*******\n",
      "Value counts of  {'Newspaper'}\n",
      "No     9239\n",
      "Yes       1\n",
      "Name: Newspaper, dtype: int64\n",
      "*******\n",
      "Value counts of  {'Digital Advertisement'}\n",
      "No     9236\n",
      "Yes       4\n",
      "Name: Digital Advertisement, dtype: int64\n",
      "*******\n",
      "Value counts of  {'Through Recommendations'}\n",
      "No     9233\n",
      "Yes       7\n",
      "Name: Through Recommendations, dtype: int64\n",
      "*******\n",
      "Value counts of  {'Receive More Updates About Our Courses'}\n",
      "No    9240\n",
      "Name: Receive More Updates About Our Courses, dtype: int64\n",
      "*******\n",
      "Value counts of  {'Update me on Supply Chain Content'}\n",
      "No    9240\n",
      "Name: Update me on Supply Chain Content, dtype: int64\n",
      "*******\n",
      "Value counts of  {'Get updates on DM Content'}\n",
      "No    9240\n",
      "Name: Get updates on DM Content, dtype: int64\n",
      "*******\n",
      "Value counts of  {'I agree to pay the amount through cheque'}\n",
      "No    9240\n",
      "Name: I agree to pay the amount through cheque, dtype: int64\n",
      "*******\n",
      "Value counts of  {'A free copy of Mastering The Interview'}\n",
      "No     6352\n",
      "Yes    2888\n",
      "Name: A free copy of Mastering The Interview, dtype: int64\n",
      "*******\n",
      "Value counts of  {'Last Notable Activity'}\n",
      "Modified                        3407\n",
      "Email Opened                    2827\n",
      "SMS Sent                        2172\n",
      "Page Visited on Website          318\n",
      "Olark Chat Conversation          183\n",
      "Email Link Clicked               173\n",
      "Email Bounced                     60\n",
      "Unsubscribed                      47\n",
      "Unreachable                       32\n",
      "Had a Phone Conversation          14\n",
      "Email Marked Spam                  2\n",
      "Approached upfront                 1\n",
      "Resubscribed to emails             1\n",
      "View in browser link Clicked       1\n",
      "Form Submitted on Website          1\n",
      "Email Received                     1\n",
      "Name: Last Notable Activity, dtype: int64\n",
      "*******\n"
     ]
    }
   ],
   "source": [
    "for i in list(leaddf1.iloc[:,:]):\n",
    "    print(\"Value counts of \",{i})\n",
    "    print(leaddf1[i].value_counts())\n",
    "    print(\"*******\")"
   ]
  },
  {
   "cell_type": "markdown",
   "id": "f611a4fd",
   "metadata": {},
   "source": [
    "Since the following columns have only one value \"No\" in all the rows, we can eliminate the columns : Magazine Receive More Updates About Our Courses Update me on Supply Chain Content Get updates on DM Content I agree to pay the amount through cheque"
   ]
  },
  {
   "cell_type": "code",
   "execution_count": 167,
   "id": "795895ef",
   "metadata": {},
   "outputs": [],
   "source": [
    "leaddf1 = leaddf1.drop(['Magazine', 'Receive More Updates About Our Courses', 'Update me on Supply Chain Content', \n",
    "                          'Get updates on DM Content', 'I agree to pay the amount through cheque'], axis=1)"
   ]
  },
  {
   "cell_type": "markdown",
   "id": "21bb11bb",
   "metadata": {},
   "source": [
    "### Outlier treatment:"
   ]
  },
  {
   "cell_type": "markdown",
   "id": "692ba242",
   "metadata": {},
   "source": [
    "Check the outliers at 25%,50%,75%,90%,95% and above"
   ]
  },
  {
   "cell_type": "code",
   "execution_count": 168,
   "id": "c5365a27",
   "metadata": {},
   "outputs": [
    {
     "data": {
      "text/html": [
       "<div>\n",
       "<style scoped>\n",
       "    .dataframe tbody tr th:only-of-type {\n",
       "        vertical-align: middle;\n",
       "    }\n",
       "\n",
       "    .dataframe tbody tr th {\n",
       "        vertical-align: top;\n",
       "    }\n",
       "\n",
       "    .dataframe thead th {\n",
       "        text-align: right;\n",
       "    }\n",
       "</style>\n",
       "<table border=\"1\" class=\"dataframe\">\n",
       "  <thead>\n",
       "    <tr style=\"text-align: right;\">\n",
       "      <th></th>\n",
       "      <th>Converted</th>\n",
       "      <th>TotalVisits</th>\n",
       "      <th>Total Time Spent on Website</th>\n",
       "      <th>Page Views Per Visit</th>\n",
       "    </tr>\n",
       "  </thead>\n",
       "  <tbody>\n",
       "    <tr>\n",
       "      <th>count</th>\n",
       "      <td>9240.000000</td>\n",
       "      <td>9240.000000</td>\n",
       "      <td>9240.000000</td>\n",
       "      <td>9240.000000</td>\n",
       "    </tr>\n",
       "    <tr>\n",
       "      <th>mean</th>\n",
       "      <td>0.385390</td>\n",
       "      <td>3.438636</td>\n",
       "      <td>487.698268</td>\n",
       "      <td>2.357440</td>\n",
       "    </tr>\n",
       "    <tr>\n",
       "      <th>std</th>\n",
       "      <td>0.486714</td>\n",
       "      <td>4.819024</td>\n",
       "      <td>548.021466</td>\n",
       "      <td>2.145781</td>\n",
       "    </tr>\n",
       "    <tr>\n",
       "      <th>min</th>\n",
       "      <td>0.000000</td>\n",
       "      <td>0.000000</td>\n",
       "      <td>0.000000</td>\n",
       "      <td>0.000000</td>\n",
       "    </tr>\n",
       "    <tr>\n",
       "      <th>25%</th>\n",
       "      <td>0.000000</td>\n",
       "      <td>1.000000</td>\n",
       "      <td>12.000000</td>\n",
       "      <td>1.000000</td>\n",
       "    </tr>\n",
       "    <tr>\n",
       "      <th>50%</th>\n",
       "      <td>0.000000</td>\n",
       "      <td>3.000000</td>\n",
       "      <td>248.000000</td>\n",
       "      <td>2.000000</td>\n",
       "    </tr>\n",
       "    <tr>\n",
       "      <th>75%</th>\n",
       "      <td>1.000000</td>\n",
       "      <td>5.000000</td>\n",
       "      <td>936.000000</td>\n",
       "      <td>3.000000</td>\n",
       "    </tr>\n",
       "    <tr>\n",
       "      <th>90%</th>\n",
       "      <td>1.000000</td>\n",
       "      <td>7.000000</td>\n",
       "      <td>1380.000000</td>\n",
       "      <td>5.000000</td>\n",
       "    </tr>\n",
       "    <tr>\n",
       "      <th>95%</th>\n",
       "      <td>1.000000</td>\n",
       "      <td>10.000000</td>\n",
       "      <td>1562.000000</td>\n",
       "      <td>6.000000</td>\n",
       "    </tr>\n",
       "    <tr>\n",
       "      <th>99%</th>\n",
       "      <td>1.000000</td>\n",
       "      <td>17.000000</td>\n",
       "      <td>1840.610000</td>\n",
       "      <td>9.000000</td>\n",
       "    </tr>\n",
       "    <tr>\n",
       "      <th>max</th>\n",
       "      <td>1.000000</td>\n",
       "      <td>251.000000</td>\n",
       "      <td>2272.000000</td>\n",
       "      <td>55.000000</td>\n",
       "    </tr>\n",
       "  </tbody>\n",
       "</table>\n",
       "</div>"
      ],
      "text/plain": [
       "         Converted  TotalVisits  Total Time Spent on Website  \\\n",
       "count  9240.000000  9240.000000                  9240.000000   \n",
       "mean      0.385390     3.438636                   487.698268   \n",
       "std       0.486714     4.819024                   548.021466   \n",
       "min       0.000000     0.000000                     0.000000   \n",
       "25%       0.000000     1.000000                    12.000000   \n",
       "50%       0.000000     3.000000                   248.000000   \n",
       "75%       1.000000     5.000000                   936.000000   \n",
       "90%       1.000000     7.000000                  1380.000000   \n",
       "95%       1.000000    10.000000                  1562.000000   \n",
       "99%       1.000000    17.000000                  1840.610000   \n",
       "max       1.000000   251.000000                  2272.000000   \n",
       "\n",
       "       Page Views Per Visit  \n",
       "count           9240.000000  \n",
       "mean               2.357440  \n",
       "std                2.145781  \n",
       "min                0.000000  \n",
       "25%                1.000000  \n",
       "50%                2.000000  \n",
       "75%                3.000000  \n",
       "90%                5.000000  \n",
       "95%                6.000000  \n",
       "99%                9.000000  \n",
       "max               55.000000  "
      ]
     },
     "execution_count": 168,
     "metadata": {},
     "output_type": "execute_result"
    }
   ],
   "source": [
    "leaddf1.describe(percentiles=[.25,.5,.75,.90,.95,.99])"
   ]
  },
  {
   "cell_type": "code",
   "execution_count": 171,
   "id": "0d1cc8c5",
   "metadata": {},
   "outputs": [
    {
     "data": {
      "image/png": "[encoded data removed]",
      "text/plain": [
       "<Figure size 1440x1800 with 2 Axes>"
      ]
     },
     "metadata": {
      "needs_background": "light"
     },
     "output_type": "display_data"
    }
   ],
   "source": [
    "plt.figure(figsize=(20, 25))\n",
    "plt.subplot(4,2,1)\n",
    "sns.boxplot(y = 'TotalVisits', palette='Set3', data = leaddf1)\n",
    "\n",
    "plt.subplot(4,2,2)\n",
    "sns.boxplot(y = 'Page Views Per Visit', palette='Set3', data = leaddf1)\n",
    "plt.show()"
   ]
  },
  {
   "cell_type": "markdown",
   "id": "5f2e2059",
   "metadata": {},
   "source": [
    "From the above percentiles we can see that outliers present in Total Visits and Page views per visit"
   ]
  },
  {
   "cell_type": "markdown",
   "id": "4ac4cc83",
   "metadata": {},
   "source": [
    "Remove the outliers beyond 99% for both Total visits and Page Views Per Visit"
   ]
  },
  {
   "cell_type": "code",
   "execution_count": 173,
   "id": "81c596ee",
   "metadata": {},
   "outputs": [
    {
     "data": {
      "text/plain": [
       "count    8679.000000\n",
       "mean        2.075404\n",
       "std         1.640965\n",
       "min         0.000000\n",
       "25%         0.000000\n",
       "50%         2.000000\n",
       "75%         3.000000\n",
       "90%         4.000000\n",
       "95%         5.000000\n",
       "99%         6.000000\n",
       "max         6.000000\n",
       "Name: Page Views Per Visit, dtype: float64"
      ]
     },
     "execution_count": 173,
     "metadata": {},
     "output_type": "execute_result"
    }
   ],
   "source": [
    "high_quartile_page_visits = leaddf1['Page Views Per Visit'].quantile(0.99)\n",
    "leaddf1 = leaddf1[leaddf1[\"Page Views Per Visit\"] < high_quartile_page_visits]\n",
    "high_quartile_total_visits = leaddf1['TotalVisits'].quantile(0.99)\n",
    "leaddf1 = leaddf1[leaddf1[\"TotalVisits\"] < high_quartile_total_visits]\n",
    "leaddf1[\"Page Views Per Visit\"].describe(percentiles=[.25,.5,.75,.90,.95,.99])\n"
   ]
  },
  {
   "cell_type": "code",
   "execution_count": 174,
   "id": "87b683a5",
   "metadata": {},
   "outputs": [
    {
     "data": {
      "text/plain": [
       "count    8679.000000\n",
       "mean        2.813688\n",
       "std         2.416376\n",
       "min         0.000000\n",
       "25%         0.000000\n",
       "50%         3.000000\n",
       "75%         4.000000\n",
       "90%         6.000000\n",
       "95%         7.000000\n",
       "99%        10.000000\n",
       "max        11.000000\n",
       "Name: TotalVisits, dtype: float64"
      ]
     },
     "execution_count": 174,
     "metadata": {},
     "output_type": "execute_result"
    }
   ],
   "source": [
    "leaddf1[\"TotalVisits\"].describe(percentiles=[.25,.5,.75,.90,.95,.99])"
   ]
  },
  {
   "cell_type": "markdown",
   "id": "8960fb51",
   "metadata": {},
   "source": [
    "## EDA on Lead Data "
   ]
  },
  {
   "cell_type": "markdown",
   "id": "9e81f126",
   "metadata": {},
   "source": [
    "#### Univariate Analysis"
   ]
  },
  {
   "cell_type": "markdown",
   "id": "c35ae2ac",
   "metadata": {},
   "source": [
    "Checking the distribution of Converted (Target) column"
   ]
  },
  {
   "cell_type": "code",
   "execution_count": 175,
   "id": "0f277a08",
   "metadata": {},
   "outputs": [
    {
     "data": {
      "image/png": "[encoded data removed]",
      "text/plain": [
       "<Figure size 432x288 with 1 Axes>"
      ]
     },
     "metadata": {
      "needs_background": "light"
     },
     "output_type": "display_data"
    }
   ],
   "source": [
    "sns.countplot(leaddf1.Converted)\n",
    "plt.title(\"Distribution of Converted Variable\")\n",
    "plt.show()"
   ]
  },
  {
   "cell_type": "code",
   "execution_count": 210,
   "id": "91ed991c",
   "metadata": {},
   "outputs": [],
   "source": [
    "def categoricalVsTarget(colName):\n",
    "    plot = sns.catplot(x=colName, hue = \"Converted\", kind=\"count\", data=leadInfo, palette=\"Set2\", aspect = 3.5);\n",
    "    plt.title(f'{colName} Vs Converted', fontsize = 14)\n",
    "    plt.xlabel(colName, fontsize = 12)\n",
    "    plt.ylabel(\"Count\", fontsize = 12)\n",
    "    plt.xticks(rotation=90)\n",
    "    # Print the counts\n",
    "    ax = plot.facet_axis(0,0)\n",
    "    for p in ax.patches:\n",
    "        if np.isnan(p.get_height()):\n",
    "            height = 0\n",
    "            \n",
    "        else:\n",
    "            height = p.get_height()\n",
    "        height = int(height)\n",
    "        ax.text(p.get_x()+p.get_width()/2., height, height, fontsize=12, color='blue', ha='center', va='bottom')\n",
    "    plt.show()"
   ]
  },
  {
   "cell_type": "code",
   "execution_count": 213,
   "id": "f00ff4a6",
   "metadata": {},
   "outputs": [],
   "source": [
    "catCols=[\"Lead Origin\",\"Lead Source\",\"Do Not Email\",\"Do Not Call\",\"Last Activity\",\"What is your current occupation\",\n",
    "        \"Search\",\"Newspaper Article\",\"X Education Forums\",\"Newspaper\",\"Digital Advertisement\",\"Through Recommendations\",\n",
    "        \"A free copy of Mastering The Interview\",\"Last Notable Activity\"]"
   ]
  },
  {
   "cell_type": "code",
   "execution_count": 214,
   "id": "d8bdef90",
   "metadata": {},
   "outputs": [
    {
     "data": {
      "image/png": "[encoded data removed]",
      "text/plain": [
       "<Figure size 1319.75x360 with 1 Axes>"
      ]
     },
     "metadata": {
      "needs_background": "light"
     },
     "output_type": "display_data"
    },
    {
     "data": {
      "image/png": "[encoded data removed]",
      "text/plain": [
       "<Figure size 1319.75x360 with 1 Axes>"
      ]
     },
     "metadata": {
      "needs_background": "light"
     },
     "output_type": "display_data"
    },
    {
     "data": {
      "image/png": "[encoded data removed]",
      "text/plain": [
       "<Figure size 1319.75x360 with 1 Axes>"
      ]
     },
     "metadata": {
      "needs_background": "light"
     },
     "output_type": "display_data"
    },
    {
     "data": {
      "image/png": "[encoded data removed]",
      "text/plain": [
       "<Figure size 1319.75x360 with 1 Axes>"
      ]
     },
     "metadata": {
      "needs_background": "light"
     },
     "output_type": "display_data"
    },
    {
     "data": {
      "image/png": "[encoded data removed]",
      "text/plain": [
       "<Figure size 1319.75x360 with 1 Axes>"
      ]
     },
     "metadata": {
      "needs_background": "light"
     },
     "output_type": "display_data"
    },
    {
     "data": {
      "image/png": "[encoded data removed]",
      "text/plain": [
       "<Figure size 1319.75x360 with 1 Axes>"
      ]
     },
     "metadata": {
      "needs_background": "light"
     },
     "output_type": "display_data"
    },
    {
     "data": {
      "image/png": "[encoded data removed]",
      "text/plain": [
       "<Figure size 1319.75x360 with 1 Axes>"
      ]
     },
     "metadata": {
      "needs_background": "light"
     },
     "output_type": "display_data"
    },
    {
     "data": {
      "image/png": "[encoded data removed]",
      "text/plain": [
       "<Figure size 1319.75x360 with 1 Axes>"
      ]
     },
     "metadata": {
      "needs_background": "light"
     },
     "output_type": "display_data"
    },
    {
     "data": {
      "image/png": "[encoded data removed]",
      "text/plain": [
       "<Figure size 1319.75x360 with 1 Axes>"
      ]
     },
     "metadata": {
      "needs_background": "light"
     },
     "output_type": "display_data"
    },
    {
     "data": {
      "image/png": "[encoded data removed]",
      "text/plain": [
       "<Figure size 1319.75x360 with 1 Axes>"
      ]
     },
     "metadata": {
      "needs_background": "light"
     },
     "output_type": "display_data"
    },
    {
     "data": {
      "image/png": "[encoded data removed]",
      "text/plain": [
       "<Figure size 1319.75x360 with 1 Axes>"
      ]
     },
     "metadata": {
      "needs_background": "light"
     },
     "output_type": "display_data"
    },
    {
     "data": {
      "image/png": "[encoded data removed]",
      "text/plain": [
       "<Figure size 1319.75x360 with 1 Axes>"
      ]
     },
     "metadata": {
      "needs_background": "light"
     },
     "output_type": "display_data"
    },
    {
     "data": {
      "image/png": "[encoded data removed]",
      "text/plain": [
       "<Figure size 1319.75x360 with 1 Axes>"
      ]
     },
     "metadata": {
      "needs_background": "light"
     },
     "output_type": "display_data"
    },
    {
     "data": {
      "image/png": "[encoded data removed]",
      "text/plain": [
       "<Figure size 1319.75x360 with 1 Axes>"
      ]
     },
     "metadata": {
      "needs_background": "light"
     },
     "output_type": "display_data"
    }
   ],
   "source": [
    "for col in catCols:\n",
    "    categoricalVsTarget(col)"
   ]
  },
  {
   "cell_type": "markdown",
   "id": "38f04a1f",
   "metadata": {},
   "source": [
    "### Observations:"
   ]
  },
  {
   "cell_type": "markdown",
   "id": "1e7c898c",
   "metadata": {},
   "source": [
    "1.Maximum conversion happened from Landing Page Submission\n",
    "2.Major conversion in the lead source is from google\n",
    "3.Major conversion has happend from the emails that have been sent\n",
    "4.Major conversions happened when calls were made.\n",
    "5.Huge number of convertions happened with Email Opened last activity, but the conversion rate is high for SMS Sent\n",
    "6.More conversion happend with people who are unemployed\n",
    "7.Conversion rate is high on leads who are not through search\n",
    "8.As \"Newspaper Article\" ,\"X Education Forums\" columns now has only one value for all rows - \"No\" , it is safe to drop this column\n",
    "9.As Newspaper column has only one row with \"Yes\" as the value and further since this lead did not get converted and rest of all the values are \"No\", we can safely drop the column\n",
    "10.\n"
   ]
  },
  {
   "cell_type": "code",
   "execution_count": 216,
   "id": "38d62714",
   "metadata": {},
   "outputs": [],
   "source": [
    "leaddf1 = leaddf1.drop(['Newspaper','X Education Forums','Newspaper Article'], axis=1)\n"
   ]
  },
  {
   "cell_type": "markdown",
   "id": "72ba1594",
   "metadata": {},
   "source": [
    "### Continous Columns Vs Converted(Target Variable)"
   ]
  },
  {
   "cell_type": "code",
   "execution_count": 217,
   "id": "25cd82f1",
   "metadata": {},
   "outputs": [
    {
     "data": {
      "image/png": "[encoded data removed]",
      "text/plain": [
       "<Figure size 1440x1440 with 3 Axes>"
      ]
     },
     "metadata": {
      "needs_background": "light"
     },
     "output_type": "display_data"
    }
   ],
   "source": [
    "\n",
    "plt.figure(figsize=(20,20))\n",
    "plt.subplot(4,3,1)\n",
    "sns.barplot(y = 'TotalVisits', x='Converted', palette='Set2', data = leaddf1)\n",
    "plt.subplot(4,3,2)\n",
    "sns.barplot(y = 'Total Time Spent on Website', x='Converted', palette='Set2', data = leaddf1)\n",
    "plt.subplot(4,3,3)\n",
    "sns.barplot(y = 'Page Views Per Visit', x='Converted', palette='Set2', data = leaddf1)\n",
    "plt.show()"
   ]
  },
  {
   "cell_type": "markdown",
   "id": "cd44371f",
   "metadata": {},
   "source": [
    "### Dummy Value creation"
   ]
  },
  {
   "cell_type": "markdown",
   "id": "19076de0",
   "metadata": {},
   "source": [
    "##### Converting some binary variables (Yes/No) to 0/1"
   ]
  },
  {
   "cell_type": "code",
   "execution_count": 219,
   "id": "a56a6e4c",
   "metadata": {},
   "outputs": [],
   "source": [
    "bincols =  ['Do Not Email', 'Do Not Call', 'Search', 'Digital Advertisement', 'Through Recommendations', \n",
    "                                 'A free copy of Mastering The Interview']\n",
    "\n",
    "# Defining the map function\n",
    "def binary_map(x):\n",
    "    return x.map({'Yes': 1, \"No\": 0})\n",
    "\n",
    "# Applying the function to the columns\n",
    "leaddf1[bincols] = leaddf1[bincols].apply(binary_map)"
   ]
  },
  {
   "cell_type": "markdown",
   "id": "91f34982",
   "metadata": {},
   "source": [
    "##### For categorical variables with multiple levels, create dummy features "
   ]
  },
  {
   "cell_type": "code",
   "execution_count": 221,
   "id": "7b47e049",
   "metadata": {},
   "outputs": [
    {
     "data": {
      "text/html": [
       "<div>\n",
       "<style scoped>\n",
       "    .dataframe tbody tr th:only-of-type {\n",
       "        vertical-align: middle;\n",
       "    }\n",
       "\n",
       "    .dataframe tbody tr th {\n",
       "        vertical-align: top;\n",
       "    }\n",
       "\n",
       "    .dataframe thead th {\n",
       "        text-align: right;\n",
       "    }\n",
       "</style>\n",
       "<table border=\"1\" class=\"dataframe\">\n",
       "  <thead>\n",
       "    <tr style=\"text-align: right;\">\n",
       "      <th></th>\n",
       "      <th>Prospect ID</th>\n",
       "      <th>Lead Number</th>\n",
       "      <th>Lead Origin</th>\n",
       "      <th>Lead Source</th>\n",
       "      <th>Do Not Email</th>\n",
       "      <th>Do Not Call</th>\n",
       "      <th>Converted</th>\n",
       "      <th>TotalVisits</th>\n",
       "      <th>Total Time Spent on Website</th>\n",
       "      <th>Page Views Per Visit</th>\n",
       "      <th>...</th>\n",
       "      <th>Get updates on DM Content</th>\n",
       "      <th>Lead Profile</th>\n",
       "      <th>City</th>\n",
       "      <th>Asymmetrique Activity Index</th>\n",
       "      <th>Asymmetrique Profile Index</th>\n",
       "      <th>Asymmetrique Activity Score</th>\n",
       "      <th>Asymmetrique Profile Score</th>\n",
       "      <th>I agree to pay the amount through cheque</th>\n",
       "      <th>A free copy of Mastering The Interview</th>\n",
       "      <th>Last Notable Activity</th>\n",
       "    </tr>\n",
       "  </thead>\n",
       "  <tbody>\n",
       "    <tr>\n",
       "      <th>0</th>\n",
       "      <td>7927b2df-8bba-4d29-b9a2-b6e0beafe620</td>\n",
       "      <td>660737</td>\n",
       "      <td>API</td>\n",
       "      <td>Olark Chat</td>\n",
       "      <td>No</td>\n",
       "      <td>No</td>\n",
       "      <td>0</td>\n",
       "      <td>0.0</td>\n",
       "      <td>0</td>\n",
       "      <td>0.0</td>\n",
       "      <td>...</td>\n",
       "      <td>No</td>\n",
       "      <td>Select</td>\n",
       "      <td>Select</td>\n",
       "      <td>02.Medium</td>\n",
       "      <td>02.Medium</td>\n",
       "      <td>15.0</td>\n",
       "      <td>15.0</td>\n",
       "      <td>No</td>\n",
       "      <td>No</td>\n",
       "      <td>Modified</td>\n",
       "    </tr>\n",
       "    <tr>\n",
       "      <th>1</th>\n",
       "      <td>2a272436-5132-4136-86fa-dcc88c88f482</td>\n",
       "      <td>660728</td>\n",
       "      <td>API</td>\n",
       "      <td>Organic Search</td>\n",
       "      <td>No</td>\n",
       "      <td>No</td>\n",
       "      <td>0</td>\n",
       "      <td>5.0</td>\n",
       "      <td>674</td>\n",
       "      <td>2.5</td>\n",
       "      <td>...</td>\n",
       "      <td>No</td>\n",
       "      <td>Select</td>\n",
       "      <td>Select</td>\n",
       "      <td>02.Medium</td>\n",
       "      <td>02.Medium</td>\n",
       "      <td>15.0</td>\n",
       "      <td>15.0</td>\n",
       "      <td>No</td>\n",
       "      <td>No</td>\n",
       "      <td>Email Opened</td>\n",
       "    </tr>\n",
       "    <tr>\n",
       "      <th>2</th>\n",
       "      <td>8cc8c611-a219-4f35-ad23-fdfd2656bd8a</td>\n",
       "      <td>660727</td>\n",
       "      <td>Landing Page Submission</td>\n",
       "      <td>Direct Traffic</td>\n",
       "      <td>No</td>\n",
       "      <td>No</td>\n",
       "      <td>1</td>\n",
       "      <td>2.0</td>\n",
       "      <td>1532</td>\n",
       "      <td>2.0</td>\n",
       "      <td>...</td>\n",
       "      <td>No</td>\n",
       "      <td>Potential Lead</td>\n",
       "      <td>Mumbai</td>\n",
       "      <td>02.Medium</td>\n",
       "      <td>01.High</td>\n",
       "      <td>14.0</td>\n",
       "      <td>20.0</td>\n",
       "      <td>No</td>\n",
       "      <td>Yes</td>\n",
       "      <td>Email Opened</td>\n",
       "    </tr>\n",
       "    <tr>\n",
       "      <th>3</th>\n",
       "      <td>0cc2df48-7cf4-4e39-9de9-19797f9b38cc</td>\n",
       "      <td>660719</td>\n",
       "      <td>Landing Page Submission</td>\n",
       "      <td>Direct Traffic</td>\n",
       "      <td>No</td>\n",
       "      <td>No</td>\n",
       "      <td>0</td>\n",
       "      <td>1.0</td>\n",
       "      <td>305</td>\n",
       "      <td>1.0</td>\n",
       "      <td>...</td>\n",
       "      <td>No</td>\n",
       "      <td>Select</td>\n",
       "      <td>Mumbai</td>\n",
       "      <td>02.Medium</td>\n",
       "      <td>01.High</td>\n",
       "      <td>13.0</td>\n",
       "      <td>17.0</td>\n",
       "      <td>No</td>\n",
       "      <td>No</td>\n",
       "      <td>Modified</td>\n",
       "    </tr>\n",
       "    <tr>\n",
       "      <th>4</th>\n",
       "      <td>3256f628-e534-4826-9d63-4a8b88782852</td>\n",
       "      <td>660681</td>\n",
       "      <td>Landing Page Submission</td>\n",
       "      <td>Google</td>\n",
       "      <td>No</td>\n",
       "      <td>No</td>\n",
       "      <td>1</td>\n",
       "      <td>2.0</td>\n",
       "      <td>1428</td>\n",
       "      <td>1.0</td>\n",
       "      <td>...</td>\n",
       "      <td>No</td>\n",
       "      <td>Select</td>\n",
       "      <td>Mumbai</td>\n",
       "      <td>02.Medium</td>\n",
       "      <td>01.High</td>\n",
       "      <td>15.0</td>\n",
       "      <td>18.0</td>\n",
       "      <td>No</td>\n",
       "      <td>No</td>\n",
       "      <td>Modified</td>\n",
       "    </tr>\n",
       "  </tbody>\n",
       "</table>\n",
       "<p>5 rows × 37 columns</p>\n",
       "</div>"
      ],
      "text/plain": [
       "                            Prospect ID  Lead Number              Lead Origin  \\\n",
       "0  7927b2df-8bba-4d29-b9a2-b6e0beafe620       660737                      API   \n",
       "1  2a272436-5132-4136-86fa-dcc88c88f482       660728                      API   \n",
       "2  8cc8c611-a219-4f35-ad23-fdfd2656bd8a       660727  Landing Page Submission   \n",
       "3  0cc2df48-7cf4-4e39-9de9-19797f9b38cc       660719  Landing Page Submission   \n",
       "4  3256f628-e534-4826-9d63-4a8b88782852       660681  Landing Page Submission   \n",
       "\n",
       "      Lead Source Do Not Email Do Not Call  Converted  TotalVisits  \\\n",
       "0      Olark Chat           No          No          0          0.0   \n",
       "1  Organic Search           No          No          0          5.0   \n",
       "2  Direct Traffic           No          No          1          2.0   \n",
       "3  Direct Traffic           No          No          0          1.0   \n",
       "4          Google           No          No          1          2.0   \n",
       "\n",
       "   Total Time Spent on Website  Page Views Per Visit  ...  \\\n",
       "0                            0                   0.0  ...   \n",
       "1                          674                   2.5  ...   \n",
       "2                         1532                   2.0  ...   \n",
       "3                          305                   1.0  ...   \n",
       "4                         1428                   1.0  ...   \n",
       "\n",
       "  Get updates on DM Content    Lead Profile    City  \\\n",
       "0                        No          Select  Select   \n",
       "1                        No          Select  Select   \n",
       "2                        No  Potential Lead  Mumbai   \n",
       "3                        No          Select  Mumbai   \n",
       "4                        No          Select  Mumbai   \n",
       "\n",
       "  Asymmetrique Activity Index Asymmetrique Profile Index  \\\n",
       "0                   02.Medium                  02.Medium   \n",
       "1                   02.Medium                  02.Medium   \n",
       "2                   02.Medium                    01.High   \n",
       "3                   02.Medium                    01.High   \n",
       "4                   02.Medium                    01.High   \n",
       "\n",
       "  Asymmetrique Activity Score Asymmetrique Profile Score  \\\n",
       "0                        15.0                       15.0   \n",
       "1                        15.0                       15.0   \n",
       "2                        14.0                       20.0   \n",
       "3                        13.0                       17.0   \n",
       "4                        15.0                       18.0   \n",
       "\n",
       "  I agree to pay the amount through cheque  \\\n",
       "0                                       No   \n",
       "1                                       No   \n",
       "2                                       No   \n",
       "3                                       No   \n",
       "4                                       No   \n",
       "\n",
       "  A free copy of Mastering The Interview Last Notable Activity  \n",
       "0                                     No              Modified  \n",
       "1                                     No          Email Opened  \n",
       "2                                    Yes          Email Opened  \n",
       "3                                     No              Modified  \n",
       "4                                     No              Modified  \n",
       "\n",
       "[5 rows x 37 columns]"
      ]
     },
     "execution_count": 221,
     "metadata": {},
     "output_type": "execute_result"
    }
   ],
   "source": [
    "# Lead Origin : \n",
    "\n",
    "dummy_lead_origin = pd.get_dummies(leaddf1['Lead Origin'], prefix='LeadOrigin')\n",
    "# Dropping quick Add Form column\n",
    "dummy_lead_origin1 = dummy_lead_origin.drop(['LeadOrigin_Quick Add Form'], 1)\n",
    "#Adding the results to the master dataframe\n",
    "leaddf1 = pd.concat([leaddf1, dummy_lead_origin1], axis = 1)\n",
    "\n",
    "# Lead Source :\n",
    "\n",
    "dummy_lead_source = pd.get_dummies(leaddf1['Lead Source'], prefix='LeadSource')\n",
    "# Dropping blog column\n",
    "dummy_lead_source1 = dummy_lead_source.drop(['LeadSource_NC_EDM'], 1)\n",
    "# Adding the results to the master dataframe\n",
    "leaddf1 = pd.concat([leaddf1,dummy_lead_source1], axis=1)\n",
    "\n",
    "# last Activity\n",
    "\n",
    "dummy_last_activity = pd.get_dummies(leaddf1['Last Activity'], prefix='LastActivity')\n",
    "# Dropping Resubscribed to emails column\n",
    "dummy_last_activity1 = dummy_last_activity.drop(['LastActivity_Resubscribed to emails'], 1)\n",
    "# Adding the results to the master dataframe\n",
    "leaddf1 = pd.concat([leaddf1,dummy_last_activity1], axis=1)\n",
    "\n",
    "# What is your current occupation\n",
    "\n",
    "dummy_curr_occupation = pd.get_dummies(leaddf1['What is your current occupation'], prefix='CurrentOccupation')\n",
    "# Dropping No Information column\n",
    "dummy_curr_occupation1 = dummy_curr_occupation.drop(['CurrentOccupation_Businessman'], 1)\n",
    "# Adding the results to the master dataframe\n",
    "leaddf1 = pd.concat([leaddf1,dummy_curr_occupation1], axis=1)\n",
    "\n",
    "# Last Notable Activity\n",
    "\n",
    "dummy_last_notable_activity = pd.get_dummies(leaddf1['Last Notable Activity'], prefix='LastNotableActivity')\n",
    "# Dropping Resubscribed to emails column\n",
    "dummy_last_notable_activity1 = dummy_last_notable_activity.drop(['LastNotableActivity_Resubscribed to emails'], 1)\n",
    "# Adding the results to the master dataframe\n",
    "leaddf1 = pd.concat([leaddf1,dummy_last_notable_activity], axis=1)\n",
    "\n",
    "leadInfo.head()"
   ]
  },
  {
   "cell_type": "markdown",
   "id": "5e3b9fe6",
   "metadata": {},
   "source": [
    "As we have created the dummy values for \n",
    "1) Lead Origin\n",
    "2) Lead Source\n",
    "3) Last Activity\n",
    "4) What is your current occupation\n",
    "5) Last Notable Activity\n",
    "\n",
    "We can drop all these columns"
   ]
  },
  {
   "cell_type": "code",
   "execution_count": 224,
   "id": "3d912137",
   "metadata": {},
   "outputs": [],
   "source": [
    "leaddf1=leaddf1.drop(['Lead Origin', 'Lead Source', 'Last Activity',\n",
    "                          'What is your current occupation', 'Last Notable Activity'], axis=1)"
   ]
  },
  {
   "cell_type": "markdown",
   "id": "4996488f",
   "metadata": {},
   "source": [
    "## Test Train Split "
   ]
  },
  {
   "cell_type": "code",
   "execution_count": 225,
   "id": "f6320008",
   "metadata": {},
   "outputs": [
    {
     "data": {
      "text/html": [
       "<div>\n",
       "<style scoped>\n",
       "    .dataframe tbody tr th:only-of-type {\n",
       "        vertical-align: middle;\n",
       "    }\n",
       "\n",
       "    .dataframe tbody tr th {\n",
       "        vertical-align: top;\n",
       "    }\n",
       "\n",
       "    .dataframe thead th {\n",
       "        text-align: right;\n",
       "    }\n",
       "</style>\n",
       "<table border=\"1\" class=\"dataframe\">\n",
       "  <thead>\n",
       "    <tr style=\"text-align: right;\">\n",
       "      <th></th>\n",
       "      <th>Do Not Email</th>\n",
       "      <th>Do Not Call</th>\n",
       "      <th>TotalVisits</th>\n",
       "      <th>Total Time Spent on Website</th>\n",
       "      <th>Page Views Per Visit</th>\n",
       "      <th>Search</th>\n",
       "      <th>Digital Advertisement</th>\n",
       "      <th>Through Recommendations</th>\n",
       "      <th>A free copy of Mastering The Interview</th>\n",
       "      <th>LeadOrigin_API</th>\n",
       "      <th>...</th>\n",
       "      <th>LastNotableActivity_Form Submitted on Website</th>\n",
       "      <th>LastNotableActivity_Had a Phone Conversation</th>\n",
       "      <th>LastNotableActivity_Modified</th>\n",
       "      <th>LastNotableActivity_Olark Chat Conversation</th>\n",
       "      <th>LastNotableActivity_Page Visited on Website</th>\n",
       "      <th>LastNotableActivity_Resubscribed to emails</th>\n",
       "      <th>LastNotableActivity_SMS Sent</th>\n",
       "      <th>LastNotableActivity_Unreachable</th>\n",
       "      <th>LastNotableActivity_Unsubscribed</th>\n",
       "      <th>LastNotableActivity_View in browser link Clicked</th>\n",
       "    </tr>\n",
       "  </thead>\n",
       "  <tbody>\n",
       "    <tr>\n",
       "      <th>0</th>\n",
       "      <td>0</td>\n",
       "      <td>0</td>\n",
       "      <td>0.0</td>\n",
       "      <td>0</td>\n",
       "      <td>0.0</td>\n",
       "      <td>0</td>\n",
       "      <td>0</td>\n",
       "      <td>0</td>\n",
       "      <td>0</td>\n",
       "      <td>1</td>\n",
       "      <td>...</td>\n",
       "      <td>0</td>\n",
       "      <td>0</td>\n",
       "      <td>1</td>\n",
       "      <td>0</td>\n",
       "      <td>0</td>\n",
       "      <td>0</td>\n",
       "      <td>0</td>\n",
       "      <td>0</td>\n",
       "      <td>0</td>\n",
       "      <td>0</td>\n",
       "    </tr>\n",
       "    <tr>\n",
       "      <th>1</th>\n",
       "      <td>0</td>\n",
       "      <td>0</td>\n",
       "      <td>5.0</td>\n",
       "      <td>674</td>\n",
       "      <td>2.5</td>\n",
       "      <td>0</td>\n",
       "      <td>0</td>\n",
       "      <td>0</td>\n",
       "      <td>0</td>\n",
       "      <td>1</td>\n",
       "      <td>...</td>\n",
       "      <td>0</td>\n",
       "      <td>0</td>\n",
       "      <td>0</td>\n",
       "      <td>0</td>\n",
       "      <td>0</td>\n",
       "      <td>0</td>\n",
       "      <td>0</td>\n",
       "      <td>0</td>\n",
       "      <td>0</td>\n",
       "      <td>0</td>\n",
       "    </tr>\n",
       "    <tr>\n",
       "      <th>2</th>\n",
       "      <td>0</td>\n",
       "      <td>0</td>\n",
       "      <td>2.0</td>\n",
       "      <td>1532</td>\n",
       "      <td>2.0</td>\n",
       "      <td>0</td>\n",
       "      <td>0</td>\n",
       "      <td>0</td>\n",
       "      <td>1</td>\n",
       "      <td>0</td>\n",
       "      <td>...</td>\n",
       "      <td>0</td>\n",
       "      <td>0</td>\n",
       "      <td>0</td>\n",
       "      <td>0</td>\n",
       "      <td>0</td>\n",
       "      <td>0</td>\n",
       "      <td>0</td>\n",
       "      <td>0</td>\n",
       "      <td>0</td>\n",
       "      <td>0</td>\n",
       "    </tr>\n",
       "    <tr>\n",
       "      <th>3</th>\n",
       "      <td>0</td>\n",
       "      <td>0</td>\n",
       "      <td>1.0</td>\n",
       "      <td>305</td>\n",
       "      <td>1.0</td>\n",
       "      <td>0</td>\n",
       "      <td>0</td>\n",
       "      <td>0</td>\n",
       "      <td>0</td>\n",
       "      <td>0</td>\n",
       "      <td>...</td>\n",
       "      <td>0</td>\n",
       "      <td>0</td>\n",
       "      <td>1</td>\n",
       "      <td>0</td>\n",
       "      <td>0</td>\n",
       "      <td>0</td>\n",
       "      <td>0</td>\n",
       "      <td>0</td>\n",
       "      <td>0</td>\n",
       "      <td>0</td>\n",
       "    </tr>\n",
       "    <tr>\n",
       "      <th>4</th>\n",
       "      <td>0</td>\n",
       "      <td>0</td>\n",
       "      <td>2.0</td>\n",
       "      <td>1428</td>\n",
       "      <td>1.0</td>\n",
       "      <td>0</td>\n",
       "      <td>0</td>\n",
       "      <td>0</td>\n",
       "      <td>0</td>\n",
       "      <td>0</td>\n",
       "      <td>...</td>\n",
       "      <td>0</td>\n",
       "      <td>0</td>\n",
       "      <td>1</td>\n",
       "      <td>0</td>\n",
       "      <td>0</td>\n",
       "      <td>0</td>\n",
       "      <td>0</td>\n",
       "      <td>0</td>\n",
       "      <td>0</td>\n",
       "      <td>0</td>\n",
       "    </tr>\n",
       "  </tbody>\n",
       "</table>\n",
       "<p>5 rows × 70 columns</p>\n",
       "</div>"
      ],
      "text/plain": [
       "   Do Not Email  Do Not Call  TotalVisits  Total Time Spent on Website  \\\n",
       "0             0            0          0.0                            0   \n",
       "1             0            0          5.0                          674   \n",
       "2             0            0          2.0                         1532   \n",
       "3             0            0          1.0                          305   \n",
       "4             0            0          2.0                         1428   \n",
       "\n",
       "   Page Views Per Visit  Search  Digital Advertisement  \\\n",
       "0                   0.0       0                      0   \n",
       "1                   2.5       0                      0   \n",
       "2                   2.0       0                      0   \n",
       "3                   1.0       0                      0   \n",
       "4                   1.0       0                      0   \n",
       "\n",
       "   Through Recommendations  A free copy of Mastering The Interview  \\\n",
       "0                        0                                       0   \n",
       "1                        0                                       0   \n",
       "2                        0                                       1   \n",
       "3                        0                                       0   \n",
       "4                        0                                       0   \n",
       "\n",
       "   LeadOrigin_API  ...  LastNotableActivity_Form Submitted on Website  \\\n",
       "0               1  ...                                              0   \n",
       "1               1  ...                                              0   \n",
       "2               0  ...                                              0   \n",
       "3               0  ...                                              0   \n",
       "4               0  ...                                              0   \n",
       "\n",
       "   LastNotableActivity_Had a Phone Conversation  LastNotableActivity_Modified  \\\n",
       "0                                             0                             1   \n",
       "1                                             0                             0   \n",
       "2                                             0                             0   \n",
       "3                                             0                             1   \n",
       "4                                             0                             1   \n",
       "\n",
       "   LastNotableActivity_Olark Chat Conversation  \\\n",
       "0                                            0   \n",
       "1                                            0   \n",
       "2                                            0   \n",
       "3                                            0   \n",
       "4                                            0   \n",
       "\n",
       "   LastNotableActivity_Page Visited on Website  \\\n",
       "0                                            0   \n",
       "1                                            0   \n",
       "2                                            0   \n",
       "3                                            0   \n",
       "4                                            0   \n",
       "\n",
       "   LastNotableActivity_Resubscribed to emails  LastNotableActivity_SMS Sent  \\\n",
       "0                                           0                             0   \n",
       "1                                           0                             0   \n",
       "2                                           0                             0   \n",
       "3                                           0                             0   \n",
       "4                                           0                             0   \n",
       "\n",
       "   LastNotableActivity_Unreachable  LastNotableActivity_Unsubscribed  \\\n",
       "0                                0                                 0   \n",
       "1                                0                                 0   \n",
       "2                                0                                 0   \n",
       "3                                0                                 0   \n",
       "4                                0                                 0   \n",
       "\n",
       "   LastNotableActivity_View in browser link Clicked  \n",
       "0                                                 0  \n",
       "1                                                 0  \n",
       "2                                                 0  \n",
       "3                                                 0  \n",
       "4                                                 0  \n",
       "\n",
       "[5 rows x 70 columns]"
      ]
     },
     "execution_count": 225,
     "metadata": {},
     "output_type": "execute_result"
    }
   ],
   "source": [
    "from sklearn.model_selection import train_test_split\n",
    "# Putting feature variable to X\n",
    "X = leaddf1.drop(['Converted'], axis=1)\n",
    "\n",
    "X.head()"
   ]
  },
  {
   "cell_type": "code",
   "execution_count": 226,
   "id": "c9bda097",
   "metadata": {},
   "outputs": [
    {
     "data": {
      "text/plain": [
       "0    0\n",
       "1    0\n",
       "2    1\n",
       "3    0\n",
       "4    1\n",
       "Name: Converted, dtype: int64"
      ]
     },
     "execution_count": 226,
     "metadata": {},
     "output_type": "execute_result"
    }
   ],
   "source": [
    "# Putting response variable to y\n",
    "\n",
    "y = leaddf1['Converted']\n",
    "y.head()"
   ]
  },
  {
   "cell_type": "code",
   "execution_count": 227,
   "id": "000da357",
   "metadata": {},
   "outputs": [],
   "source": [
    "# Splitting the data into train and test\n",
    "\n",
    "X_train, X_test, y_train, y_test = train_test_split(X, y, train_size=0.7, test_size=0.3, random_state=42)"
   ]
  },
  {
   "cell_type": "markdown",
   "id": "64a8c920",
   "metadata": {},
   "source": [
    "### Scalaing "
   ]
  },
  {
   "cell_type": "code",
   "execution_count": 228,
   "id": "6cc766cc",
   "metadata": {},
   "outputs": [
    {
     "data": {
      "text/html": [
       "<div>\n",
       "<style scoped>\n",
       "    .dataframe tbody tr th:only-of-type {\n",
       "        vertical-align: middle;\n",
       "    }\n",
       "\n",
       "    .dataframe tbody tr th {\n",
       "        vertical-align: top;\n",
       "    }\n",
       "\n",
       "    .dataframe thead th {\n",
       "        text-align: right;\n",
       "    }\n",
       "</style>\n",
       "<table border=\"1\" class=\"dataframe\">\n",
       "  <thead>\n",
       "    <tr style=\"text-align: right;\">\n",
       "      <th></th>\n",
       "      <th>Do Not Email</th>\n",
       "      <th>Do Not Call</th>\n",
       "      <th>TotalVisits</th>\n",
       "      <th>Total Time Spent on Website</th>\n",
       "      <th>Page Views Per Visit</th>\n",
       "      <th>Search</th>\n",
       "      <th>Digital Advertisement</th>\n",
       "      <th>Through Recommendations</th>\n",
       "      <th>A free copy of Mastering The Interview</th>\n",
       "      <th>LeadOrigin_API</th>\n",
       "      <th>...</th>\n",
       "      <th>LastNotableActivity_Form Submitted on Website</th>\n",
       "      <th>LastNotableActivity_Had a Phone Conversation</th>\n",
       "      <th>LastNotableActivity_Modified</th>\n",
       "      <th>LastNotableActivity_Olark Chat Conversation</th>\n",
       "      <th>LastNotableActivity_Page Visited on Website</th>\n",
       "      <th>LastNotableActivity_Resubscribed to emails</th>\n",
       "      <th>LastNotableActivity_SMS Sent</th>\n",
       "      <th>LastNotableActivity_Unreachable</th>\n",
       "      <th>LastNotableActivity_Unsubscribed</th>\n",
       "      <th>LastNotableActivity_View in browser link Clicked</th>\n",
       "    </tr>\n",
       "  </thead>\n",
       "  <tbody>\n",
       "    <tr>\n",
       "      <th>4901</th>\n",
       "      <td>0</td>\n",
       "      <td>0</td>\n",
       "      <td>-0.338553</td>\n",
       "      <td>0.385078</td>\n",
       "      <td>-0.659267</td>\n",
       "      <td>0</td>\n",
       "      <td>0</td>\n",
       "      <td>0</td>\n",
       "      <td>0</td>\n",
       "      <td>1</td>\n",
       "      <td>...</td>\n",
       "      <td>0</td>\n",
       "      <td>0</td>\n",
       "      <td>0</td>\n",
       "      <td>0</td>\n",
       "      <td>0</td>\n",
       "      <td>0</td>\n",
       "      <td>1</td>\n",
       "      <td>0</td>\n",
       "      <td>0</td>\n",
       "      <td>0</td>\n",
       "    </tr>\n",
       "    <tr>\n",
       "      <th>6624</th>\n",
       "      <td>0</td>\n",
       "      <td>0</td>\n",
       "      <td>0.078038</td>\n",
       "      <td>1.088861</td>\n",
       "      <td>-0.351473</td>\n",
       "      <td>0</td>\n",
       "      <td>0</td>\n",
       "      <td>0</td>\n",
       "      <td>1</td>\n",
       "      <td>0</td>\n",
       "      <td>...</td>\n",
       "      <td>0</td>\n",
       "      <td>0</td>\n",
       "      <td>0</td>\n",
       "      <td>0</td>\n",
       "      <td>0</td>\n",
       "      <td>0</td>\n",
       "      <td>1</td>\n",
       "      <td>0</td>\n",
       "      <td>0</td>\n",
       "      <td>0</td>\n",
       "    </tr>\n",
       "    <tr>\n",
       "      <th>762</th>\n",
       "      <td>0</td>\n",
       "      <td>0</td>\n",
       "      <td>-1.171733</td>\n",
       "      <td>-0.875184</td>\n",
       "      <td>-1.274855</td>\n",
       "      <td>0</td>\n",
       "      <td>0</td>\n",
       "      <td>0</td>\n",
       "      <td>0</td>\n",
       "      <td>1</td>\n",
       "      <td>...</td>\n",
       "      <td>0</td>\n",
       "      <td>0</td>\n",
       "      <td>1</td>\n",
       "      <td>0</td>\n",
       "      <td>0</td>\n",
       "      <td>0</td>\n",
       "      <td>0</td>\n",
       "      <td>0</td>\n",
       "      <td>0</td>\n",
       "      <td>0</td>\n",
       "    </tr>\n",
       "    <tr>\n",
       "      <th>2007</th>\n",
       "      <td>0</td>\n",
       "      <td>0</td>\n",
       "      <td>-0.338553</td>\n",
       "      <td>0.157758</td>\n",
       "      <td>-0.043679</td>\n",
       "      <td>0</td>\n",
       "      <td>0</td>\n",
       "      <td>0</td>\n",
       "      <td>1</td>\n",
       "      <td>0</td>\n",
       "      <td>...</td>\n",
       "      <td>0</td>\n",
       "      <td>0</td>\n",
       "      <td>1</td>\n",
       "      <td>0</td>\n",
       "      <td>0</td>\n",
       "      <td>0</td>\n",
       "      <td>0</td>\n",
       "      <td>0</td>\n",
       "      <td>0</td>\n",
       "      <td>0</td>\n",
       "    </tr>\n",
       "    <tr>\n",
       "      <th>3441</th>\n",
       "      <td>0</td>\n",
       "      <td>0</td>\n",
       "      <td>-1.171733</td>\n",
       "      <td>-0.875184</td>\n",
       "      <td>-1.274855</td>\n",
       "      <td>0</td>\n",
       "      <td>0</td>\n",
       "      <td>0</td>\n",
       "      <td>0</td>\n",
       "      <td>1</td>\n",
       "      <td>...</td>\n",
       "      <td>0</td>\n",
       "      <td>0</td>\n",
       "      <td>0</td>\n",
       "      <td>0</td>\n",
       "      <td>0</td>\n",
       "      <td>0</td>\n",
       "      <td>0</td>\n",
       "      <td>0</td>\n",
       "      <td>0</td>\n",
       "      <td>0</td>\n",
       "    </tr>\n",
       "  </tbody>\n",
       "</table>\n",
       "<p>5 rows × 70 columns</p>\n",
       "</div>"
      ],
      "text/plain": [
       "      Do Not Email  Do Not Call  TotalVisits  Total Time Spent on Website  \\\n",
       "4901             0            0    -0.338553                     0.385078   \n",
       "6624             0            0     0.078038                     1.088861   \n",
       "762              0            0    -1.171733                    -0.875184   \n",
       "2007             0            0    -0.338553                     0.157758   \n",
       "3441             0            0    -1.171733                    -0.875184   \n",
       "\n",
       "      Page Views Per Visit  Search  Digital Advertisement  \\\n",
       "4901             -0.659267       0                      0   \n",
       "6624             -0.351473       0                      0   \n",
       "762              -1.274855       0                      0   \n",
       "2007             -0.043679       0                      0   \n",
       "3441             -1.274855       0                      0   \n",
       "\n",
       "      Through Recommendations  A free copy of Mastering The Interview  \\\n",
       "4901                        0                                       0   \n",
       "6624                        0                                       1   \n",
       "762                         0                                       0   \n",
       "2007                        0                                       1   \n",
       "3441                        0                                       0   \n",
       "\n",
       "      LeadOrigin_API  ...  LastNotableActivity_Form Submitted on Website  \\\n",
       "4901               1  ...                                              0   \n",
       "6624               0  ...                                              0   \n",
       "762                1  ...                                              0   \n",
       "2007               0  ...                                              0   \n",
       "3441               1  ...                                              0   \n",
       "\n",
       "      LastNotableActivity_Had a Phone Conversation  \\\n",
       "4901                                             0   \n",
       "6624                                             0   \n",
       "762                                              0   \n",
       "2007                                             0   \n",
       "3441                                             0   \n",
       "\n",
       "      LastNotableActivity_Modified  \\\n",
       "4901                             0   \n",
       "6624                             0   \n",
       "762                              1   \n",
       "2007                             1   \n",
       "3441                             0   \n",
       "\n",
       "      LastNotableActivity_Olark Chat Conversation  \\\n",
       "4901                                            0   \n",
       "6624                                            0   \n",
       "762                                             0   \n",
       "2007                                            0   \n",
       "3441                                            0   \n",
       "\n",
       "      LastNotableActivity_Page Visited on Website  \\\n",
       "4901                                            0   \n",
       "6624                                            0   \n",
       "762                                             0   \n",
       "2007                                            0   \n",
       "3441                                            0   \n",
       "\n",
       "      LastNotableActivity_Resubscribed to emails  \\\n",
       "4901                                           0   \n",
       "6624                                           0   \n",
       "762                                            0   \n",
       "2007                                           0   \n",
       "3441                                           0   \n",
       "\n",
       "      LastNotableActivity_SMS Sent  LastNotableActivity_Unreachable  \\\n",
       "4901                             1                                0   \n",
       "6624                             1                                0   \n",
       "762                              0                                0   \n",
       "2007                             0                                0   \n",
       "3441                             0                                0   \n",
       "\n",
       "      LastNotableActivity_Unsubscribed  \\\n",
       "4901                                 0   \n",
       "6624                                 0   \n",
       "762                                  0   \n",
       "2007                                 0   \n",
       "3441                                 0   \n",
       "\n",
       "      LastNotableActivity_View in browser link Clicked  \n",
       "4901                                                 0  \n",
       "6624                                                 0  \n",
       "762                                                  0  \n",
       "2007                                                 0  \n",
       "3441                                                 0  \n",
       "\n",
       "[5 rows x 70 columns]"
      ]
     },
     "execution_count": 228,
     "metadata": {},
     "output_type": "execute_result"
    }
   ],
   "source": [
    "from sklearn.preprocessing import StandardScaler\n",
    "\n",
    "scaler =  StandardScaler()\n",
    "\n",
    "X_train[['TotalVisits','Total Time Spent on Website','Page Views Per Visit']] = scaler.fit_transform(X_train[['TotalVisits',\n",
    "                                                                        'Total Time Spent on Website','Page Views Per Visit']])\n",
    "\n",
    "X_train.head()"
   ]
  },
  {
   "cell_type": "markdown",
   "id": "4052534b",
   "metadata": {},
   "source": [
    "## Model Building"
   ]
  },
  {
   "cell_type": "code",
   "execution_count": 230,
   "id": "a94cf7e6",
   "metadata": {},
   "outputs": [],
   "source": [
    "import statsmodels.api as sm"
   ]
  },
  {
   "cell_type": "code",
   "execution_count": 231,
   "id": "d10572c9",
   "metadata": {},
   "outputs": [
    {
     "data": {
      "text/html": [
       "<table class=\"simpletable\">\n",
       "<caption>Generalized Linear Model Regression Results</caption>\n",
       "<tr>\n",
       "  <th>Dep. Variable:</th>       <td>Converted</td>    <th>  No. Observations:  </th>   <td>  6075</td>  \n",
       "</tr>\n",
       "<tr>\n",
       "  <th>Model:</th>                  <td>GLM</td>       <th>  Df Residuals:      </th>   <td>  6013</td>  \n",
       "</tr>\n",
       "<tr>\n",
       "  <th>Model Family:</th>        <td>Binomial</td>     <th>  Df Model:          </th>   <td>    61</td>  \n",
       "</tr>\n",
       "<tr>\n",
       "  <th>Link Function:</th>         <td>logit</td>      <th>  Scale:             </th>  <td>  1.0000</td> \n",
       "</tr>\n",
       "<tr>\n",
       "  <th>Method:</th>                <td>IRLS</td>       <th>  Log-Likelihood:    </th>  <td>     nan</td> \n",
       "</tr>\n",
       "<tr>\n",
       "  <th>Date:</th>            <td>Tue, 28 Nov 2023</td> <th>  Deviance:          </th> <td>1.6892e+05</td>\n",
       "</tr>\n",
       "<tr>\n",
       "  <th>Time:</th>                <td>15:37:13</td>     <th>  Pearson chi2:      </th>  <td>8.26e+18</td> \n",
       "</tr>\n",
       "<tr>\n",
       "  <th>No. Iterations:</th>         <td>100</td>       <th>                     </th>      <td> </td>    \n",
       "</tr>\n",
       "<tr>\n",
       "  <th>Covariance Type:</th>     <td>nonrobust</td>    <th>                     </th>      <td> </td>    \n",
       "</tr>\n",
       "</table>\n",
       "<table class=\"simpletable\">\n",
       "<tr>\n",
       "                          <td></td>                            <th>coef</th>     <th>std err</th>      <th>z</th>      <th>P>|z|</th>  <th>[0.025</th>    <th>0.975]</th>  \n",
       "</tr>\n",
       "<tr>\n",
       "  <th>const</th>                                            <td>-2.349e+21</td> <td> 1.39e+14</td> <td>-1.69e+07</td> <td> 0.000</td> <td>-2.35e+21</td> <td>-2.35e+21</td>\n",
       "</tr>\n",
       "<tr>\n",
       "  <th>Do Not Email</th>                                     <td>-3.757e+14</td> <td> 4.62e+06</td> <td>-8.14e+07</td> <td> 0.000</td> <td>-3.76e+14</td> <td>-3.76e+14</td>\n",
       "</tr>\n",
       "<tr>\n",
       "  <th>Do Not Call</th>                                      <td> 3.212e+15</td> <td> 4.76e+07</td> <td> 6.75e+07</td> <td> 0.000</td> <td> 3.21e+15</td> <td> 3.21e+15</td>\n",
       "</tr>\n",
       "<tr>\n",
       "  <th>TotalVisits</th>                                      <td> 2.055e+14</td> <td> 1.41e+06</td> <td> 1.46e+08</td> <td> 0.000</td> <td> 2.05e+14</td> <td> 2.05e+14</td>\n",
       "</tr>\n",
       "<tr>\n",
       "  <th>Total Time Spent on Website</th>                      <td> 3.097e+13</td> <td> 9.86e+05</td> <td> 3.14e+07</td> <td> 0.000</td> <td>  3.1e+13</td> <td>  3.1e+13</td>\n",
       "</tr>\n",
       "<tr>\n",
       "  <th>Page Views Per Visit</th>                             <td>-3.683e+14</td> <td> 1.37e+06</td> <td>-2.69e+08</td> <td> 0.000</td> <td>-3.68e+14</td> <td>-3.68e+14</td>\n",
       "</tr>\n",
       "<tr>\n",
       "  <th>Search</th>                                           <td>-8.252e+14</td> <td> 2.75e+07</td> <td>   -3e+07</td> <td> 0.000</td> <td>-8.25e+14</td> <td>-8.25e+14</td>\n",
       "</tr>\n",
       "<tr>\n",
       "  <th>Digital Advertisement</th>                            <td> 8.305e+14</td> <td> 4.76e+07</td> <td> 1.75e+07</td> <td> 0.000</td> <td>  8.3e+14</td> <td>  8.3e+14</td>\n",
       "</tr>\n",
       "<tr>\n",
       "  <th>Through Recommendations</th>                          <td> -4.63e+14</td> <td> 3.64e+07</td> <td>-1.27e+07</td> <td> 0.000</td> <td>-4.63e+14</td> <td>-4.63e+14</td>\n",
       "</tr>\n",
       "<tr>\n",
       "  <th>A free copy of Mastering The Interview</th>           <td>-1.506e+14</td> <td> 2.71e+06</td> <td>-5.56e+07</td> <td> 0.000</td> <td>-1.51e+14</td> <td>-1.51e+14</td>\n",
       "</tr>\n",
       "<tr>\n",
       "  <th>LeadOrigin_API</th>                                   <td>    -1e+16</td> <td> 6.74e+07</td> <td>-1.48e+08</td> <td> 0.000</td> <td>   -1e+16</td> <td>   -1e+16</td>\n",
       "</tr>\n",
       "<tr>\n",
       "  <th>LeadOrigin_Landing Page Submission</th>               <td>-9.967e+15</td> <td> 6.74e+07</td> <td>-1.48e+08</td> <td> 0.000</td> <td>-9.97e+15</td> <td>-9.97e+15</td>\n",
       "</tr>\n",
       "<tr>\n",
       "  <th>LeadOrigin_Lead Add Form</th>                         <td>-1.025e+16</td> <td> 6.85e+07</td> <td>-1.49e+08</td> <td> 0.000</td> <td>-1.02e+16</td> <td>-1.02e+16</td>\n",
       "</tr>\n",
       "<tr>\n",
       "  <th>LeadOrigin_Lead Import</th>                           <td>-1.054e+16</td> <td> 9.61e+07</td> <td> -1.1e+08</td> <td> 0.000</td> <td>-1.05e+16</td> <td>-1.05e+16</td>\n",
       "</tr>\n",
       "<tr>\n",
       "  <th>LeadSource_Click2call</th>                            <td> 1.139e+15</td> <td> 8.33e+07</td> <td> 1.37e+07</td> <td> 0.000</td> <td> 1.14e+15</td> <td> 1.14e+15</td>\n",
       "</tr>\n",
       "<tr>\n",
       "  <th>LeadSource_Direct Traffic</th>                        <td>-2.996e+14</td> <td> 6.73e+07</td> <td>-4.45e+06</td> <td> 0.000</td> <td>   -3e+14</td> <td>   -3e+14</td>\n",
       "</tr>\n",
       "<tr>\n",
       "  <th>LeadSource_Facebook</th>                              <td>-2.932e+14</td> <td> 9.52e+07</td> <td>-3.08e+06</td> <td> 0.000</td> <td>-2.93e+14</td> <td>-2.93e+14</td>\n",
       "</tr>\n",
       "<tr>\n",
       "  <th>LeadSource_Google</th>                                <td>-1.458e+14</td> <td> 6.72e+07</td> <td>-2.17e+06</td> <td> 0.000</td> <td>-1.46e+14</td> <td>-1.46e+14</td>\n",
       "</tr>\n",
       "<tr>\n",
       "  <th>LeadSource_Live Chat</th>                             <td>-3.002e+14</td> <td> 8.32e+07</td> <td>-3.61e+06</td> <td> 0.000</td> <td>   -3e+14</td> <td>   -3e+14</td>\n",
       "</tr>\n",
       "<tr>\n",
       "  <th>LeadSource_Olark Chat</th>                            <td> 2.162e+14</td> <td> 6.73e+07</td> <td> 3.21e+06</td> <td> 0.000</td> <td> 2.16e+14</td> <td> 2.16e+14</td>\n",
       "</tr>\n",
       "<tr>\n",
       "  <th>LeadSource_Organic Search</th>                        <td>-1.173e+14</td> <td> 6.73e+07</td> <td>-1.74e+06</td> <td> 0.000</td> <td>-1.17e+14</td> <td>-1.17e+14</td>\n",
       "</tr>\n",
       "<tr>\n",
       "  <th>LeadSource_Pay per Click Ads</th>                     <td>-1.801e+12</td> <td> 1.07e+05</td> <td>-1.69e+07</td> <td> 0.000</td> <td> -1.8e+12</td> <td> -1.8e+12</td>\n",
       "</tr>\n",
       "<tr>\n",
       "  <th>LeadSource_Press_Release</th>                         <td>-4.265e+15</td> <td> 9.53e+07</td> <td>-4.48e+07</td> <td> 0.000</td> <td>-4.27e+15</td> <td>-4.27e+15</td>\n",
       "</tr>\n",
       "<tr>\n",
       "  <th>LeadSource_Reference</th>                             <td> 2.781e+14</td> <td> 6.85e+07</td> <td> 4.06e+06</td> <td> 0.000</td> <td> 2.78e+14</td> <td> 2.78e+14</td>\n",
       "</tr>\n",
       "<tr>\n",
       "  <th>LeadSource_Referral Sites</th>                        <td>-4.683e+14</td> <td> 6.77e+07</td> <td>-6.92e+06</td> <td> 0.000</td> <td>-4.68e+14</td> <td>-4.68e+14</td>\n",
       "</tr>\n",
       "<tr>\n",
       "  <th>LeadSource_Social Media</th>                          <td> 2.261e+15</td> <td> 8.24e+07</td> <td> 2.74e+07</td> <td> 0.000</td> <td> 2.26e+15</td> <td> 2.26e+15</td>\n",
       "</tr>\n",
       "<tr>\n",
       "  <th>LeadSource_WeLearn</th>                               <td>-1.857e+12</td> <td>  1.1e+05</td> <td>-1.69e+07</td> <td> 0.000</td> <td>-1.86e+12</td> <td>-1.86e+12</td>\n",
       "</tr>\n",
       "<tr>\n",
       "  <th>LeadSource_Welingak Website</th>                      <td> 3.866e+15</td> <td> 6.87e+07</td> <td> 5.63e+07</td> <td> 0.000</td> <td> 3.87e+15</td> <td> 3.87e+15</td>\n",
       "</tr>\n",
       "<tr>\n",
       "  <th>LeadSource_bing</th>                                  <td>-7.176e+15</td> <td> 7.52e+07</td> <td>-9.55e+07</td> <td> 0.000</td> <td>-7.18e+15</td> <td>-7.18e+15</td>\n",
       "</tr>\n",
       "<tr>\n",
       "  <th>LeadSource_blog</th>                                  <td>-3.804e+15</td> <td>  9.5e+07</td> <td>-4.01e+07</td> <td> 0.000</td> <td> -3.8e+15</td> <td> -3.8e+15</td>\n",
       "</tr>\n",
       "<tr>\n",
       "  <th>LeadSource_testone</th>                               <td>  1.59e+12</td> <td>  9.4e+04</td> <td> 1.69e+07</td> <td> 0.000</td> <td> 1.59e+12</td> <td> 1.59e+12</td>\n",
       "</tr>\n",
       "<tr>\n",
       "  <th>LeadSource_welearnblog_Home</th>                      <td>-7.915e+15</td> <td>  9.5e+07</td> <td>-8.34e+07</td> <td> 0.000</td> <td>-7.91e+15</td> <td>-7.91e+15</td>\n",
       "</tr>\n",
       "<tr>\n",
       "  <th>LeadSource_youtubechannel</th>                        <td>-4.611e+15</td> <td> 9.49e+07</td> <td>-4.86e+07</td> <td> 0.000</td> <td>-4.61e+15</td> <td>-4.61e+15</td>\n",
       "</tr>\n",
       "<tr>\n",
       "  <th>LastActivity_Approached upfront</th>                  <td> 9.845e+20</td> <td> 5.82e+13</td> <td> 1.69e+07</td> <td> 0.000</td> <td> 9.85e+20</td> <td> 9.85e+20</td>\n",
       "</tr>\n",
       "<tr>\n",
       "  <th>LastActivity_Converted to Lead</th>                   <td> 9.845e+20</td> <td> 5.82e+13</td> <td> 1.69e+07</td> <td> 0.000</td> <td> 9.85e+20</td> <td> 9.85e+20</td>\n",
       "</tr>\n",
       "<tr>\n",
       "  <th>LastActivity_Email Bounced</th>                       <td> 9.845e+20</td> <td> 5.82e+13</td> <td> 1.69e+07</td> <td> 0.000</td> <td> 9.85e+20</td> <td> 9.85e+20</td>\n",
       "</tr>\n",
       "<tr>\n",
       "  <th>LastActivity_Email Link Clicked</th>                  <td> 9.845e+20</td> <td> 5.82e+13</td> <td> 1.69e+07</td> <td> 0.000</td> <td> 9.85e+20</td> <td> 9.85e+20</td>\n",
       "</tr>\n",
       "<tr>\n",
       "  <th>LastActivity_Email Marked Spam</th>                   <td> 1.174e+21</td> <td> 6.95e+13</td> <td> 1.69e+07</td> <td> 0.000</td> <td> 1.17e+21</td> <td> 1.17e+21</td>\n",
       "</tr>\n",
       "<tr>\n",
       "  <th>LastActivity_Email Opened</th>                        <td> 9.845e+20</td> <td> 5.82e+13</td> <td> 1.69e+07</td> <td> 0.000</td> <td> 9.85e+20</td> <td> 9.85e+20</td>\n",
       "</tr>\n",
       "<tr>\n",
       "  <th>LastActivity_Email Received</th>                      <td> 9.845e+20</td> <td> 5.82e+13</td> <td> 1.69e+07</td> <td> 0.000</td> <td> 9.85e+20</td> <td> 9.85e+20</td>\n",
       "</tr>\n",
       "<tr>\n",
       "  <th>LastActivity_Form Submitted on Website</th>           <td> 9.845e+20</td> <td> 5.82e+13</td> <td> 1.69e+07</td> <td> 0.000</td> <td> 9.85e+20</td> <td> 9.85e+20</td>\n",
       "</tr>\n",
       "<tr>\n",
       "  <th>LastActivity_Had a Phone Conversation</th>            <td> 9.845e+20</td> <td> 5.82e+13</td> <td> 1.69e+07</td> <td> 0.000</td> <td> 9.85e+20</td> <td> 9.85e+20</td>\n",
       "</tr>\n",
       "<tr>\n",
       "  <th>LastActivity_Olark Chat Conversation</th>             <td> 9.845e+20</td> <td> 5.82e+13</td> <td> 1.69e+07</td> <td> 0.000</td> <td> 9.85e+20</td> <td> 9.85e+20</td>\n",
       "</tr>\n",
       "<tr>\n",
       "  <th>LastActivity_Other</th>                               <td> 9.845e+20</td> <td> 5.82e+13</td> <td> 1.69e+07</td> <td> 0.000</td> <td> 9.85e+20</td> <td> 9.85e+20</td>\n",
       "</tr>\n",
       "<tr>\n",
       "  <th>LastActivity_Page Visited on Website</th>             <td> 9.845e+20</td> <td> 5.82e+13</td> <td> 1.69e+07</td> <td> 0.000</td> <td> 9.85e+20</td> <td> 9.85e+20</td>\n",
       "</tr>\n",
       "<tr>\n",
       "  <th>LastActivity_SMS Sent</th>                            <td> 9.845e+20</td> <td> 5.82e+13</td> <td> 1.69e+07</td> <td> 0.000</td> <td> 9.85e+20</td> <td> 9.85e+20</td>\n",
       "</tr>\n",
       "<tr>\n",
       "  <th>LastActivity_Unreachable</th>                         <td> 9.845e+20</td> <td> 5.82e+13</td> <td> 1.69e+07</td> <td> 0.000</td> <td> 9.85e+20</td> <td> 9.85e+20</td>\n",
       "</tr>\n",
       "<tr>\n",
       "  <th>LastActivity_Unsubscribed</th>                        <td> 9.845e+20</td> <td> 5.82e+13</td> <td> 1.69e+07</td> <td> 0.000</td> <td> 9.85e+20</td> <td> 9.85e+20</td>\n",
       "</tr>\n",
       "<tr>\n",
       "  <th>LastActivity_View in browser link Clicked</th>        <td> 9.845e+20</td> <td> 5.82e+13</td> <td> 1.69e+07</td> <td> 0.000</td> <td> 9.85e+20</td> <td> 9.85e+20</td>\n",
       "</tr>\n",
       "<tr>\n",
       "  <th>LastActivity_Visited Booth in Tradeshow</th>          <td> 9.845e+20</td> <td> 5.82e+13</td> <td> 1.69e+07</td> <td> 0.000</td> <td> 9.85e+20</td> <td> 9.85e+20</td>\n",
       "</tr>\n",
       "<tr>\n",
       "  <th>CurrentOccupation_Housewife</th>                      <td> 1.479e+15</td> <td> 4.53e+07</td> <td> 3.27e+07</td> <td> 0.000</td> <td> 1.48e+15</td> <td> 1.48e+15</td>\n",
       "</tr>\n",
       "<tr>\n",
       "  <th>CurrentOccupation_Other</th>                          <td>-9.286e+14</td> <td> 3.39e+07</td> <td>-2.74e+07</td> <td> 0.000</td> <td>-9.29e+14</td> <td>-9.29e+14</td>\n",
       "</tr>\n",
       "<tr>\n",
       "  <th>CurrentOccupation_Student</th>                        <td>-2.086e+15</td> <td> 3.43e+07</td> <td>-6.08e+07</td> <td> 0.000</td> <td>-2.09e+15</td> <td>-2.09e+15</td>\n",
       "</tr>\n",
       "<tr>\n",
       "  <th>CurrentOccupation_Unemployed</th>                     <td> -3.79e+14</td> <td> 3.39e+07</td> <td>-1.12e+07</td> <td> 0.000</td> <td>-3.79e+14</td> <td>-3.79e+14</td>\n",
       "</tr>\n",
       "<tr>\n",
       "  <th>CurrentOccupation_Working Professional</th>           <td> -9.39e+13</td> <td>  3.4e+07</td> <td>-2.76e+06</td> <td> 0.000</td> <td>-9.39e+13</td> <td>-9.39e+13</td>\n",
       "</tr>\n",
       "<tr>\n",
       "  <th>LastNotableActivity_Approached upfront</th>           <td> 2.056e+12</td> <td> 1.22e+05</td> <td> 1.69e+07</td> <td> 0.000</td> <td> 2.06e+12</td> <td> 2.06e+12</td>\n",
       "</tr>\n",
       "<tr>\n",
       "  <th>LastNotableActivity_Email Bounced</th>                <td> 1.364e+21</td> <td> 8.07e+13</td> <td> 1.69e+07</td> <td> 0.000</td> <td> 1.36e+21</td> <td> 1.36e+21</td>\n",
       "</tr>\n",
       "<tr>\n",
       "  <th>LastNotableActivity_Email Link Clicked</th>           <td> 1.364e+21</td> <td> 8.07e+13</td> <td> 1.69e+07</td> <td> 0.000</td> <td> 1.36e+21</td> <td> 1.36e+21</td>\n",
       "</tr>\n",
       "<tr>\n",
       "  <th>LastNotableActivity_Email Marked Spam</th>            <td> 1.174e+21</td> <td> 6.95e+13</td> <td> 1.69e+07</td> <td> 0.000</td> <td> 1.17e+21</td> <td> 1.17e+21</td>\n",
       "</tr>\n",
       "<tr>\n",
       "  <th>LastNotableActivity_Email Opened</th>                 <td> 1.364e+21</td> <td> 8.07e+13</td> <td> 1.69e+07</td> <td> 0.000</td> <td> 1.36e+21</td> <td> 1.36e+21</td>\n",
       "</tr>\n",
       "<tr>\n",
       "  <th>LastNotableActivity_Email Received</th>               <td> 1.364e+21</td> <td> 8.07e+13</td> <td> 1.69e+07</td> <td> 0.000</td> <td> 1.36e+21</td> <td> 1.36e+21</td>\n",
       "</tr>\n",
       "<tr>\n",
       "  <th>LastNotableActivity_Form Submitted on Website</th>    <td> 1.364e+21</td> <td> 8.07e+13</td> <td> 1.69e+07</td> <td> 0.000</td> <td> 1.36e+21</td> <td> 1.36e+21</td>\n",
       "</tr>\n",
       "<tr>\n",
       "  <th>LastNotableActivity_Had a Phone Conversation</th>     <td> 1.364e+21</td> <td> 8.07e+13</td> <td> 1.69e+07</td> <td> 0.000</td> <td> 1.36e+21</td> <td> 1.36e+21</td>\n",
       "</tr>\n",
       "<tr>\n",
       "  <th>LastNotableActivity_Modified</th>                     <td> 1.364e+21</td> <td> 8.07e+13</td> <td> 1.69e+07</td> <td> 0.000</td> <td> 1.36e+21</td> <td> 1.36e+21</td>\n",
       "</tr>\n",
       "<tr>\n",
       "  <th>LastNotableActivity_Olark Chat Conversation</th>      <td> 1.364e+21</td> <td> 8.07e+13</td> <td> 1.69e+07</td> <td> 0.000</td> <td> 1.36e+21</td> <td> 1.36e+21</td>\n",
       "</tr>\n",
       "<tr>\n",
       "  <th>LastNotableActivity_Page Visited on Website</th>      <td> 1.364e+21</td> <td> 8.07e+13</td> <td> 1.69e+07</td> <td> 0.000</td> <td> 1.36e+21</td> <td> 1.36e+21</td>\n",
       "</tr>\n",
       "<tr>\n",
       "  <th>LastNotableActivity_Resubscribed to emails</th>       <td>         0</td> <td>        0</td> <td>      nan</td> <td>   nan</td> <td>        0</td> <td>        0</td>\n",
       "</tr>\n",
       "<tr>\n",
       "  <th>LastNotableActivity_SMS Sent</th>                     <td> 1.364e+21</td> <td> 8.07e+13</td> <td> 1.69e+07</td> <td> 0.000</td> <td> 1.36e+21</td> <td> 1.36e+21</td>\n",
       "</tr>\n",
       "<tr>\n",
       "  <th>LastNotableActivity_Unreachable</th>                  <td> 1.364e+21</td> <td> 8.07e+13</td> <td> 1.69e+07</td> <td> 0.000</td> <td> 1.36e+21</td> <td> 1.36e+21</td>\n",
       "</tr>\n",
       "<tr>\n",
       "  <th>LastNotableActivity_Unsubscribed</th>                 <td> 1.364e+21</td> <td> 8.07e+13</td> <td> 1.69e+07</td> <td> 0.000</td> <td> 1.36e+21</td> <td> 1.36e+21</td>\n",
       "</tr>\n",
       "<tr>\n",
       "  <th>LastNotableActivity_View in browser link Clicked</th> <td>         0</td> <td>        0</td> <td>      nan</td> <td>   nan</td> <td>        0</td> <td>        0</td>\n",
       "</tr>\n",
       "</table>"
      ],
      "text/plain": [
       "<class 'statsmodels.iolib.summary.Summary'>\n",
       "\"\"\"\n",
       "                 Generalized Linear Model Regression Results                  \n",
       "==============================================================================\n",
       "Dep. Variable:              Converted   No. Observations:                 6075\n",
       "Model:                            GLM   Df Residuals:                     6013\n",
       "Model Family:                Binomial   Df Model:                           61\n",
       "Link Function:                  logit   Scale:                          1.0000\n",
       "Method:                          IRLS   Log-Likelihood:                    nan\n",
       "Date:                Tue, 28 Nov 2023   Deviance:                   1.6892e+05\n",
       "Time:                        15:37:13   Pearson chi2:                 8.26e+18\n",
       "No. Iterations:                   100                                         \n",
       "Covariance Type:            nonrobust                                         \n",
       "====================================================================================================================\n",
       "                                                       coef    std err          z      P>|z|      [0.025      0.975]\n",
       "--------------------------------------------------------------------------------------------------------------------\n",
       "const                                            -2.349e+21   1.39e+14  -1.69e+07      0.000   -2.35e+21   -2.35e+21\n",
       "Do Not Email                                     -3.757e+14   4.62e+06  -8.14e+07      0.000   -3.76e+14   -3.76e+14\n",
       "Do Not Call                                       3.212e+15   4.76e+07   6.75e+07      0.000    3.21e+15    3.21e+15\n",
       "TotalVisits                                       2.055e+14   1.41e+06   1.46e+08      0.000    2.05e+14    2.05e+14\n",
       "Total Time Spent on Website                       3.097e+13   9.86e+05   3.14e+07      0.000     3.1e+13     3.1e+13\n",
       "Page Views Per Visit                             -3.683e+14   1.37e+06  -2.69e+08      0.000   -3.68e+14   -3.68e+14\n",
       "Search                                           -8.252e+14   2.75e+07     -3e+07      0.000   -8.25e+14   -8.25e+14\n",
       "Digital Advertisement                             8.305e+14   4.76e+07   1.75e+07      0.000     8.3e+14     8.3e+14\n",
       "Through Recommendations                           -4.63e+14   3.64e+07  -1.27e+07      0.000   -4.63e+14   -4.63e+14\n",
       "A free copy of Mastering The Interview           -1.506e+14   2.71e+06  -5.56e+07      0.000   -1.51e+14   -1.51e+14\n",
       "LeadOrigin_API                                       -1e+16   6.74e+07  -1.48e+08      0.000      -1e+16      -1e+16\n",
       "LeadOrigin_Landing Page Submission               -9.967e+15   6.74e+07  -1.48e+08      0.000   -9.97e+15   -9.97e+15\n",
       "LeadOrigin_Lead Add Form                         -1.025e+16   6.85e+07  -1.49e+08      0.000   -1.02e+16   -1.02e+16\n",
       "LeadOrigin_Lead Import                           -1.054e+16   9.61e+07   -1.1e+08      0.000   -1.05e+16   -1.05e+16\n",
       "LeadSource_Click2call                             1.139e+15   8.33e+07   1.37e+07      0.000    1.14e+15    1.14e+15\n",
       "LeadSource_Direct Traffic                        -2.996e+14   6.73e+07  -4.45e+06      0.000      -3e+14      -3e+14\n",
       "LeadSource_Facebook                              -2.932e+14   9.52e+07  -3.08e+06      0.000   -2.93e+14   -2.93e+14\n",
       "LeadSource_Google                                -1.458e+14   6.72e+07  -2.17e+06      0.000   -1.46e+14   -1.46e+14\n",
       "LeadSource_Live Chat                             -3.002e+14   8.32e+07  -3.61e+06      0.000      -3e+14      -3e+14\n",
       "LeadSource_Olark Chat                             2.162e+14   6.73e+07   3.21e+06      0.000    2.16e+14    2.16e+14\n",
       "LeadSource_Organic Search                        -1.173e+14   6.73e+07  -1.74e+06      0.000   -1.17e+14   -1.17e+14\n",
       "LeadSource_Pay per Click Ads                     -1.801e+12   1.07e+05  -1.69e+07      0.000    -1.8e+12    -1.8e+12\n",
       "LeadSource_Press_Release                         -4.265e+15   9.53e+07  -4.48e+07      0.000   -4.27e+15   -4.27e+15\n",
       "LeadSource_Reference                              2.781e+14   6.85e+07   4.06e+06      0.000    2.78e+14    2.78e+14\n",
       "LeadSource_Referral Sites                        -4.683e+14   6.77e+07  -6.92e+06      0.000   -4.68e+14   -4.68e+14\n",
       "LeadSource_Social Media                           2.261e+15   8.24e+07   2.74e+07      0.000    2.26e+15    2.26e+15\n",
       "LeadSource_WeLearn                               -1.857e+12    1.1e+05  -1.69e+07      0.000   -1.86e+12   -1.86e+12\n",
       "LeadSource_Welingak Website                       3.866e+15   6.87e+07   5.63e+07      0.000    3.87e+15    3.87e+15\n",
       "LeadSource_bing                                  -7.176e+15   7.52e+07  -9.55e+07      0.000   -7.18e+15   -7.18e+15\n",
       "LeadSource_blog                                  -3.804e+15    9.5e+07  -4.01e+07      0.000    -3.8e+15    -3.8e+15\n",
       "LeadSource_testone                                 1.59e+12    9.4e+04   1.69e+07      0.000    1.59e+12    1.59e+12\n",
       "LeadSource_welearnblog_Home                      -7.915e+15    9.5e+07  -8.34e+07      0.000   -7.91e+15   -7.91e+15\n",
       "LeadSource_youtubechannel                        -4.611e+15   9.49e+07  -4.86e+07      0.000   -4.61e+15   -4.61e+15\n",
       "LastActivity_Approached upfront                   9.845e+20   5.82e+13   1.69e+07      0.000    9.85e+20    9.85e+20\n",
       "LastActivity_Converted to Lead                    9.845e+20   5.82e+13   1.69e+07      0.000    9.85e+20    9.85e+20\n",
       "LastActivity_Email Bounced                        9.845e+20   5.82e+13   1.69e+07      0.000    9.85e+20    9.85e+20\n",
       "LastActivity_Email Link Clicked                   9.845e+20   5.82e+13   1.69e+07      0.000    9.85e+20    9.85e+20\n",
       "LastActivity_Email Marked Spam                    1.174e+21   6.95e+13   1.69e+07      0.000    1.17e+21    1.17e+21\n",
       "LastActivity_Email Opened                         9.845e+20   5.82e+13   1.69e+07      0.000    9.85e+20    9.85e+20\n",
       "LastActivity_Email Received                       9.845e+20   5.82e+13   1.69e+07      0.000    9.85e+20    9.85e+20\n",
       "LastActivity_Form Submitted on Website            9.845e+20   5.82e+13   1.69e+07      0.000    9.85e+20    9.85e+20\n",
       "LastActivity_Had a Phone Conversation             9.845e+20   5.82e+13   1.69e+07      0.000    9.85e+20    9.85e+20\n",
       "LastActivity_Olark Chat Conversation              9.845e+20   5.82e+13   1.69e+07      0.000    9.85e+20    9.85e+20\n",
       "LastActivity_Other                                9.845e+20   5.82e+13   1.69e+07      0.000    9.85e+20    9.85e+20\n",
       "LastActivity_Page Visited on Website              9.845e+20   5.82e+13   1.69e+07      0.000    9.85e+20    9.85e+20\n",
       "LastActivity_SMS Sent                             9.845e+20   5.82e+13   1.69e+07      0.000    9.85e+20    9.85e+20\n",
       "LastActivity_Unreachable                          9.845e+20   5.82e+13   1.69e+07      0.000    9.85e+20    9.85e+20\n",
       "LastActivity_Unsubscribed                         9.845e+20   5.82e+13   1.69e+07      0.000    9.85e+20    9.85e+20\n",
       "LastActivity_View in browser link Clicked         9.845e+20   5.82e+13   1.69e+07      0.000    9.85e+20    9.85e+20\n",
       "LastActivity_Visited Booth in Tradeshow           9.845e+20   5.82e+13   1.69e+07      0.000    9.85e+20    9.85e+20\n",
       "CurrentOccupation_Housewife                       1.479e+15   4.53e+07   3.27e+07      0.000    1.48e+15    1.48e+15\n",
       "CurrentOccupation_Other                          -9.286e+14   3.39e+07  -2.74e+07      0.000   -9.29e+14   -9.29e+14\n",
       "CurrentOccupation_Student                        -2.086e+15   3.43e+07  -6.08e+07      0.000   -2.09e+15   -2.09e+15\n",
       "CurrentOccupation_Unemployed                      -3.79e+14   3.39e+07  -1.12e+07      0.000   -3.79e+14   -3.79e+14\n",
       "CurrentOccupation_Working Professional            -9.39e+13    3.4e+07  -2.76e+06      0.000   -9.39e+13   -9.39e+13\n",
       "LastNotableActivity_Approached upfront            2.056e+12   1.22e+05   1.69e+07      0.000    2.06e+12    2.06e+12\n",
       "LastNotableActivity_Email Bounced                 1.364e+21   8.07e+13   1.69e+07      0.000    1.36e+21    1.36e+21\n",
       "LastNotableActivity_Email Link Clicked            1.364e+21   8.07e+13   1.69e+07      0.000    1.36e+21    1.36e+21\n",
       "LastNotableActivity_Email Marked Spam             1.174e+21   6.95e+13   1.69e+07      0.000    1.17e+21    1.17e+21\n",
       "LastNotableActivity_Email Opened                  1.364e+21   8.07e+13   1.69e+07      0.000    1.36e+21    1.36e+21\n",
       "LastNotableActivity_Email Received                1.364e+21   8.07e+13   1.69e+07      0.000    1.36e+21    1.36e+21\n",
       "LastNotableActivity_Form Submitted on Website     1.364e+21   8.07e+13   1.69e+07      0.000    1.36e+21    1.36e+21\n",
       "LastNotableActivity_Had a Phone Conversation      1.364e+21   8.07e+13   1.69e+07      0.000    1.36e+21    1.36e+21\n",
       "LastNotableActivity_Modified                      1.364e+21   8.07e+13   1.69e+07      0.000    1.36e+21    1.36e+21\n",
       "LastNotableActivity_Olark Chat Conversation       1.364e+21   8.07e+13   1.69e+07      0.000    1.36e+21    1.36e+21\n",
       "LastNotableActivity_Page Visited on Website       1.364e+21   8.07e+13   1.69e+07      0.000    1.36e+21    1.36e+21\n",
       "LastNotableActivity_Resubscribed to emails                0          0        nan        nan           0           0\n",
       "LastNotableActivity_SMS Sent                      1.364e+21   8.07e+13   1.69e+07      0.000    1.36e+21    1.36e+21\n",
       "LastNotableActivity_Unreachable                   1.364e+21   8.07e+13   1.69e+07      0.000    1.36e+21    1.36e+21\n",
       "LastNotableActivity_Unsubscribed                  1.364e+21   8.07e+13   1.69e+07      0.000    1.36e+21    1.36e+21\n",
       "LastNotableActivity_View in browser link Clicked          0          0        nan        nan           0           0\n",
       "====================================================================================================================\n",
       "\"\"\""
      ]
     },
     "execution_count": 231,
     "metadata": {},
     "output_type": "execute_result"
    }
   ],
   "source": [
    "# Logistic regression model\n",
    "logm1 = sm.GLM(y_train,(sm.add_constant(X_train)),family = sm.families.Binomial())\n",
    "logm1.fit().summary()"
   ]
  },
  {
   "cell_type": "markdown",
   "id": "78cf2c03",
   "metadata": {},
   "source": [
    "## Feature seletion using RFE"
   ]
  },
  {
   "cell_type": "code",
   "execution_count": 232,
   "id": "066d241b",
   "metadata": {},
   "outputs": [],
   "source": [
    "from sklearn.linear_model import LogisticRegression\n",
    "logreg = LogisticRegression()\n"
   ]
  },
  {
   "cell_type": "code",
   "execution_count": 233,
   "id": "9c89f873",
   "metadata": {},
   "outputs": [],
   "source": [
    "from sklearn.feature_selection import RFE\n",
    "\n",
    "# running RFE with 20 variables as output\n",
    "\n",
    "rfe = RFE(logreg, 20)            \n",
    "rfe = rfe.fit(X_train, y_train)\n"
   ]
  },
  {
   "cell_type": "code",
   "execution_count": 234,
   "id": "3f35fdaa",
   "metadata": {},
   "outputs": [
    {
     "data": {
      "text/plain": [
       "array([ True, False, False,  True, False, False, False, False, False,\n",
       "        True,  True,  True, False, False, False, False, False, False,\n",
       "        True, False, False, False, False, False, False, False,  True,\n",
       "       False, False, False, False, False,  True, False, False, False,\n",
       "       False,  True, False, False,  True, False,  True, False,  True,\n",
       "       False, False, False, False,  True,  True, False, False,  True,\n",
       "       False, False, False, False,  True, False, False,  True,  True,\n",
       "        True, False, False, False,  True, False, False])"
      ]
     },
     "execution_count": 234,
     "metadata": {},
     "output_type": "execute_result"
    }
   ],
   "source": [
    "rfe.support_"
   ]
  },
  {
   "cell_type": "code",
   "execution_count": 235,
   "id": "c884a129",
   "metadata": {},
   "outputs": [
    {
     "data": {
      "text/plain": [
       "[('Do Not Email', True, 1),\n",
       " ('Do Not Call', False, 6),\n",
       " ('TotalVisits', False, 24),\n",
       " ('Total Time Spent on Website', True, 1),\n",
       " ('Page Views Per Visit', False, 25),\n",
       " ('Search', False, 17),\n",
       " ('Digital Advertisement', False, 44),\n",
       " ('Through Recommendations', False, 26),\n",
       " ('A free copy of Mastering The Interview', False, 45),\n",
       " ('LeadOrigin_API', True, 1),\n",
       " ('LeadOrigin_Landing Page Submission', True, 1),\n",
       " ('LeadOrigin_Lead Add Form', True, 1),\n",
       " ('LeadOrigin_Lead Import', False, 27),\n",
       " ('LeadSource_Click2call', False, 30),\n",
       " ('LeadSource_Direct Traffic', False, 11),\n",
       " ('LeadSource_Facebook', False, 3),\n",
       " ('LeadSource_Google', False, 14),\n",
       " ('LeadSource_Live Chat', False, 38),\n",
       " ('LeadSource_Olark Chat', True, 1),\n",
       " ('LeadSource_Organic Search', False, 12),\n",
       " ('LeadSource_Pay per Click Ads', False, 50),\n",
       " ('LeadSource_Press_Release', False, 43),\n",
       " ('LeadSource_Reference', False, 37),\n",
       " ('LeadSource_Referral Sites', False, 13),\n",
       " ('LeadSource_Social Media', False, 4),\n",
       " ('LeadSource_WeLearn', False, 47),\n",
       " ('LeadSource_Welingak Website', True, 1),\n",
       " ('LeadSource_bing', False, 21),\n",
       " ('LeadSource_blog', False, 29),\n",
       " ('LeadSource_testone', False, 48),\n",
       " ('LeadSource_welearnblog_Home', False, 34),\n",
       " ('LeadSource_youtubechannel', False, 33),\n",
       " ('LastActivity_Approached upfront', True, 1),\n",
       " ('LastActivity_Converted to Lead', False, 9),\n",
       " ('LastActivity_Email Bounced', False, 7),\n",
       " ('LastActivity_Email Link Clicked', False, 28),\n",
       " ('LastActivity_Email Marked Spam', False, 18),\n",
       " ('LastActivity_Email Opened', True, 1),\n",
       " ('LastActivity_Email Received', False, 31),\n",
       " ('LastActivity_Form Submitted on Website', False, 36),\n",
       " ('LastActivity_Had a Phone Conversation', True, 1),\n",
       " ('LastActivity_Olark Chat Conversation', False, 2),\n",
       " ('LastActivity_Other', True, 1),\n",
       " ('LastActivity_Page Visited on Website', False, 35),\n",
       " ('LastActivity_SMS Sent', True, 1),\n",
       " ('LastActivity_Unreachable', False, 32),\n",
       " ('LastActivity_Unsubscribed', False, 40),\n",
       " ('LastActivity_View in browser link Clicked', False, 10),\n",
       " ('LastActivity_Visited Booth in Tradeshow', False, 39),\n",
       " ('CurrentOccupation_Housewife', True, 1),\n",
       " ('CurrentOccupation_Other', True, 1),\n",
       " ('CurrentOccupation_Student', False, 20),\n",
       " ('CurrentOccupation_Unemployed', False, 19),\n",
       " ('CurrentOccupation_Working Professional', True, 1),\n",
       " ('LastNotableActivity_Approached upfront', False, 46),\n",
       " ('LastNotableActivity_Email Bounced', False, 22),\n",
       " ('LastNotableActivity_Email Link Clicked', False, 5),\n",
       " ('LastNotableActivity_Email Marked Spam', False, 15),\n",
       " ('LastNotableActivity_Email Opened', True, 1),\n",
       " ('LastNotableActivity_Email Received', False, 41),\n",
       " ('LastNotableActivity_Form Submitted on Website', False, 42),\n",
       " ('LastNotableActivity_Had a Phone Conversation', True, 1),\n",
       " ('LastNotableActivity_Modified', True, 1),\n",
       " ('LastNotableActivity_Olark Chat Conversation', True, 1),\n",
       " ('LastNotableActivity_Page Visited on Website', False, 8),\n",
       " ('LastNotableActivity_Resubscribed to emails', False, 49),\n",
       " ('LastNotableActivity_SMS Sent', False, 23),\n",
       " ('LastNotableActivity_Unreachable', True, 1),\n",
       " ('LastNotableActivity_Unsubscribed', False, 16),\n",
       " ('LastNotableActivity_View in browser link Clicked', False, 51)]"
      ]
     },
     "execution_count": 235,
     "metadata": {},
     "output_type": "execute_result"
    }
   ],
   "source": [
    "list(zip(X_train.columns, rfe.support_, rfe.ranking_))"
   ]
  },
  {
   "cell_type": "code",
   "execution_count": 236,
   "id": "b731b2fa",
   "metadata": {},
   "outputs": [
    {
     "data": {
      "text/plain": [
       "Index(['Do Not Email', 'Total Time Spent on Website', 'LeadOrigin_API',\n",
       "       'LeadOrigin_Landing Page Submission', 'LeadOrigin_Lead Add Form',\n",
       "       'LeadSource_Olark Chat', 'LeadSource_Welingak Website',\n",
       "       'LastActivity_Approached upfront', 'LastActivity_Email Opened',\n",
       "       'LastActivity_Had a Phone Conversation', 'LastActivity_Other',\n",
       "       'LastActivity_SMS Sent', 'CurrentOccupation_Housewife',\n",
       "       'CurrentOccupation_Other', 'CurrentOccupation_Working Professional',\n",
       "       'LastNotableActivity_Email Opened',\n",
       "       'LastNotableActivity_Had a Phone Conversation',\n",
       "       'LastNotableActivity_Modified',\n",
       "       'LastNotableActivity_Olark Chat Conversation',\n",
       "       'LastNotableActivity_Unreachable'],\n",
       "      dtype='object')"
      ]
     },
     "execution_count": 236,
     "metadata": {},
     "output_type": "execute_result"
    }
   ],
   "source": [
    "# variables shortlisted by RFE\n",
    "\n",
    "col = X_train.columns[rfe.support_]\n",
    "col"
   ]
  },
  {
   "cell_type": "markdown",
   "id": "fdf12a98",
   "metadata": {},
   "source": [
    "### Model2"
   ]
  },
  {
   "cell_type": "code",
   "execution_count": 237,
   "id": "93bcc8c7",
   "metadata": {},
   "outputs": [
    {
     "data": {
      "text/html": [
       "<table class=\"simpletable\">\n",
       "<caption>Generalized Linear Model Regression Results</caption>\n",
       "<tr>\n",
       "  <th>Dep. Variable:</th>       <td>Converted</td>    <th>  No. Observations:  </th>  <td>  6075</td> \n",
       "</tr>\n",
       "<tr>\n",
       "  <th>Model:</th>                  <td>GLM</td>       <th>  Df Residuals:      </th>  <td>  6054</td> \n",
       "</tr>\n",
       "<tr>\n",
       "  <th>Model Family:</th>        <td>Binomial</td>     <th>  Df Model:          </th>  <td>    20</td> \n",
       "</tr>\n",
       "<tr>\n",
       "  <th>Link Function:</th>         <td>logit</td>      <th>  Scale:             </th> <td>  1.0000</td>\n",
       "</tr>\n",
       "<tr>\n",
       "  <th>Method:</th>                <td>IRLS</td>       <th>  Log-Likelihood:    </th> <td> -2362.8</td>\n",
       "</tr>\n",
       "<tr>\n",
       "  <th>Date:</th>            <td>Tue, 28 Nov 2023</td> <th>  Deviance:          </th> <td>  4725.6</td>\n",
       "</tr>\n",
       "<tr>\n",
       "  <th>Time:</th>                <td>15:39:56</td>     <th>  Pearson chi2:      </th> <td>6.32e+03</td>\n",
       "</tr>\n",
       "<tr>\n",
       "  <th>No. Iterations:</th>         <td>24</td>        <th>                     </th>     <td> </td>   \n",
       "</tr>\n",
       "<tr>\n",
       "  <th>Covariance Type:</th>     <td>nonrobust</td>    <th>                     </th>     <td> </td>   \n",
       "</tr>\n",
       "</table>\n",
       "<table class=\"simpletable\">\n",
       "<tr>\n",
       "                        <td></td>                          <th>coef</th>     <th>std err</th>      <th>z</th>      <th>P>|z|</th>  <th>[0.025</th>    <th>0.975]</th>  \n",
       "</tr>\n",
       "<tr>\n",
       "  <th>const</th>                                        <td>   -0.3820</td> <td>    0.527</td> <td>   -0.725</td> <td> 0.468</td> <td>   -1.414</td> <td>    0.650</td>\n",
       "</tr>\n",
       "<tr>\n",
       "  <th>Do Not Email</th>                                 <td>   -1.1857</td> <td>    0.185</td> <td>   -6.418</td> <td> 0.000</td> <td>   -1.548</td> <td>   -0.824</td>\n",
       "</tr>\n",
       "<tr>\n",
       "  <th>Total Time Spent on Website</th>                  <td>    1.1423</td> <td>    0.043</td> <td>   26.687</td> <td> 0.000</td> <td>    1.058</td> <td>    1.226</td>\n",
       "</tr>\n",
       "<tr>\n",
       "  <th>LeadOrigin_API</th>                               <td>   -0.5681</td> <td>    0.517</td> <td>   -1.099</td> <td> 0.272</td> <td>   -1.582</td> <td>    0.445</td>\n",
       "</tr>\n",
       "<tr>\n",
       "  <th>LeadOrigin_Landing Page Submission</th>           <td>   -0.8451</td> <td>    0.513</td> <td>   -1.646</td> <td> 0.100</td> <td>   -1.851</td> <td>    0.161</td>\n",
       "</tr>\n",
       "<tr>\n",
       "  <th>LeadOrigin_Lead Add Form</th>                     <td>    3.1495</td> <td>    0.539</td> <td>    5.846</td> <td> 0.000</td> <td>    2.094</td> <td>    4.205</td>\n",
       "</tr>\n",
       "<tr>\n",
       "  <th>LeadSource_Olark Chat</th>                        <td>    1.1311</td> <td>    0.126</td> <td>    8.979</td> <td> 0.000</td> <td>    0.884</td> <td>    1.378</td>\n",
       "</tr>\n",
       "<tr>\n",
       "  <th>LeadSource_Welingak Website</th>                  <td>   23.3653</td> <td> 2.01e+04</td> <td>    0.001</td> <td> 0.999</td> <td>-3.93e+04</td> <td> 3.94e+04</td>\n",
       "</tr>\n",
       "<tr>\n",
       "  <th>LastActivity_Approached upfront</th>              <td>   26.0535</td> <td>  6.6e+04</td> <td>    0.000</td> <td> 1.000</td> <td>-1.29e+05</td> <td> 1.29e+05</td>\n",
       "</tr>\n",
       "<tr>\n",
       "  <th>LastActivity_Email Opened</th>                    <td>    1.0748</td> <td>    0.161</td> <td>    6.687</td> <td> 0.000</td> <td>    0.760</td> <td>    1.390</td>\n",
       "</tr>\n",
       "<tr>\n",
       "  <th>LastActivity_Had a Phone Conversation</th>        <td>    0.7333</td> <td>    0.956</td> <td>    0.767</td> <td> 0.443</td> <td>   -1.140</td> <td>    2.607</td>\n",
       "</tr>\n",
       "<tr>\n",
       "  <th>LastActivity_Other</th>                           <td>   -0.9519</td> <td>    0.466</td> <td>   -2.042</td> <td> 0.041</td> <td>   -1.866</td> <td>   -0.038</td>\n",
       "</tr>\n",
       "<tr>\n",
       "  <th>LastActivity_SMS Sent</th>                        <td>    1.4758</td> <td>    0.120</td> <td>   12.266</td> <td> 0.000</td> <td>    1.240</td> <td>    1.712</td>\n",
       "</tr>\n",
       "<tr>\n",
       "  <th>CurrentOccupation_Housewife</th>                  <td>   25.8587</td> <td> 8.08e+04</td> <td>    0.000</td> <td> 1.000</td> <td>-1.58e+05</td> <td> 1.58e+05</td>\n",
       "</tr>\n",
       "<tr>\n",
       "  <th>CurrentOccupation_Other</th>                      <td>   -1.1147</td> <td>    0.092</td> <td>  -12.150</td> <td> 0.000</td> <td>   -1.294</td> <td>   -0.935</td>\n",
       "</tr>\n",
       "<tr>\n",
       "  <th>CurrentOccupation_Working Professional</th>       <td>    2.5041</td> <td>    0.189</td> <td>   13.252</td> <td> 0.000</td> <td>    2.134</td> <td>    2.874</td>\n",
       "</tr>\n",
       "<tr>\n",
       "  <th>LastNotableActivity_Email Opened</th>             <td>   -1.0271</td> <td>    0.188</td> <td>   -5.452</td> <td> 0.000</td> <td>   -1.396</td> <td>   -0.658</td>\n",
       "</tr>\n",
       "<tr>\n",
       "  <th>LastNotableActivity_Had a Phone Conversation</th> <td>   24.8676</td> <td> 5.64e+04</td> <td>    0.000</td> <td> 1.000</td> <td> -1.1e+05</td> <td> 1.11e+05</td>\n",
       "</tr>\n",
       "<tr>\n",
       "  <th>LastNotableActivity_Modified</th>                 <td>   -1.0996</td> <td>    0.119</td> <td>   -9.217</td> <td> 0.000</td> <td>   -1.333</td> <td>   -0.866</td>\n",
       "</tr>\n",
       "<tr>\n",
       "  <th>LastNotableActivity_Olark Chat Conversation</th>  <td>   -1.8226</td> <td>    0.449</td> <td>   -4.058</td> <td> 0.000</td> <td>   -2.703</td> <td>   -0.942</td>\n",
       "</tr>\n",
       "<tr>\n",
       "  <th>LastNotableActivity_Unreachable</th>              <td>    2.1510</td> <td>    0.563</td> <td>    3.818</td> <td> 0.000</td> <td>    1.047</td> <td>    3.255</td>\n",
       "</tr>\n",
       "</table>"
      ],
      "text/plain": [
       "<class 'statsmodels.iolib.summary.Summary'>\n",
       "\"\"\"\n",
       "                 Generalized Linear Model Regression Results                  \n",
       "==============================================================================\n",
       "Dep. Variable:              Converted   No. Observations:                 6075\n",
       "Model:                            GLM   Df Residuals:                     6054\n",
       "Model Family:                Binomial   Df Model:                           20\n",
       "Link Function:                  logit   Scale:                          1.0000\n",
       "Method:                          IRLS   Log-Likelihood:                -2362.8\n",
       "Date:                Tue, 28 Nov 2023   Deviance:                       4725.6\n",
       "Time:                        15:39:56   Pearson chi2:                 6.32e+03\n",
       "No. Iterations:                    24                                         \n",
       "Covariance Type:            nonrobust                                         \n",
       "================================================================================================================\n",
       "                                                   coef    std err          z      P>|z|      [0.025      0.975]\n",
       "----------------------------------------------------------------------------------------------------------------\n",
       "const                                           -0.3820      0.527     -0.725      0.468      -1.414       0.650\n",
       "Do Not Email                                    -1.1857      0.185     -6.418      0.000      -1.548      -0.824\n",
       "Total Time Spent on Website                      1.1423      0.043     26.687      0.000       1.058       1.226\n",
       "LeadOrigin_API                                  -0.5681      0.517     -1.099      0.272      -1.582       0.445\n",
       "LeadOrigin_Landing Page Submission              -0.8451      0.513     -1.646      0.100      -1.851       0.161\n",
       "LeadOrigin_Lead Add Form                         3.1495      0.539      5.846      0.000       2.094       4.205\n",
       "LeadSource_Olark Chat                            1.1311      0.126      8.979      0.000       0.884       1.378\n",
       "LeadSource_Welingak Website                     23.3653   2.01e+04      0.001      0.999   -3.93e+04    3.94e+04\n",
       "LastActivity_Approached upfront                 26.0535    6.6e+04      0.000      1.000   -1.29e+05    1.29e+05\n",
       "LastActivity_Email Opened                        1.0748      0.161      6.687      0.000       0.760       1.390\n",
       "LastActivity_Had a Phone Conversation            0.7333      0.956      0.767      0.443      -1.140       2.607\n",
       "LastActivity_Other                              -0.9519      0.466     -2.042      0.041      -1.866      -0.038\n",
       "LastActivity_SMS Sent                            1.4758      0.120     12.266      0.000       1.240       1.712\n",
       "CurrentOccupation_Housewife                     25.8587   8.08e+04      0.000      1.000   -1.58e+05    1.58e+05\n",
       "CurrentOccupation_Other                         -1.1147      0.092    -12.150      0.000      -1.294      -0.935\n",
       "CurrentOccupation_Working Professional           2.5041      0.189     13.252      0.000       2.134       2.874\n",
       "LastNotableActivity_Email Opened                -1.0271      0.188     -5.452      0.000      -1.396      -0.658\n",
       "LastNotableActivity_Had a Phone Conversation    24.8676   5.64e+04      0.000      1.000    -1.1e+05    1.11e+05\n",
       "LastNotableActivity_Modified                    -1.0996      0.119     -9.217      0.000      -1.333      -0.866\n",
       "LastNotableActivity_Olark Chat Conversation     -1.8226      0.449     -4.058      0.000      -2.703      -0.942\n",
       "LastNotableActivity_Unreachable                  2.1510      0.563      3.818      0.000       1.047       3.255\n",
       "================================================================================================================\n",
       "\"\"\""
      ]
     },
     "execution_count": 237,
     "metadata": {},
     "output_type": "execute_result"
    }
   ],
   "source": [
    "X_train_sm = sm.add_constant(X_train[col])\n",
    "logm2 = sm.GLM(y_train,X_train_sm, family = sm.families.Binomial())\n",
    "res = logm2.fit()\n",
    "res.summary()"
   ]
  },
  {
   "cell_type": "markdown",
   "id": "f5bab9b2",
   "metadata": {},
   "source": [
    "Drop LastActivity_Approached upfront as its having highest P-Value"
   ]
  },
  {
   "cell_type": "code",
   "execution_count": 238,
   "id": "200925ca",
   "metadata": {},
   "outputs": [],
   "source": [
    "col = col.drop('LastActivity_Approached upfront',1)"
   ]
  },
  {
   "cell_type": "markdown",
   "id": "043c2526",
   "metadata": {},
   "source": [
    "### Model 3"
   ]
  },
  {
   "cell_type": "code",
   "execution_count": 239,
   "id": "d361170a",
   "metadata": {},
   "outputs": [
    {
     "data": {
      "text/html": [
       "<table class=\"simpletable\">\n",
       "<caption>Generalized Linear Model Regression Results</caption>\n",
       "<tr>\n",
       "  <th>Dep. Variable:</th>       <td>Converted</td>    <th>  No. Observations:  </th>  <td>  6075</td> \n",
       "</tr>\n",
       "<tr>\n",
       "  <th>Model:</th>                  <td>GLM</td>       <th>  Df Residuals:      </th>  <td>  6055</td> \n",
       "</tr>\n",
       "<tr>\n",
       "  <th>Model Family:</th>        <td>Binomial</td>     <th>  Df Model:          </th>  <td>    19</td> \n",
       "</tr>\n",
       "<tr>\n",
       "  <th>Link Function:</th>         <td>logit</td>      <th>  Scale:             </th> <td>  1.0000</td>\n",
       "</tr>\n",
       "<tr>\n",
       "  <th>Method:</th>                <td>IRLS</td>       <th>  Log-Likelihood:    </th> <td> -2369.2</td>\n",
       "</tr>\n",
       "<tr>\n",
       "  <th>Date:</th>            <td>Tue, 28 Nov 2023</td> <th>  Deviance:          </th> <td>  4738.4</td>\n",
       "</tr>\n",
       "<tr>\n",
       "  <th>Time:</th>                <td>15:41:53</td>     <th>  Pearson chi2:      </th> <td>6.33e+03</td>\n",
       "</tr>\n",
       "<tr>\n",
       "  <th>No. Iterations:</th>         <td>24</td>        <th>                     </th>     <td> </td>   \n",
       "</tr>\n",
       "<tr>\n",
       "  <th>Covariance Type:</th>     <td>nonrobust</td>    <th>                     </th>     <td> </td>   \n",
       "</tr>\n",
       "</table>\n",
       "<table class=\"simpletable\">\n",
       "<tr>\n",
       "                        <td></td>                          <th>coef</th>     <th>std err</th>      <th>z</th>      <th>P>|z|</th>  <th>[0.025</th>    <th>0.975]</th>  \n",
       "</tr>\n",
       "<tr>\n",
       "  <th>const</th>                                        <td>   -0.3702</td> <td>    0.527</td> <td>   -0.702</td> <td> 0.482</td> <td>   -1.403</td> <td>    0.663</td>\n",
       "</tr>\n",
       "<tr>\n",
       "  <th>Do Not Email</th>                                 <td>   -1.1958</td> <td>    0.185</td> <td>   -6.477</td> <td> 0.000</td> <td>   -1.558</td> <td>   -0.834</td>\n",
       "</tr>\n",
       "<tr>\n",
       "  <th>Total Time Spent on Website</th>                  <td>    1.1439</td> <td>    0.043</td> <td>   26.742</td> <td> 0.000</td> <td>    1.060</td> <td>    1.228</td>\n",
       "</tr>\n",
       "<tr>\n",
       "  <th>LeadOrigin_API</th>                               <td>   -0.5712</td> <td>    0.518</td> <td>   -1.103</td> <td> 0.270</td> <td>   -1.586</td> <td>    0.443</td>\n",
       "</tr>\n",
       "<tr>\n",
       "  <th>LeadOrigin_Landing Page Submission</th>           <td>   -0.8434</td> <td>    0.514</td> <td>   -1.641</td> <td> 0.101</td> <td>   -1.851</td> <td>    0.164</td>\n",
       "</tr>\n",
       "<tr>\n",
       "  <th>LeadOrigin_Lead Add Form</th>                     <td>    3.1631</td> <td>    0.539</td> <td>    5.866</td> <td> 0.000</td> <td>    2.106</td> <td>    4.220</td>\n",
       "</tr>\n",
       "<tr>\n",
       "  <th>LeadSource_Olark Chat</th>                        <td>    1.1444</td> <td>    0.126</td> <td>    9.097</td> <td> 0.000</td> <td>    0.898</td> <td>    1.391</td>\n",
       "</tr>\n",
       "<tr>\n",
       "  <th>LeadSource_Welingak Website</th>                  <td>   23.3548</td> <td> 2.01e+04</td> <td>    0.001</td> <td> 0.999</td> <td>-3.93e+04</td> <td> 3.93e+04</td>\n",
       "</tr>\n",
       "<tr>\n",
       "  <th>LastActivity_Email Opened</th>                    <td>    1.0484</td> <td>    0.160</td> <td>    6.541</td> <td> 0.000</td> <td>    0.734</td> <td>    1.363</td>\n",
       "</tr>\n",
       "<tr>\n",
       "  <th>LastActivity_Had a Phone Conversation</th>        <td>    0.7083</td> <td>    0.957</td> <td>    0.741</td> <td> 0.459</td> <td>   -1.166</td> <td>    2.583</td>\n",
       "</tr>\n",
       "<tr>\n",
       "  <th>LastActivity_Other</th>                           <td>   -0.9892</td> <td>    0.466</td> <td>   -2.122</td> <td> 0.034</td> <td>   -1.903</td> <td>   -0.075</td>\n",
       "</tr>\n",
       "<tr>\n",
       "  <th>LastActivity_SMS Sent</th>                        <td>    1.4613</td> <td>    0.120</td> <td>   12.175</td> <td> 0.000</td> <td>    1.226</td> <td>    1.697</td>\n",
       "</tr>\n",
       "<tr>\n",
       "  <th>CurrentOccupation_Housewife</th>                  <td>   25.8581</td> <td> 8.07e+04</td> <td>    0.000</td> <td> 1.000</td> <td>-1.58e+05</td> <td> 1.58e+05</td>\n",
       "</tr>\n",
       "<tr>\n",
       "  <th>CurrentOccupation_Other</th>                      <td>   -1.1227</td> <td>    0.092</td> <td>  -12.248</td> <td> 0.000</td> <td>   -1.302</td> <td>   -0.943</td>\n",
       "</tr>\n",
       "<tr>\n",
       "  <th>CurrentOccupation_Working Professional</th>       <td>    2.4963</td> <td>    0.189</td> <td>   13.223</td> <td> 0.000</td> <td>    2.126</td> <td>    2.866</td>\n",
       "</tr>\n",
       "<tr>\n",
       "  <th>LastNotableActivity_Email Opened</th>             <td>   -1.0136</td> <td>    0.188</td> <td>   -5.383</td> <td> 0.000</td> <td>   -1.383</td> <td>   -0.645</td>\n",
       "</tr>\n",
       "<tr>\n",
       "  <th>LastNotableActivity_Had a Phone Conversation</th> <td>   24.8796</td> <td> 5.64e+04</td> <td>    0.000</td> <td> 1.000</td> <td> -1.1e+05</td> <td> 1.11e+05</td>\n",
       "</tr>\n",
       "<tr>\n",
       "  <th>LastNotableActivity_Modified</th>                 <td>   -1.0859</td> <td>    0.119</td> <td>   -9.121</td> <td> 0.000</td> <td>   -1.319</td> <td>   -0.853</td>\n",
       "</tr>\n",
       "<tr>\n",
       "  <th>LastNotableActivity_Olark Chat Conversation</th>  <td>   -1.8367</td> <td>    0.449</td> <td>   -4.090</td> <td> 0.000</td> <td>   -2.717</td> <td>   -0.957</td>\n",
       "</tr>\n",
       "<tr>\n",
       "  <th>LastNotableActivity_Unreachable</th>              <td>    2.1415</td> <td>    0.564</td> <td>    3.800</td> <td> 0.000</td> <td>    1.037</td> <td>    3.246</td>\n",
       "</tr>\n",
       "</table>"
      ],
      "text/plain": [
       "<class 'statsmodels.iolib.summary.Summary'>\n",
       "\"\"\"\n",
       "                 Generalized Linear Model Regression Results                  \n",
       "==============================================================================\n",
       "Dep. Variable:              Converted   No. Observations:                 6075\n",
       "Model:                            GLM   Df Residuals:                     6055\n",
       "Model Family:                Binomial   Df Model:                           19\n",
       "Link Function:                  logit   Scale:                          1.0000\n",
       "Method:                          IRLS   Log-Likelihood:                -2369.2\n",
       "Date:                Tue, 28 Nov 2023   Deviance:                       4738.4\n",
       "Time:                        15:41:53   Pearson chi2:                 6.33e+03\n",
       "No. Iterations:                    24                                         \n",
       "Covariance Type:            nonrobust                                         \n",
       "================================================================================================================\n",
       "                                                   coef    std err          z      P>|z|      [0.025      0.975]\n",
       "----------------------------------------------------------------------------------------------------------------\n",
       "const                                           -0.3702      0.527     -0.702      0.482      -1.403       0.663\n",
       "Do Not Email                                    -1.1958      0.185     -6.477      0.000      -1.558      -0.834\n",
       "Total Time Spent on Website                      1.1439      0.043     26.742      0.000       1.060       1.228\n",
       "LeadOrigin_API                                  -0.5712      0.518     -1.103      0.270      -1.586       0.443\n",
       "LeadOrigin_Landing Page Submission              -0.8434      0.514     -1.641      0.101      -1.851       0.164\n",
       "LeadOrigin_Lead Add Form                         3.1631      0.539      5.866      0.000       2.106       4.220\n",
       "LeadSource_Olark Chat                            1.1444      0.126      9.097      0.000       0.898       1.391\n",
       "LeadSource_Welingak Website                     23.3548   2.01e+04      0.001      0.999   -3.93e+04    3.93e+04\n",
       "LastActivity_Email Opened                        1.0484      0.160      6.541      0.000       0.734       1.363\n",
       "LastActivity_Had a Phone Conversation            0.7083      0.957      0.741      0.459      -1.166       2.583\n",
       "LastActivity_Other                              -0.9892      0.466     -2.122      0.034      -1.903      -0.075\n",
       "LastActivity_SMS Sent                            1.4613      0.120     12.175      0.000       1.226       1.697\n",
       "CurrentOccupation_Housewife                     25.8581   8.07e+04      0.000      1.000   -1.58e+05    1.58e+05\n",
       "CurrentOccupation_Other                         -1.1227      0.092    -12.248      0.000      -1.302      -0.943\n",
       "CurrentOccupation_Working Professional           2.4963      0.189     13.223      0.000       2.126       2.866\n",
       "LastNotableActivity_Email Opened                -1.0136      0.188     -5.383      0.000      -1.383      -0.645\n",
       "LastNotableActivity_Had a Phone Conversation    24.8796   5.64e+04      0.000      1.000    -1.1e+05    1.11e+05\n",
       "LastNotableActivity_Modified                    -1.0859      0.119     -9.121      0.000      -1.319      -0.853\n",
       "LastNotableActivity_Olark Chat Conversation     -1.8367      0.449     -4.090      0.000      -2.717      -0.957\n",
       "LastNotableActivity_Unreachable                  2.1415      0.564      3.800      0.000       1.037       3.246\n",
       "================================================================================================================\n",
       "\"\"\""
      ]
     },
     "execution_count": 239,
     "metadata": {},
     "output_type": "execute_result"
    }
   ],
   "source": [
    "X_train_sm = sm.add_constant(X_train[col])\n",
    "logm3 = sm.GLM(y_train,X_train_sm, family = sm.families.Binomial())\n",
    "res = logm3.fit()\n",
    "res.summary()"
   ]
  },
  {
   "cell_type": "markdown",
   "id": "03023b2d",
   "metadata": {},
   "source": [
    "Drop CurrentOccupation_Housewife column as it is having highest P-Value"
   ]
  },
  {
   "cell_type": "code",
   "execution_count": 240,
   "id": "12a0f635",
   "metadata": {},
   "outputs": [],
   "source": [
    "col = col.drop('CurrentOccupation_Housewife',1)"
   ]
  },
  {
   "cell_type": "markdown",
   "id": "6425ddff",
   "metadata": {},
   "source": [
    "### Model 4"
   ]
  },
  {
   "cell_type": "code",
   "execution_count": 241,
   "id": "ab5f701d",
   "metadata": {},
   "outputs": [
    {
     "data": {
      "text/html": [
       "<table class=\"simpletable\">\n",
       "<caption>Generalized Linear Model Regression Results</caption>\n",
       "<tr>\n",
       "  <th>Dep. Variable:</th>       <td>Converted</td>    <th>  No. Observations:  </th>  <td>  6075</td> \n",
       "</tr>\n",
       "<tr>\n",
       "  <th>Model:</th>                  <td>GLM</td>       <th>  Df Residuals:      </th>  <td>  6056</td> \n",
       "</tr>\n",
       "<tr>\n",
       "  <th>Model Family:</th>        <td>Binomial</td>     <th>  Df Model:          </th>  <td>    18</td> \n",
       "</tr>\n",
       "<tr>\n",
       "  <th>Link Function:</th>         <td>logit</td>      <th>  Scale:             </th> <td>  1.0000</td>\n",
       "</tr>\n",
       "<tr>\n",
       "  <th>Method:</th>                <td>IRLS</td>       <th>  Log-Likelihood:    </th> <td> -2372.3</td>\n",
       "</tr>\n",
       "<tr>\n",
       "  <th>Date:</th>            <td>Tue, 28 Nov 2023</td> <th>  Deviance:          </th> <td>  4744.7</td>\n",
       "</tr>\n",
       "<tr>\n",
       "  <th>Time:</th>                <td>15:43:09</td>     <th>  Pearson chi2:      </th> <td>6.34e+03</td>\n",
       "</tr>\n",
       "<tr>\n",
       "  <th>No. Iterations:</th>         <td>23</td>        <th>                     </th>     <td> </td>   \n",
       "</tr>\n",
       "<tr>\n",
       "  <th>Covariance Type:</th>     <td>nonrobust</td>    <th>                     </th>     <td> </td>   \n",
       "</tr>\n",
       "</table>\n",
       "<table class=\"simpletable\">\n",
       "<tr>\n",
       "                        <td></td>                          <th>coef</th>     <th>std err</th>      <th>z</th>      <th>P>|z|</th>  <th>[0.025</th>    <th>0.975]</th>  \n",
       "</tr>\n",
       "<tr>\n",
       "  <th>const</th>                                        <td>   -0.3790</td> <td>    0.527</td> <td>   -0.720</td> <td> 0.472</td> <td>   -1.411</td> <td>    0.653</td>\n",
       "</tr>\n",
       "<tr>\n",
       "  <th>Do Not Email</th>                                 <td>   -1.1966</td> <td>    0.185</td> <td>   -6.480</td> <td> 0.000</td> <td>   -1.559</td> <td>   -0.835</td>\n",
       "</tr>\n",
       "<tr>\n",
       "  <th>Total Time Spent on Website</th>                  <td>    1.1423</td> <td>    0.043</td> <td>   26.730</td> <td> 0.000</td> <td>    1.059</td> <td>    1.226</td>\n",
       "</tr>\n",
       "<tr>\n",
       "  <th>LeadOrigin_API</th>                               <td>   -0.5611</td> <td>    0.517</td> <td>   -1.085</td> <td> 0.278</td> <td>   -1.575</td> <td>    0.452</td>\n",
       "</tr>\n",
       "<tr>\n",
       "  <th>LeadOrigin_Landing Page Submission</th>           <td>   -0.8329</td> <td>    0.513</td> <td>   -1.622</td> <td> 0.105</td> <td>   -1.839</td> <td>    0.173</td>\n",
       "</tr>\n",
       "<tr>\n",
       "  <th>LeadOrigin_Lead Add Form</th>                     <td>    3.1827</td> <td>    0.538</td> <td>    5.910</td> <td> 0.000</td> <td>    2.127</td> <td>    4.238</td>\n",
       "</tr>\n",
       "<tr>\n",
       "  <th>LeadSource_Olark Chat</th>                        <td>    1.1407</td> <td>    0.126</td> <td>    9.074</td> <td> 0.000</td> <td>    0.894</td> <td>    1.387</td>\n",
       "</tr>\n",
       "<tr>\n",
       "  <th>LeadSource_Welingak Website</th>                  <td>   22.3356</td> <td> 1.22e+04</td> <td>    0.002</td> <td> 0.999</td> <td>-2.38e+04</td> <td> 2.39e+04</td>\n",
       "</tr>\n",
       "<tr>\n",
       "  <th>LastActivity_Email Opened</th>                    <td>    1.0499</td> <td>    0.160</td> <td>    6.555</td> <td> 0.000</td> <td>    0.736</td> <td>    1.364</td>\n",
       "</tr>\n",
       "<tr>\n",
       "  <th>LastActivity_Had a Phone Conversation</th>        <td>    0.7063</td> <td>    0.957</td> <td>    0.738</td> <td> 0.460</td> <td>   -1.169</td> <td>    2.582</td>\n",
       "</tr>\n",
       "<tr>\n",
       "  <th>LastActivity_Other</th>                           <td>   -0.9545</td> <td>    0.463</td> <td>   -2.061</td> <td> 0.039</td> <td>   -1.862</td> <td>   -0.047</td>\n",
       "</tr>\n",
       "<tr>\n",
       "  <th>LastActivity_SMS Sent</th>                        <td>    1.4606</td> <td>    0.120</td> <td>   12.171</td> <td> 0.000</td> <td>    1.225</td> <td>    1.696</td>\n",
       "</tr>\n",
       "<tr>\n",
       "  <th>CurrentOccupation_Other</th>                      <td>   -1.1244</td> <td>    0.092</td> <td>  -12.271</td> <td> 0.000</td> <td>   -1.304</td> <td>   -0.945</td>\n",
       "</tr>\n",
       "<tr>\n",
       "  <th>CurrentOccupation_Working Professional</th>       <td>    2.4927</td> <td>    0.189</td> <td>   13.205</td> <td> 0.000</td> <td>    2.123</td> <td>    2.863</td>\n",
       "</tr>\n",
       "<tr>\n",
       "  <th>LastNotableActivity_Email Opened</th>             <td>   -1.0104</td> <td>    0.188</td> <td>   -5.370</td> <td> 0.000</td> <td>   -1.379</td> <td>   -0.642</td>\n",
       "</tr>\n",
       "<tr>\n",
       "  <th>LastNotableActivity_Had a Phone Conversation</th> <td>   23.8806</td> <td> 3.42e+04</td> <td>    0.001</td> <td> 0.999</td> <td> -6.7e+04</td> <td> 6.71e+04</td>\n",
       "</tr>\n",
       "<tr>\n",
       "  <th>LastNotableActivity_Modified</th>                 <td>   -1.0854</td> <td>    0.119</td> <td>   -9.117</td> <td> 0.000</td> <td>   -1.319</td> <td>   -0.852</td>\n",
       "</tr>\n",
       "<tr>\n",
       "  <th>LastNotableActivity_Olark Chat Conversation</th>  <td>   -1.8345</td> <td>    0.449</td> <td>   -4.085</td> <td> 0.000</td> <td>   -2.715</td> <td>   -0.954</td>\n",
       "</tr>\n",
       "<tr>\n",
       "  <th>LastNotableActivity_Unreachable</th>              <td>    2.1407</td> <td>    0.564</td> <td>    3.798</td> <td> 0.000</td> <td>    1.036</td> <td>    3.245</td>\n",
       "</tr>\n",
       "</table>"
      ],
      "text/plain": [
       "<class 'statsmodels.iolib.summary.Summary'>\n",
       "\"\"\"\n",
       "                 Generalized Linear Model Regression Results                  \n",
       "==============================================================================\n",
       "Dep. Variable:              Converted   No. Observations:                 6075\n",
       "Model:                            GLM   Df Residuals:                     6056\n",
       "Model Family:                Binomial   Df Model:                           18\n",
       "Link Function:                  logit   Scale:                          1.0000\n",
       "Method:                          IRLS   Log-Likelihood:                -2372.3\n",
       "Date:                Tue, 28 Nov 2023   Deviance:                       4744.7\n",
       "Time:                        15:43:09   Pearson chi2:                 6.34e+03\n",
       "No. Iterations:                    23                                         \n",
       "Covariance Type:            nonrobust                                         \n",
       "================================================================================================================\n",
       "                                                   coef    std err          z      P>|z|      [0.025      0.975]\n",
       "----------------------------------------------------------------------------------------------------------------\n",
       "const                                           -0.3790      0.527     -0.720      0.472      -1.411       0.653\n",
       "Do Not Email                                    -1.1966      0.185     -6.480      0.000      -1.559      -0.835\n",
       "Total Time Spent on Website                      1.1423      0.043     26.730      0.000       1.059       1.226\n",
       "LeadOrigin_API                                  -0.5611      0.517     -1.085      0.278      -1.575       0.452\n",
       "LeadOrigin_Landing Page Submission              -0.8329      0.513     -1.622      0.105      -1.839       0.173\n",
       "LeadOrigin_Lead Add Form                         3.1827      0.538      5.910      0.000       2.127       4.238\n",
       "LeadSource_Olark Chat                            1.1407      0.126      9.074      0.000       0.894       1.387\n",
       "LeadSource_Welingak Website                     22.3356   1.22e+04      0.002      0.999   -2.38e+04    2.39e+04\n",
       "LastActivity_Email Opened                        1.0499      0.160      6.555      0.000       0.736       1.364\n",
       "LastActivity_Had a Phone Conversation            0.7063      0.957      0.738      0.460      -1.169       2.582\n",
       "LastActivity_Other                              -0.9545      0.463     -2.061      0.039      -1.862      -0.047\n",
       "LastActivity_SMS Sent                            1.4606      0.120     12.171      0.000       1.225       1.696\n",
       "CurrentOccupation_Other                         -1.1244      0.092    -12.271      0.000      -1.304      -0.945\n",
       "CurrentOccupation_Working Professional           2.4927      0.189     13.205      0.000       2.123       2.863\n",
       "LastNotableActivity_Email Opened                -1.0104      0.188     -5.370      0.000      -1.379      -0.642\n",
       "LastNotableActivity_Had a Phone Conversation    23.8806   3.42e+04      0.001      0.999    -6.7e+04    6.71e+04\n",
       "LastNotableActivity_Modified                    -1.0854      0.119     -9.117      0.000      -1.319      -0.852\n",
       "LastNotableActivity_Olark Chat Conversation     -1.8345      0.449     -4.085      0.000      -2.715      -0.954\n",
       "LastNotableActivity_Unreachable                  2.1407      0.564      3.798      0.000       1.036       3.245\n",
       "================================================================================================================\n",
       "\"\"\""
      ]
     },
     "execution_count": 241,
     "metadata": {},
     "output_type": "execute_result"
    }
   ],
   "source": [
    "X_train_sm = sm.add_constant(X_train[col])\n",
    "logm4 = sm.GLM(y_train,X_train_sm, family = sm.families.Binomial())\n",
    "res = logm4.fit()\n",
    "res.summary()"
   ]
  },
  {
   "cell_type": "markdown",
   "id": "94fc3e3c",
   "metadata": {},
   "source": [
    "Drop LastNotableActivity_Had a Phone Conversation as it has high p-value"
   ]
  },
  {
   "cell_type": "code",
   "execution_count": 242,
   "id": "45298775",
   "metadata": {},
   "outputs": [],
   "source": [
    "col = col.drop('LastNotableActivity_Had a Phone Conversation',1)"
   ]
  },
  {
   "cell_type": "markdown",
   "id": "77d6df81",
   "metadata": {},
   "source": [
    "### Model 5"
   ]
  },
  {
   "cell_type": "code",
   "execution_count": 243,
   "id": "63e7a361",
   "metadata": {
    "scrolled": true
   },
   "outputs": [
    {
     "data": {
      "text/html": [
       "<table class=\"simpletable\">\n",
       "<caption>Generalized Linear Model Regression Results</caption>\n",
       "<tr>\n",
       "  <th>Dep. Variable:</th>       <td>Converted</td>    <th>  No. Observations:  </th>  <td>  6075</td> \n",
       "</tr>\n",
       "<tr>\n",
       "  <th>Model:</th>                  <td>GLM</td>       <th>  Df Residuals:      </th>  <td>  6057</td> \n",
       "</tr>\n",
       "<tr>\n",
       "  <th>Model Family:</th>        <td>Binomial</td>     <th>  Df Model:          </th>  <td>    17</td> \n",
       "</tr>\n",
       "<tr>\n",
       "  <th>Link Function:</th>         <td>logit</td>      <th>  Scale:             </th> <td>  1.0000</td>\n",
       "</tr>\n",
       "<tr>\n",
       "  <th>Method:</th>                <td>IRLS</td>       <th>  Log-Likelihood:    </th> <td> -2374.9</td>\n",
       "</tr>\n",
       "<tr>\n",
       "  <th>Date:</th>            <td>Tue, 28 Nov 2023</td> <th>  Deviance:          </th> <td>  4749.7</td>\n",
       "</tr>\n",
       "<tr>\n",
       "  <th>Time:</th>                <td>16:04:54</td>     <th>  Pearson chi2:      </th> <td>7.00e+03</td>\n",
       "</tr>\n",
       "<tr>\n",
       "  <th>No. Iterations:</th>         <td>23</td>        <th>                     </th>     <td> </td>   \n",
       "</tr>\n",
       "<tr>\n",
       "  <th>Covariance Type:</th>     <td>nonrobust</td>    <th>                     </th>     <td> </td>   \n",
       "</tr>\n",
       "</table>\n",
       "<table class=\"simpletable\">\n",
       "<tr>\n",
       "                       <td></td>                          <th>coef</th>     <th>std err</th>      <th>z</th>      <th>P>|z|</th>  <th>[0.025</th>    <th>0.975]</th>  \n",
       "</tr>\n",
       "<tr>\n",
       "  <th>const</th>                                       <td>   -0.3628</td> <td>    0.526</td> <td>   -0.689</td> <td> 0.491</td> <td>   -1.394</td> <td>    0.669</td>\n",
       "</tr>\n",
       "<tr>\n",
       "  <th>Do Not Email</th>                                <td>   -1.1995</td> <td>    0.185</td> <td>   -6.496</td> <td> 0.000</td> <td>   -1.561</td> <td>   -0.838</td>\n",
       "</tr>\n",
       "<tr>\n",
       "  <th>Total Time Spent on Website</th>                 <td>    1.1420</td> <td>    0.043</td> <td>   26.736</td> <td> 0.000</td> <td>    1.058</td> <td>    1.226</td>\n",
       "</tr>\n",
       "<tr>\n",
       "  <th>LeadOrigin_API</th>                              <td>   -0.5656</td> <td>    0.517</td> <td>   -1.094</td> <td> 0.274</td> <td>   -1.578</td> <td>    0.447</td>\n",
       "</tr>\n",
       "<tr>\n",
       "  <th>LeadOrigin_Landing Page Submission</th>          <td>   -0.8334</td> <td>    0.513</td> <td>   -1.624</td> <td> 0.104</td> <td>   -1.839</td> <td>    0.172</td>\n",
       "</tr>\n",
       "<tr>\n",
       "  <th>LeadOrigin_Lead Add Form</th>                    <td>    3.1743</td> <td>    0.538</td> <td>    5.899</td> <td> 0.000</td> <td>    2.120</td> <td>    4.229</td>\n",
       "</tr>\n",
       "<tr>\n",
       "  <th>LeadSource_Olark Chat</th>                       <td>    1.1432</td> <td>    0.126</td> <td>    9.092</td> <td> 0.000</td> <td>    0.897</td> <td>    1.390</td>\n",
       "</tr>\n",
       "<tr>\n",
       "  <th>LeadSource_Welingak Website</th>                 <td>   22.3409</td> <td> 1.22e+04</td> <td>    0.002</td> <td> 0.999</td> <td>-2.38e+04</td> <td> 2.39e+04</td>\n",
       "</tr>\n",
       "<tr>\n",
       "  <th>LastActivity_Email Opened</th>                   <td>    1.0552</td> <td>    0.160</td> <td>    6.588</td> <td> 0.000</td> <td>    0.741</td> <td>    1.369</td>\n",
       "</tr>\n",
       "<tr>\n",
       "  <th>LastActivity_Had a Phone Conversation</th>       <td>    1.9206</td> <td>    0.691</td> <td>    2.778</td> <td> 0.005</td> <td>    0.566</td> <td>    3.275</td>\n",
       "</tr>\n",
       "<tr>\n",
       "  <th>LastActivity_Other</th>                          <td>   -0.9443</td> <td>    0.463</td> <td>   -2.040</td> <td> 0.041</td> <td>   -1.852</td> <td>   -0.037</td>\n",
       "</tr>\n",
       "<tr>\n",
       "  <th>LastActivity_SMS Sent</th>                       <td>    1.4502</td> <td>    0.120</td> <td>   12.100</td> <td> 0.000</td> <td>    1.215</td> <td>    1.685</td>\n",
       "</tr>\n",
       "<tr>\n",
       "  <th>CurrentOccupation_Other</th>                     <td>   -1.1257</td> <td>    0.092</td> <td>  -12.284</td> <td> 0.000</td> <td>   -1.305</td> <td>   -0.946</td>\n",
       "</tr>\n",
       "<tr>\n",
       "  <th>CurrentOccupation_Working Professional</th>      <td>    2.4882</td> <td>    0.189</td> <td>   13.179</td> <td> 0.000</td> <td>    2.118</td> <td>    2.858</td>\n",
       "</tr>\n",
       "<tr>\n",
       "  <th>LastNotableActivity_Email Opened</th>            <td>   -1.0297</td> <td>    0.188</td> <td>   -5.480</td> <td> 0.000</td> <td>   -1.398</td> <td>   -0.661</td>\n",
       "</tr>\n",
       "<tr>\n",
       "  <th>LastNotableActivity_Modified</th>                <td>   -1.1042</td> <td>    0.119</td> <td>   -9.306</td> <td> 0.000</td> <td>   -1.337</td> <td>   -0.872</td>\n",
       "</tr>\n",
       "<tr>\n",
       "  <th>LastNotableActivity_Olark Chat Conversation</th> <td>   -1.8468</td> <td>    0.449</td> <td>   -4.114</td> <td> 0.000</td> <td>   -2.727</td> <td>   -0.967</td>\n",
       "</tr>\n",
       "<tr>\n",
       "  <th>LastNotableActivity_Unreachable</th>             <td>    2.1270</td> <td>    0.564</td> <td>    3.774</td> <td> 0.000</td> <td>    1.022</td> <td>    3.232</td>\n",
       "</tr>\n",
       "</table>"
      ],
      "text/plain": [
       "<class 'statsmodels.iolib.summary.Summary'>\n",
       "\"\"\"\n",
       "                 Generalized Linear Model Regression Results                  \n",
       "==============================================================================\n",
       "Dep. Variable:              Converted   No. Observations:                 6075\n",
       "Model:                            GLM   Df Residuals:                     6057\n",
       "Model Family:                Binomial   Df Model:                           17\n",
       "Link Function:                  logit   Scale:                          1.0000\n",
       "Method:                          IRLS   Log-Likelihood:                -2374.9\n",
       "Date:                Tue, 28 Nov 2023   Deviance:                       4749.7\n",
       "Time:                        16:04:54   Pearson chi2:                 7.00e+03\n",
       "No. Iterations:                    23                                         \n",
       "Covariance Type:            nonrobust                                         \n",
       "===============================================================================================================\n",
       "                                                  coef    std err          z      P>|z|      [0.025      0.975]\n",
       "---------------------------------------------------------------------------------------------------------------\n",
       "const                                          -0.3628      0.526     -0.689      0.491      -1.394       0.669\n",
       "Do Not Email                                   -1.1995      0.185     -6.496      0.000      -1.561      -0.838\n",
       "Total Time Spent on Website                     1.1420      0.043     26.736      0.000       1.058       1.226\n",
       "LeadOrigin_API                                 -0.5656      0.517     -1.094      0.274      -1.578       0.447\n",
       "LeadOrigin_Landing Page Submission             -0.8334      0.513     -1.624      0.104      -1.839       0.172\n",
       "LeadOrigin_Lead Add Form                        3.1743      0.538      5.899      0.000       2.120       4.229\n",
       "LeadSource_Olark Chat                           1.1432      0.126      9.092      0.000       0.897       1.390\n",
       "LeadSource_Welingak Website                    22.3409   1.22e+04      0.002      0.999   -2.38e+04    2.39e+04\n",
       "LastActivity_Email Opened                       1.0552      0.160      6.588      0.000       0.741       1.369\n",
       "LastActivity_Had a Phone Conversation           1.9206      0.691      2.778      0.005       0.566       3.275\n",
       "LastActivity_Other                             -0.9443      0.463     -2.040      0.041      -1.852      -0.037\n",
       "LastActivity_SMS Sent                           1.4502      0.120     12.100      0.000       1.215       1.685\n",
       "CurrentOccupation_Other                        -1.1257      0.092    -12.284      0.000      -1.305      -0.946\n",
       "CurrentOccupation_Working Professional          2.4882      0.189     13.179      0.000       2.118       2.858\n",
       "LastNotableActivity_Email Opened               -1.0297      0.188     -5.480      0.000      -1.398      -0.661\n",
       "LastNotableActivity_Modified                   -1.1042      0.119     -9.306      0.000      -1.337      -0.872\n",
       "LastNotableActivity_Olark Chat Conversation    -1.8468      0.449     -4.114      0.000      -2.727      -0.967\n",
       "LastNotableActivity_Unreachable                 2.1270      0.564      3.774      0.000       1.022       3.232\n",
       "===============================================================================================================\n",
       "\"\"\""
      ]
     },
     "execution_count": 243,
     "metadata": {},
     "output_type": "execute_result"
    }
   ],
   "source": [
    "X_train_sm = sm.add_constant(X_train[col])\n",
    "logm5 = sm.GLM(y_train,X_train_sm, family = sm.families.Binomial())\n",
    "res = logm5.fit()\n",
    "res.summary()"
   ]
  },
  {
   "cell_type": "markdown",
   "id": "30ae7fa3",
   "metadata": {},
   "source": [
    "Drop LeadSource_Welingak Website as it is having high p-value"
   ]
  },
  {
   "cell_type": "code",
   "execution_count": 244,
   "id": "ad89c46e",
   "metadata": {},
   "outputs": [],
   "source": [
    "col = col.drop('LeadSource_Welingak Website',1)"
   ]
  },
  {
   "cell_type": "markdown",
   "id": "bf36acdc",
   "metadata": {},
   "source": [
    "### Model 6"
   ]
  },
  {
   "cell_type": "code",
   "execution_count": 245,
   "id": "2a6993bb",
   "metadata": {},
   "outputs": [
    {
     "data": {
      "text/html": [
       "<table class=\"simpletable\">\n",
       "<caption>Generalized Linear Model Regression Results</caption>\n",
       "<tr>\n",
       "  <th>Dep. Variable:</th>       <td>Converted</td>    <th>  No. Observations:  </th>  <td>  6075</td> \n",
       "</tr>\n",
       "<tr>\n",
       "  <th>Model:</th>                  <td>GLM</td>       <th>  Df Residuals:      </th>  <td>  6058</td> \n",
       "</tr>\n",
       "<tr>\n",
       "  <th>Model Family:</th>        <td>Binomial</td>     <th>  Df Model:          </th>  <td>    16</td> \n",
       "</tr>\n",
       "<tr>\n",
       "  <th>Link Function:</th>         <td>logit</td>      <th>  Scale:             </th> <td>  1.0000</td>\n",
       "</tr>\n",
       "<tr>\n",
       "  <th>Method:</th>                <td>IRLS</td>       <th>  Log-Likelihood:    </th> <td> -2384.6</td>\n",
       "</tr>\n",
       "<tr>\n",
       "  <th>Date:</th>            <td>Tue, 28 Nov 2023</td> <th>  Deviance:          </th> <td>  4769.2</td>\n",
       "</tr>\n",
       "<tr>\n",
       "  <th>Time:</th>                <td>16:08:16</td>     <th>  Pearson chi2:      </th> <td>7.57e+03</td>\n",
       "</tr>\n",
       "<tr>\n",
       "  <th>No. Iterations:</th>          <td>6</td>        <th>                     </th>     <td> </td>   \n",
       "</tr>\n",
       "<tr>\n",
       "  <th>Covariance Type:</th>     <td>nonrobust</td>    <th>                     </th>     <td> </td>   \n",
       "</tr>\n",
       "</table>\n",
       "<table class=\"simpletable\">\n",
       "<tr>\n",
       "                       <td></td>                          <th>coef</th>     <th>std err</th>      <th>z</th>      <th>P>|z|</th>  <th>[0.025</th>    <th>0.975]</th>  \n",
       "</tr>\n",
       "<tr>\n",
       "  <th>const</th>                                       <td>   -0.3616</td> <td>    0.526</td> <td>   -0.688</td> <td> 0.492</td> <td>   -1.392</td> <td>    0.669</td>\n",
       "</tr>\n",
       "<tr>\n",
       "  <th>Do Not Email</th>                                <td>   -1.1874</td> <td>    0.183</td> <td>   -6.480</td> <td> 0.000</td> <td>   -1.547</td> <td>   -0.828</td>\n",
       "</tr>\n",
       "<tr>\n",
       "  <th>Total Time Spent on Website</th>                 <td>    1.1415</td> <td>    0.043</td> <td>   26.708</td> <td> 0.000</td> <td>    1.058</td> <td>    1.225</td>\n",
       "</tr>\n",
       "<tr>\n",
       "  <th>LeadOrigin_API</th>                              <td>   -0.5728</td> <td>    0.516</td> <td>   -1.109</td> <td> 0.267</td> <td>   -1.585</td> <td>    0.439</td>\n",
       "</tr>\n",
       "<tr>\n",
       "  <th>LeadOrigin_Landing Page Submission</th>          <td>   -0.8415</td> <td>    0.513</td> <td>   -1.642</td> <td> 0.101</td> <td>   -1.846</td> <td>    0.163</td>\n",
       "</tr>\n",
       "<tr>\n",
       "  <th>LeadOrigin_Lead Add Form</th>                    <td>    3.5081</td> <td>    0.537</td> <td>    6.539</td> <td> 0.000</td> <td>    2.457</td> <td>    4.560</td>\n",
       "</tr>\n",
       "<tr>\n",
       "  <th>LeadSource_Olark Chat</th>                       <td>    1.1429</td> <td>    0.126</td> <td>    9.087</td> <td> 0.000</td> <td>    0.896</td> <td>    1.389</td>\n",
       "</tr>\n",
       "<tr>\n",
       "  <th>LastActivity_Email Opened</th>                   <td>    1.0556</td> <td>    0.160</td> <td>    6.580</td> <td> 0.000</td> <td>    0.741</td> <td>    1.370</td>\n",
       "</tr>\n",
       "<tr>\n",
       "  <th>LastActivity_Had a Phone Conversation</th>       <td>    1.9171</td> <td>    0.693</td> <td>    2.765</td> <td> 0.006</td> <td>    0.558</td> <td>    3.276</td>\n",
       "</tr>\n",
       "<tr>\n",
       "  <th>LastActivity_Other</th>                          <td>   -0.9824</td> <td>    0.449</td> <td>   -2.186</td> <td> 0.029</td> <td>   -1.863</td> <td>   -0.102</td>\n",
       "</tr>\n",
       "<tr>\n",
       "  <th>LastActivity_SMS Sent</th>                       <td>    1.4597</td> <td>    0.120</td> <td>   12.204</td> <td> 0.000</td> <td>    1.225</td> <td>    1.694</td>\n",
       "</tr>\n",
       "<tr>\n",
       "  <th>CurrentOccupation_Other</th>                     <td>   -1.1264</td> <td>    0.092</td> <td>  -12.290</td> <td> 0.000</td> <td>   -1.306</td> <td>   -0.947</td>\n",
       "</tr>\n",
       "<tr>\n",
       "  <th>CurrentOccupation_Working Professional</th>      <td>    2.4765</td> <td>    0.189</td> <td>   13.085</td> <td> 0.000</td> <td>    2.106</td> <td>    2.847</td>\n",
       "</tr>\n",
       "<tr>\n",
       "  <th>LastNotableActivity_Email Opened</th>            <td>   -1.0214</td> <td>    0.188</td> <td>   -5.439</td> <td> 0.000</td> <td>   -1.390</td> <td>   -0.653</td>\n",
       "</tr>\n",
       "<tr>\n",
       "  <th>LastNotableActivity_Modified</th>                <td>   -1.1027</td> <td>    0.118</td> <td>   -9.318</td> <td> 0.000</td> <td>   -1.335</td> <td>   -0.871</td>\n",
       "</tr>\n",
       "<tr>\n",
       "  <th>LastNotableActivity_Olark Chat Conversation</th> <td>   -1.8475</td> <td>    0.451</td> <td>   -4.096</td> <td> 0.000</td> <td>   -2.731</td> <td>   -0.964</td>\n",
       "</tr>\n",
       "<tr>\n",
       "  <th>LastNotableActivity_Unreachable</th>             <td>    2.1319</td> <td>    0.564</td> <td>    3.782</td> <td> 0.000</td> <td>    1.027</td> <td>    3.237</td>\n",
       "</tr>\n",
       "</table>"
      ],
      "text/plain": [
       "<class 'statsmodels.iolib.summary.Summary'>\n",
       "\"\"\"\n",
       "                 Generalized Linear Model Regression Results                  \n",
       "==============================================================================\n",
       "Dep. Variable:              Converted   No. Observations:                 6075\n",
       "Model:                            GLM   Df Residuals:                     6058\n",
       "Model Family:                Binomial   Df Model:                           16\n",
       "Link Function:                  logit   Scale:                          1.0000\n",
       "Method:                          IRLS   Log-Likelihood:                -2384.6\n",
       "Date:                Tue, 28 Nov 2023   Deviance:                       4769.2\n",
       "Time:                        16:08:16   Pearson chi2:                 7.57e+03\n",
       "No. Iterations:                     6                                         \n",
       "Covariance Type:            nonrobust                                         \n",
       "===============================================================================================================\n",
       "                                                  coef    std err          z      P>|z|      [0.025      0.975]\n",
       "---------------------------------------------------------------------------------------------------------------\n",
       "const                                          -0.3616      0.526     -0.688      0.492      -1.392       0.669\n",
       "Do Not Email                                   -1.1874      0.183     -6.480      0.000      -1.547      -0.828\n",
       "Total Time Spent on Website                     1.1415      0.043     26.708      0.000       1.058       1.225\n",
       "LeadOrigin_API                                 -0.5728      0.516     -1.109      0.267      -1.585       0.439\n",
       "LeadOrigin_Landing Page Submission             -0.8415      0.513     -1.642      0.101      -1.846       0.163\n",
       "LeadOrigin_Lead Add Form                        3.5081      0.537      6.539      0.000       2.457       4.560\n",
       "LeadSource_Olark Chat                           1.1429      0.126      9.087      0.000       0.896       1.389\n",
       "LastActivity_Email Opened                       1.0556      0.160      6.580      0.000       0.741       1.370\n",
       "LastActivity_Had a Phone Conversation           1.9171      0.693      2.765      0.006       0.558       3.276\n",
       "LastActivity_Other                             -0.9824      0.449     -2.186      0.029      -1.863      -0.102\n",
       "LastActivity_SMS Sent                           1.4597      0.120     12.204      0.000       1.225       1.694\n",
       "CurrentOccupation_Other                        -1.1264      0.092    -12.290      0.000      -1.306      -0.947\n",
       "CurrentOccupation_Working Professional          2.4765      0.189     13.085      0.000       2.106       2.847\n",
       "LastNotableActivity_Email Opened               -1.0214      0.188     -5.439      0.000      -1.390      -0.653\n",
       "LastNotableActivity_Modified                   -1.1027      0.118     -9.318      0.000      -1.335      -0.871\n",
       "LastNotableActivity_Olark Chat Conversation    -1.8475      0.451     -4.096      0.000      -2.731      -0.964\n",
       "LastNotableActivity_Unreachable                 2.1319      0.564      3.782      0.000       1.027       3.237\n",
       "===============================================================================================================\n",
       "\"\"\""
      ]
     },
     "execution_count": 245,
     "metadata": {},
     "output_type": "execute_result"
    }
   ],
   "source": [
    "X_train_sm = sm.add_constant(X_train[col])\n",
    "logm6 = sm.GLM(y_train,X_train_sm, family = sm.families.Binomial())\n",
    "res = logm6.fit()\n",
    "res.summary()"
   ]
  },
  {
   "cell_type": "code",
   "execution_count": 246,
   "id": "2180cdf2",
   "metadata": {},
   "outputs": [
    {
     "data": {
      "text/html": [
       "<div>\n",
       "<style scoped>\n",
       "    .dataframe tbody tr th:only-of-type {\n",
       "        vertical-align: middle;\n",
       "    }\n",
       "\n",
       "    .dataframe tbody tr th {\n",
       "        vertical-align: top;\n",
       "    }\n",
       "\n",
       "    .dataframe thead th {\n",
       "        text-align: right;\n",
       "    }\n",
       "</style>\n",
       "<table border=\"1\" class=\"dataframe\">\n",
       "  <thead>\n",
       "    <tr style=\"text-align: right;\">\n",
       "      <th></th>\n",
       "      <th>Feature</th>\n",
       "      <th>VIF</th>\n",
       "    </tr>\n",
       "  </thead>\n",
       "  <tbody>\n",
       "    <tr>\n",
       "      <th>0</th>\n",
       "      <td>const</td>\n",
       "      <td>221.528036</td>\n",
       "    </tr>\n",
       "    <tr>\n",
       "      <th>1</th>\n",
       "      <td>Do Not Email</td>\n",
       "      <td>1.117044</td>\n",
       "    </tr>\n",
       "    <tr>\n",
       "      <th>2</th>\n",
       "      <td>Total Time Spent on Website</td>\n",
       "      <td>1.313276</td>\n",
       "    </tr>\n",
       "    <tr>\n",
       "      <th>3</th>\n",
       "      <td>LeadOrigin_API</td>\n",
       "      <td>51.441304</td>\n",
       "    </tr>\n",
       "    <tr>\n",
       "      <th>4</th>\n",
       "      <td>LeadOrigin_Landing Page Submission</td>\n",
       "      <td>52.867136</td>\n",
       "    </tr>\n",
       "    <tr>\n",
       "      <th>5</th>\n",
       "      <td>LeadOrigin_Lead Add Form</td>\n",
       "      <td>16.340331</td>\n",
       "    </tr>\n",
       "    <tr>\n",
       "      <th>6</th>\n",
       "      <td>LeadSource_Olark Chat</td>\n",
       "      <td>1.862756</td>\n",
       "    </tr>\n",
       "    <tr>\n",
       "      <th>7</th>\n",
       "      <td>LastActivity_Email Opened</td>\n",
       "      <td>4.557648</td>\n",
       "    </tr>\n",
       "    <tr>\n",
       "      <th>8</th>\n",
       "      <td>LastActivity_Had a Phone Conversation</td>\n",
       "      <td>1.018907</td>\n",
       "    </tr>\n",
       "    <tr>\n",
       "      <th>9</th>\n",
       "      <td>LastActivity_Other</td>\n",
       "      <td>1.292604</td>\n",
       "    </tr>\n",
       "    <tr>\n",
       "      <th>10</th>\n",
       "      <td>LastActivity_SMS Sent</td>\n",
       "      <td>2.294585</td>\n",
       "    </tr>\n",
       "    <tr>\n",
       "      <th>11</th>\n",
       "      <td>CurrentOccupation_Other</td>\n",
       "      <td>1.150792</td>\n",
       "    </tr>\n",
       "    <tr>\n",
       "      <th>12</th>\n",
       "      <td>CurrentOccupation_Working Professional</td>\n",
       "      <td>1.085390</td>\n",
       "    </tr>\n",
       "    <tr>\n",
       "      <th>13</th>\n",
       "      <td>LastNotableActivity_Email Opened</td>\n",
       "      <td>6.104400</td>\n",
       "    </tr>\n",
       "    <tr>\n",
       "      <th>14</th>\n",
       "      <td>LastNotableActivity_Modified</td>\n",
       "      <td>2.474486</td>\n",
       "    </tr>\n",
       "    <tr>\n",
       "      <th>15</th>\n",
       "      <td>LastNotableActivity_Olark Chat Conversation</td>\n",
       "      <td>1.215978</td>\n",
       "    </tr>\n",
       "    <tr>\n",
       "      <th>16</th>\n",
       "      <td>LastNotableActivity_Unreachable</td>\n",
       "      <td>1.036225</td>\n",
       "    </tr>\n",
       "  </tbody>\n",
       "</table>\n",
       "</div>"
      ],
      "text/plain": [
       "                                        Feature         VIF\n",
       "0                                         const  221.528036\n",
       "1                                  Do Not Email    1.117044\n",
       "2                   Total Time Spent on Website    1.313276\n",
       "3                                LeadOrigin_API   51.441304\n",
       "4            LeadOrigin_Landing Page Submission   52.867136\n",
       "5                      LeadOrigin_Lead Add Form   16.340331\n",
       "6                         LeadSource_Olark Chat    1.862756\n",
       "7                     LastActivity_Email Opened    4.557648\n",
       "8         LastActivity_Had a Phone Conversation    1.018907\n",
       "9                            LastActivity_Other    1.292604\n",
       "10                        LastActivity_SMS Sent    2.294585\n",
       "11                      CurrentOccupation_Other    1.150792\n",
       "12       CurrentOccupation_Working Professional    1.085390\n",
       "13             LastNotableActivity_Email Opened    6.104400\n",
       "14                 LastNotableActivity_Modified    2.474486\n",
       "15  LastNotableActivity_Olark Chat Conversation    1.215978\n",
       "16              LastNotableActivity_Unreachable    1.036225"
      ]
     },
     "execution_count": 246,
     "metadata": {},
     "output_type": "execute_result"
    }
   ],
   "source": [
    "from statsmodels.stats.outliers_influence import variance_inflation_factor\n",
    "\n",
    "vif_data=pd.DataFrame()\n",
    "vif_data[\"Feature\"]=X_train_sm.columns\n",
    "\n",
    "vif_data[\"VIF\"]=[variance_inflation_factor(X_train_sm.values,i) \\\n",
    "                 for i in range(len(X_train_sm.columns))]\n",
    "vif_data"
   ]
  },
  {
   "cell_type": "markdown",
   "id": "817ee553",
   "metadata": {},
   "source": [
    "We generally want a VIF that is less than 5. So there are clearly some variables we need to drop."
   ]
  },
  {
   "cell_type": "markdown",
   "id": "a4bd53b4",
   "metadata": {},
   "source": [
    "Drop LeadOrigin_Landing Page Submission as it is having high vif value"
   ]
  },
  {
   "cell_type": "code",
   "execution_count": 248,
   "id": "f059cfc4",
   "metadata": {},
   "outputs": [],
   "source": [
    "col = col.drop('LeadOrigin_Landing Page Submission',1)"
   ]
  },
  {
   "cell_type": "markdown",
   "id": "66aaf4b2",
   "metadata": {},
   "source": [
    "### Model 7:"
   ]
  },
  {
   "cell_type": "code",
   "execution_count": 249,
   "id": "ca8bb87f",
   "metadata": {},
   "outputs": [
    {
     "data": {
      "text/html": [
       "<table class=\"simpletable\">\n",
       "<caption>Generalized Linear Model Regression Results</caption>\n",
       "<tr>\n",
       "  <th>Dep. Variable:</th>       <td>Converted</td>    <th>  No. Observations:  </th>  <td>  6075</td> \n",
       "</tr>\n",
       "<tr>\n",
       "  <th>Model:</th>                  <td>GLM</td>       <th>  Df Residuals:      </th>  <td>  6059</td> \n",
       "</tr>\n",
       "<tr>\n",
       "  <th>Model Family:</th>        <td>Binomial</td>     <th>  Df Model:          </th>  <td>    15</td> \n",
       "</tr>\n",
       "<tr>\n",
       "  <th>Link Function:</th>         <td>logit</td>      <th>  Scale:             </th> <td>  1.0000</td>\n",
       "</tr>\n",
       "<tr>\n",
       "  <th>Method:</th>                <td>IRLS</td>       <th>  Log-Likelihood:    </th> <td> -2385.8</td>\n",
       "</tr>\n",
       "<tr>\n",
       "  <th>Date:</th>            <td>Tue, 28 Nov 2023</td> <th>  Deviance:          </th> <td>  4771.6</td>\n",
       "</tr>\n",
       "<tr>\n",
       "  <th>Time:</th>                <td>16:14:13</td>     <th>  Pearson chi2:      </th> <td>7.53e+03</td>\n",
       "</tr>\n",
       "<tr>\n",
       "  <th>No. Iterations:</th>          <td>6</td>        <th>                     </th>     <td> </td>   \n",
       "</tr>\n",
       "<tr>\n",
       "  <th>Covariance Type:</th>     <td>nonrobust</td>    <th>                     </th>     <td> </td>   \n",
       "</tr>\n",
       "</table>\n",
       "<table class=\"simpletable\">\n",
       "<tr>\n",
       "                       <td></td>                          <th>coef</th>     <th>std err</th>      <th>z</th>      <th>P>|z|</th>  <th>[0.025</th>    <th>0.975]</th>  \n",
       "</tr>\n",
       "<tr>\n",
       "  <th>const</th>                                       <td>   -1.2007</td> <td>    0.127</td> <td>   -9.484</td> <td> 0.000</td> <td>   -1.449</td> <td>   -0.953</td>\n",
       "</tr>\n",
       "<tr>\n",
       "  <th>Do Not Email</th>                                <td>   -1.1798</td> <td>    0.183</td> <td>   -6.460</td> <td> 0.000</td> <td>   -1.538</td> <td>   -0.822</td>\n",
       "</tr>\n",
       "<tr>\n",
       "  <th>Total Time Spent on Website</th>                 <td>    1.1385</td> <td>    0.043</td> <td>   26.672</td> <td> 0.000</td> <td>    1.055</td> <td>    1.222</td>\n",
       "</tr>\n",
       "<tr>\n",
       "  <th>LeadOrigin_API</th>                              <td>    0.2616</td> <td>    0.095</td> <td>    2.752</td> <td> 0.006</td> <td>    0.075</td> <td>    0.448</td>\n",
       "</tr>\n",
       "<tr>\n",
       "  <th>LeadOrigin_Lead Add Form</th>                    <td>    4.3166</td> <td>    0.223</td> <td>   19.362</td> <td> 0.000</td> <td>    3.880</td> <td>    4.754</td>\n",
       "</tr>\n",
       "<tr>\n",
       "  <th>LeadSource_Olark Chat</th>                       <td>    1.1394</td> <td>    0.126</td> <td>    9.066</td> <td> 0.000</td> <td>    0.893</td> <td>    1.386</td>\n",
       "</tr>\n",
       "<tr>\n",
       "  <th>LastActivity_Email Opened</th>                   <td>    1.0563</td> <td>    0.160</td> <td>    6.587</td> <td> 0.000</td> <td>    0.742</td> <td>    1.371</td>\n",
       "</tr>\n",
       "<tr>\n",
       "  <th>LastActivity_Had a Phone Conversation</th>       <td>    1.9144</td> <td>    0.693</td> <td>    2.764</td> <td> 0.006</td> <td>    0.557</td> <td>    3.272</td>\n",
       "</tr>\n",
       "<tr>\n",
       "  <th>LastActivity_Other</th>                          <td>   -0.8789</td> <td>    0.460</td> <td>   -1.910</td> <td> 0.056</td> <td>   -1.781</td> <td>    0.023</td>\n",
       "</tr>\n",
       "<tr>\n",
       "  <th>LastActivity_SMS Sent</th>                       <td>    1.4613</td> <td>    0.119</td> <td>   12.229</td> <td> 0.000</td> <td>    1.227</td> <td>    1.696</td>\n",
       "</tr>\n",
       "<tr>\n",
       "  <th>CurrentOccupation_Other</th>                     <td>   -1.1282</td> <td>    0.092</td> <td>  -12.321</td> <td> 0.000</td> <td>   -1.308</td> <td>   -0.949</td>\n",
       "</tr>\n",
       "<tr>\n",
       "  <th>CurrentOccupation_Working Professional</th>      <td>    2.4762</td> <td>    0.189</td> <td>   13.082</td> <td> 0.000</td> <td>    2.105</td> <td>    2.847</td>\n",
       "</tr>\n",
       "<tr>\n",
       "  <th>LastNotableActivity_Email Opened</th>            <td>   -1.0148</td> <td>    0.188</td> <td>   -5.406</td> <td> 0.000</td> <td>   -1.383</td> <td>   -0.647</td>\n",
       "</tr>\n",
       "<tr>\n",
       "  <th>LastNotableActivity_Modified</th>                <td>   -1.0938</td> <td>    0.118</td> <td>   -9.262</td> <td> 0.000</td> <td>   -1.325</td> <td>   -0.862</td>\n",
       "</tr>\n",
       "<tr>\n",
       "  <th>LastNotableActivity_Olark Chat Conversation</th> <td>   -1.8388</td> <td>    0.451</td> <td>   -4.081</td> <td> 0.000</td> <td>   -2.722</td> <td>   -0.956</td>\n",
       "</tr>\n",
       "<tr>\n",
       "  <th>LastNotableActivity_Unreachable</th>             <td>    2.1330</td> <td>    0.564</td> <td>    3.785</td> <td> 0.000</td> <td>    1.028</td> <td>    3.238</td>\n",
       "</tr>\n",
       "</table>"
      ],
      "text/plain": [
       "<class 'statsmodels.iolib.summary.Summary'>\n",
       "\"\"\"\n",
       "                 Generalized Linear Model Regression Results                  \n",
       "==============================================================================\n",
       "Dep. Variable:              Converted   No. Observations:                 6075\n",
       "Model:                            GLM   Df Residuals:                     6059\n",
       "Model Family:                Binomial   Df Model:                           15\n",
       "Link Function:                  logit   Scale:                          1.0000\n",
       "Method:                          IRLS   Log-Likelihood:                -2385.8\n",
       "Date:                Tue, 28 Nov 2023   Deviance:                       4771.6\n",
       "Time:                        16:14:13   Pearson chi2:                 7.53e+03\n",
       "No. Iterations:                     6                                         \n",
       "Covariance Type:            nonrobust                                         \n",
       "===============================================================================================================\n",
       "                                                  coef    std err          z      P>|z|      [0.025      0.975]\n",
       "---------------------------------------------------------------------------------------------------------------\n",
       "const                                          -1.2007      0.127     -9.484      0.000      -1.449      -0.953\n",
       "Do Not Email                                   -1.1798      0.183     -6.460      0.000      -1.538      -0.822\n",
       "Total Time Spent on Website                     1.1385      0.043     26.672      0.000       1.055       1.222\n",
       "LeadOrigin_API                                  0.2616      0.095      2.752      0.006       0.075       0.448\n",
       "LeadOrigin_Lead Add Form                        4.3166      0.223     19.362      0.000       3.880       4.754\n",
       "LeadSource_Olark Chat                           1.1394      0.126      9.066      0.000       0.893       1.386\n",
       "LastActivity_Email Opened                       1.0563      0.160      6.587      0.000       0.742       1.371\n",
       "LastActivity_Had a Phone Conversation           1.9144      0.693      2.764      0.006       0.557       3.272\n",
       "LastActivity_Other                             -0.8789      0.460     -1.910      0.056      -1.781       0.023\n",
       "LastActivity_SMS Sent                           1.4613      0.119     12.229      0.000       1.227       1.696\n",
       "CurrentOccupation_Other                        -1.1282      0.092    -12.321      0.000      -1.308      -0.949\n",
       "CurrentOccupation_Working Professional          2.4762      0.189     13.082      0.000       2.105       2.847\n",
       "LastNotableActivity_Email Opened               -1.0148      0.188     -5.406      0.000      -1.383      -0.647\n",
       "LastNotableActivity_Modified                   -1.0938      0.118     -9.262      0.000      -1.325      -0.862\n",
       "LastNotableActivity_Olark Chat Conversation    -1.8388      0.451     -4.081      0.000      -2.722      -0.956\n",
       "LastNotableActivity_Unreachable                 2.1330      0.564      3.785      0.000       1.028       3.238\n",
       "===============================================================================================================\n",
       "\"\"\""
      ]
     },
     "execution_count": 249,
     "metadata": {},
     "output_type": "execute_result"
    }
   ],
   "source": [
    "X_train_sm = sm.add_constant(X_train[col])\n",
    "logm7 = sm.GLM(y_train,X_train_sm, family = sm.families.Binomial())\n",
    "res = logm7.fit()\n",
    "res.summary()"
   ]
  },
  {
   "cell_type": "code",
   "execution_count": 251,
   "id": "5172a96a",
   "metadata": {},
   "outputs": [
    {
     "data": {
      "text/html": [
       "<div>\n",
       "<style scoped>\n",
       "    .dataframe tbody tr th:only-of-type {\n",
       "        vertical-align: middle;\n",
       "    }\n",
       "\n",
       "    .dataframe tbody tr th {\n",
       "        vertical-align: top;\n",
       "    }\n",
       "\n",
       "    .dataframe thead th {\n",
       "        text-align: right;\n",
       "    }\n",
       "</style>\n",
       "<table border=\"1\" class=\"dataframe\">\n",
       "  <thead>\n",
       "    <tr style=\"text-align: right;\">\n",
       "      <th></th>\n",
       "      <th>Feature</th>\n",
       "      <th>VIF</th>\n",
       "    </tr>\n",
       "  </thead>\n",
       "  <tbody>\n",
       "    <tr>\n",
       "      <th>0</th>\n",
       "      <td>const</td>\n",
       "      <td>12.438329</td>\n",
       "    </tr>\n",
       "    <tr>\n",
       "      <th>1</th>\n",
       "      <td>Do Not Email</td>\n",
       "      <td>1.117042</td>\n",
       "    </tr>\n",
       "    <tr>\n",
       "      <th>2</th>\n",
       "      <td>Total Time Spent on Website</td>\n",
       "      <td>1.303573</td>\n",
       "    </tr>\n",
       "    <tr>\n",
       "      <th>3</th>\n",
       "      <td>LeadOrigin_API</td>\n",
       "      <td>1.710800</td>\n",
       "    </tr>\n",
       "    <tr>\n",
       "      <th>4</th>\n",
       "      <td>LeadOrigin_Lead Add Form</td>\n",
       "      <td>1.340669</td>\n",
       "    </tr>\n",
       "    <tr>\n",
       "      <th>5</th>\n",
       "      <td>LeadSource_Olark Chat</td>\n",
       "      <td>1.861623</td>\n",
       "    </tr>\n",
       "    <tr>\n",
       "      <th>6</th>\n",
       "      <td>LastActivity_Email Opened</td>\n",
       "      <td>4.555755</td>\n",
       "    </tr>\n",
       "    <tr>\n",
       "      <th>7</th>\n",
       "      <td>LastActivity_Had a Phone Conversation</td>\n",
       "      <td>1.018869</td>\n",
       "    </tr>\n",
       "    <tr>\n",
       "      <th>8</th>\n",
       "      <td>LastActivity_Other</td>\n",
       "      <td>1.216763</td>\n",
       "    </tr>\n",
       "    <tr>\n",
       "      <th>9</th>\n",
       "      <td>LastActivity_SMS Sent</td>\n",
       "      <td>2.293457</td>\n",
       "    </tr>\n",
       "    <tr>\n",
       "      <th>10</th>\n",
       "      <td>CurrentOccupation_Other</td>\n",
       "      <td>1.149372</td>\n",
       "    </tr>\n",
       "    <tr>\n",
       "      <th>11</th>\n",
       "      <td>CurrentOccupation_Working Professional</td>\n",
       "      <td>1.085386</td>\n",
       "    </tr>\n",
       "    <tr>\n",
       "      <th>12</th>\n",
       "      <td>LastNotableActivity_Email Opened</td>\n",
       "      <td>6.104252</td>\n",
       "    </tr>\n",
       "    <tr>\n",
       "      <th>13</th>\n",
       "      <td>LastNotableActivity_Modified</td>\n",
       "      <td>2.473385</td>\n",
       "    </tr>\n",
       "    <tr>\n",
       "      <th>14</th>\n",
       "      <td>LastNotableActivity_Olark Chat Conversation</td>\n",
       "      <td>1.215753</td>\n",
       "    </tr>\n",
       "    <tr>\n",
       "      <th>15</th>\n",
       "      <td>LastNotableActivity_Unreachable</td>\n",
       "      <td>1.036212</td>\n",
       "    </tr>\n",
       "  </tbody>\n",
       "</table>\n",
       "</div>"
      ],
      "text/plain": [
       "                                        Feature        VIF\n",
       "0                                         const  12.438329\n",
       "1                                  Do Not Email   1.117042\n",
       "2                   Total Time Spent on Website   1.303573\n",
       "3                                LeadOrigin_API   1.710800\n",
       "4                      LeadOrigin_Lead Add Form   1.340669\n",
       "5                         LeadSource_Olark Chat   1.861623\n",
       "6                     LastActivity_Email Opened   4.555755\n",
       "7         LastActivity_Had a Phone Conversation   1.018869\n",
       "8                            LastActivity_Other   1.216763\n",
       "9                         LastActivity_SMS Sent   2.293457\n",
       "10                      CurrentOccupation_Other   1.149372\n",
       "11       CurrentOccupation_Working Professional   1.085386\n",
       "12             LastNotableActivity_Email Opened   6.104252\n",
       "13                 LastNotableActivity_Modified   2.473385\n",
       "14  LastNotableActivity_Olark Chat Conversation   1.215753\n",
       "15              LastNotableActivity_Unreachable   1.036212"
      ]
     },
     "execution_count": 251,
     "metadata": {},
     "output_type": "execute_result"
    }
   ],
   "source": [
    "vif_data=pd.DataFrame()\n",
    "vif_data[\"Feature\"]=X_train_sm.columns\n",
    "\n",
    "vif_data[\"VIF\"]=[variance_inflation_factor(X_train_sm.values,i) \\\n",
    "                 for i in range(len(X_train_sm.columns))]\n",
    "vif_data"
   ]
  },
  {
   "cell_type": "markdown",
   "id": "a31e3ac6",
   "metadata": {},
   "source": [
    "Drop LastNotableActivity_Email Opened as the preffered VIF should be less than 5"
   ]
  },
  {
   "cell_type": "code",
   "execution_count": 252,
   "id": "c354203a",
   "metadata": {},
   "outputs": [],
   "source": [
    "col = col.drop('LastNotableActivity_Email Opened',1)"
   ]
  },
  {
   "cell_type": "markdown",
   "id": "b952b2ac",
   "metadata": {},
   "source": [
    "### Model 8:"
   ]
  },
  {
   "cell_type": "code",
   "execution_count": 253,
   "id": "3049d05e",
   "metadata": {},
   "outputs": [
    {
     "data": {
      "text/html": [
       "<table class=\"simpletable\">\n",
       "<caption>Generalized Linear Model Regression Results</caption>\n",
       "<tr>\n",
       "  <th>Dep. Variable:</th>       <td>Converted</td>    <th>  No. Observations:  </th>  <td>  6075</td> \n",
       "</tr>\n",
       "<tr>\n",
       "  <th>Model:</th>                  <td>GLM</td>       <th>  Df Residuals:      </th>  <td>  6060</td> \n",
       "</tr>\n",
       "<tr>\n",
       "  <th>Model Family:</th>        <td>Binomial</td>     <th>  Df Model:          </th>  <td>    14</td> \n",
       "</tr>\n",
       "<tr>\n",
       "  <th>Link Function:</th>         <td>logit</td>      <th>  Scale:             </th> <td>  1.0000</td>\n",
       "</tr>\n",
       "<tr>\n",
       "  <th>Method:</th>                <td>IRLS</td>       <th>  Log-Likelihood:    </th> <td> -2400.1</td>\n",
       "</tr>\n",
       "<tr>\n",
       "  <th>Date:</th>            <td>Tue, 28 Nov 2023</td> <th>  Deviance:          </th> <td>  4800.2</td>\n",
       "</tr>\n",
       "<tr>\n",
       "  <th>Time:</th>                <td>16:16:42</td>     <th>  Pearson chi2:      </th> <td>7.85e+03</td>\n",
       "</tr>\n",
       "<tr>\n",
       "  <th>No. Iterations:</th>          <td>6</td>        <th>                     </th>     <td> </td>   \n",
       "</tr>\n",
       "<tr>\n",
       "  <th>Covariance Type:</th>     <td>nonrobust</td>    <th>                     </th>     <td> </td>   \n",
       "</tr>\n",
       "</table>\n",
       "<table class=\"simpletable\">\n",
       "<tr>\n",
       "                       <td></td>                          <th>coef</th>     <th>std err</th>      <th>z</th>      <th>P>|z|</th>  <th>[0.025</th>    <th>0.975]</th>  \n",
       "</tr>\n",
       "<tr>\n",
       "  <th>const</th>                                       <td>   -1.4767</td> <td>    0.118</td> <td>  -12.561</td> <td> 0.000</td> <td>   -1.707</td> <td>   -1.246</td>\n",
       "</tr>\n",
       "<tr>\n",
       "  <th>Do Not Email</th>                                <td>   -1.1261</td> <td>    0.182</td> <td>   -6.199</td> <td> 0.000</td> <td>   -1.482</td> <td>   -0.770</td>\n",
       "</tr>\n",
       "<tr>\n",
       "  <th>Total Time Spent on Website</th>                 <td>    1.1363</td> <td>    0.043</td> <td>   26.710</td> <td> 0.000</td> <td>    1.053</td> <td>    1.220</td>\n",
       "</tr>\n",
       "<tr>\n",
       "  <th>LeadOrigin_API</th>                              <td>    0.2630</td> <td>    0.095</td> <td>    2.772</td> <td> 0.006</td> <td>    0.077</td> <td>    0.449</td>\n",
       "</tr>\n",
       "<tr>\n",
       "  <th>LeadOrigin_Lead Add Form</th>                    <td>    4.3424</td> <td>    0.223</td> <td>   19.436</td> <td> 0.000</td> <td>    3.905</td> <td>    4.780</td>\n",
       "</tr>\n",
       "<tr>\n",
       "  <th>LeadSource_Olark Chat</th>                       <td>    1.1426</td> <td>    0.125</td> <td>    9.109</td> <td> 0.000</td> <td>    0.897</td> <td>    1.388</td>\n",
       "</tr>\n",
       "<tr>\n",
       "  <th>LastActivity_Email Opened</th>                   <td>    0.4219</td> <td>    0.114</td> <td>    3.694</td> <td> 0.000</td> <td>    0.198</td> <td>    0.646</td>\n",
       "</tr>\n",
       "<tr>\n",
       "  <th>LastActivity_Had a Phone Conversation</th>       <td>    1.9875</td> <td>    0.679</td> <td>    2.927</td> <td> 0.003</td> <td>    0.656</td> <td>    3.319</td>\n",
       "</tr>\n",
       "<tr>\n",
       "  <th>LastActivity_Other</th>                          <td>   -1.0068</td> <td>    0.460</td> <td>   -2.188</td> <td> 0.029</td> <td>   -1.909</td> <td>   -0.105</td>\n",
       "</tr>\n",
       "<tr>\n",
       "  <th>LastActivity_SMS Sent</th>                       <td>    1.6610</td> <td>    0.114</td> <td>   14.545</td> <td> 0.000</td> <td>    1.437</td> <td>    1.885</td>\n",
       "</tr>\n",
       "<tr>\n",
       "  <th>CurrentOccupation_Other</th>                     <td>   -1.1431</td> <td>    0.091</td> <td>  -12.529</td> <td> 0.000</td> <td>   -1.322</td> <td>   -0.964</td>\n",
       "</tr>\n",
       "<tr>\n",
       "  <th>CurrentOccupation_Working Professional</th>      <td>    2.4697</td> <td>    0.189</td> <td>   13.082</td> <td> 0.000</td> <td>    2.100</td> <td>    2.840</td>\n",
       "</tr>\n",
       "<tr>\n",
       "  <th>LastNotableActivity_Modified</th>                <td>   -0.7121</td> <td>    0.094</td> <td>   -7.544</td> <td> 0.000</td> <td>   -0.897</td> <td>   -0.527</td>\n",
       "</tr>\n",
       "<tr>\n",
       "  <th>LastNotableActivity_Olark Chat Conversation</th> <td>   -1.5613</td> <td>    0.448</td> <td>   -3.485</td> <td> 0.000</td> <td>   -2.439</td> <td>   -0.683</td>\n",
       "</tr>\n",
       "<tr>\n",
       "  <th>LastNotableActivity_Unreachable</th>             <td>    2.4117</td> <td>    0.561</td> <td>    4.296</td> <td> 0.000</td> <td>    1.311</td> <td>    3.512</td>\n",
       "</tr>\n",
       "</table>"
      ],
      "text/plain": [
       "<class 'statsmodels.iolib.summary.Summary'>\n",
       "\"\"\"\n",
       "                 Generalized Linear Model Regression Results                  \n",
       "==============================================================================\n",
       "Dep. Variable:              Converted   No. Observations:                 6075\n",
       "Model:                            GLM   Df Residuals:                     6060\n",
       "Model Family:                Binomial   Df Model:                           14\n",
       "Link Function:                  logit   Scale:                          1.0000\n",
       "Method:                          IRLS   Log-Likelihood:                -2400.1\n",
       "Date:                Tue, 28 Nov 2023   Deviance:                       4800.2\n",
       "Time:                        16:16:42   Pearson chi2:                 7.85e+03\n",
       "No. Iterations:                     6                                         \n",
       "Covariance Type:            nonrobust                                         \n",
       "===============================================================================================================\n",
       "                                                  coef    std err          z      P>|z|      [0.025      0.975]\n",
       "---------------------------------------------------------------------------------------------------------------\n",
       "const                                          -1.4767      0.118    -12.561      0.000      -1.707      -1.246\n",
       "Do Not Email                                   -1.1261      0.182     -6.199      0.000      -1.482      -0.770\n",
       "Total Time Spent on Website                     1.1363      0.043     26.710      0.000       1.053       1.220\n",
       "LeadOrigin_API                                  0.2630      0.095      2.772      0.006       0.077       0.449\n",
       "LeadOrigin_Lead Add Form                        4.3424      0.223     19.436      0.000       3.905       4.780\n",
       "LeadSource_Olark Chat                           1.1426      0.125      9.109      0.000       0.897       1.388\n",
       "LastActivity_Email Opened                       0.4219      0.114      3.694      0.000       0.198       0.646\n",
       "LastActivity_Had a Phone Conversation           1.9875      0.679      2.927      0.003       0.656       3.319\n",
       "LastActivity_Other                             -1.0068      0.460     -2.188      0.029      -1.909      -0.105\n",
       "LastActivity_SMS Sent                           1.6610      0.114     14.545      0.000       1.437       1.885\n",
       "CurrentOccupation_Other                        -1.1431      0.091    -12.529      0.000      -1.322      -0.964\n",
       "CurrentOccupation_Working Professional          2.4697      0.189     13.082      0.000       2.100       2.840\n",
       "LastNotableActivity_Modified                   -0.7121      0.094     -7.544      0.000      -0.897      -0.527\n",
       "LastNotableActivity_Olark Chat Conversation    -1.5613      0.448     -3.485      0.000      -2.439      -0.683\n",
       "LastNotableActivity_Unreachable                 2.4117      0.561      4.296      0.000       1.311       3.512\n",
       "===============================================================================================================\n",
       "\"\"\""
      ]
     },
     "execution_count": 253,
     "metadata": {},
     "output_type": "execute_result"
    }
   ],
   "source": [
    "X_train_sm = sm.add_constant(X_train[col])\n",
    "logm8 = sm.GLM(y_train,X_train_sm, family = sm.families.Binomial())\n",
    "res = logm8.fit()\n",
    "res.summary()"
   ]
  },
  {
   "cell_type": "code",
   "execution_count": 254,
   "id": "02016b1a",
   "metadata": {},
   "outputs": [
    {
     "data": {
      "text/html": [
       "<div>\n",
       "<style scoped>\n",
       "    .dataframe tbody tr th:only-of-type {\n",
       "        vertical-align: middle;\n",
       "    }\n",
       "\n",
       "    .dataframe tbody tr th {\n",
       "        vertical-align: top;\n",
       "    }\n",
       "\n",
       "    .dataframe thead th {\n",
       "        text-align: right;\n",
       "    }\n",
       "</style>\n",
       "<table border=\"1\" class=\"dataframe\">\n",
       "  <thead>\n",
       "    <tr style=\"text-align: right;\">\n",
       "      <th></th>\n",
       "      <th>Feature</th>\n",
       "      <th>VIF</th>\n",
       "    </tr>\n",
       "  </thead>\n",
       "  <tbody>\n",
       "    <tr>\n",
       "      <th>0</th>\n",
       "      <td>const</td>\n",
       "      <td>9.988650</td>\n",
       "    </tr>\n",
       "    <tr>\n",
       "      <th>1</th>\n",
       "      <td>Do Not Email</td>\n",
       "      <td>1.115272</td>\n",
       "    </tr>\n",
       "    <tr>\n",
       "      <th>2</th>\n",
       "      <td>Total Time Spent on Website</td>\n",
       "      <td>1.302747</td>\n",
       "    </tr>\n",
       "    <tr>\n",
       "      <th>3</th>\n",
       "      <td>LeadOrigin_API</td>\n",
       "      <td>1.709999</td>\n",
       "    </tr>\n",
       "    <tr>\n",
       "      <th>4</th>\n",
       "      <td>LeadOrigin_Lead Add Form</td>\n",
       "      <td>1.339206</td>\n",
       "    </tr>\n",
       "    <tr>\n",
       "      <th>5</th>\n",
       "      <td>LeadSource_Olark Chat</td>\n",
       "      <td>1.861555</td>\n",
       "    </tr>\n",
       "    <tr>\n",
       "      <th>6</th>\n",
       "      <td>LastActivity_Email Opened</td>\n",
       "      <td>2.168296</td>\n",
       "    </tr>\n",
       "    <tr>\n",
       "      <th>7</th>\n",
       "      <td>LastActivity_Had a Phone Conversation</td>\n",
       "      <td>1.018014</td>\n",
       "    </tr>\n",
       "    <tr>\n",
       "      <th>8</th>\n",
       "      <td>LastActivity_Other</td>\n",
       "      <td>1.213143</td>\n",
       "    </tr>\n",
       "    <tr>\n",
       "      <th>9</th>\n",
       "      <td>LastActivity_SMS Sent</td>\n",
       "      <td>2.025625</td>\n",
       "    </tr>\n",
       "    <tr>\n",
       "      <th>10</th>\n",
       "      <td>CurrentOccupation_Other</td>\n",
       "      <td>1.146652</td>\n",
       "    </tr>\n",
       "    <tr>\n",
       "      <th>11</th>\n",
       "      <td>CurrentOccupation_Working Professional</td>\n",
       "      <td>1.085166</td>\n",
       "    </tr>\n",
       "    <tr>\n",
       "      <th>12</th>\n",
       "      <td>LastNotableActivity_Modified</td>\n",
       "      <td>1.584030</td>\n",
       "    </tr>\n",
       "    <tr>\n",
       "      <th>13</th>\n",
       "      <td>LastNotableActivity_Olark Chat Conversation</td>\n",
       "      <td>1.169354</td>\n",
       "    </tr>\n",
       "    <tr>\n",
       "      <th>14</th>\n",
       "      <td>LastNotableActivity_Unreachable</td>\n",
       "      <td>1.027247</td>\n",
       "    </tr>\n",
       "  </tbody>\n",
       "</table>\n",
       "</div>"
      ],
      "text/plain": [
       "                                        Feature       VIF\n",
       "0                                         const  9.988650\n",
       "1                                  Do Not Email  1.115272\n",
       "2                   Total Time Spent on Website  1.302747\n",
       "3                                LeadOrigin_API  1.709999\n",
       "4                      LeadOrigin_Lead Add Form  1.339206\n",
       "5                         LeadSource_Olark Chat  1.861555\n",
       "6                     LastActivity_Email Opened  2.168296\n",
       "7         LastActivity_Had a Phone Conversation  1.018014\n",
       "8                            LastActivity_Other  1.213143\n",
       "9                         LastActivity_SMS Sent  2.025625\n",
       "10                      CurrentOccupation_Other  1.146652\n",
       "11       CurrentOccupation_Working Professional  1.085166\n",
       "12                 LastNotableActivity_Modified  1.584030\n",
       "13  LastNotableActivity_Olark Chat Conversation  1.169354\n",
       "14              LastNotableActivity_Unreachable  1.027247"
      ]
     },
     "execution_count": 254,
     "metadata": {},
     "output_type": "execute_result"
    }
   ],
   "source": [
    "vif_data=pd.DataFrame()\n",
    "vif_data[\"Feature\"]=X_train_sm.columns\n",
    "\n",
    "vif_data[\"VIF\"]=[variance_inflation_factor(X_train_sm.values,i) \\\n",
    "                 for i in range(len(X_train_sm.columns))]\n",
    "vif_data"
   ]
  },
  {
   "cell_type": "markdown",
   "id": "51f9d67c",
   "metadata": {},
   "source": [
    "Model 8 Seems to be stable, lets go ahead and perform further process on this model"
   ]
  },
  {
   "cell_type": "markdown",
   "id": "98e50fa0",
   "metadata": {},
   "source": [
    "### Evaluation:"
   ]
  },
  {
   "cell_type": "code",
   "execution_count": 255,
   "id": "5f0ec7a2",
   "metadata": {},
   "outputs": [
    {
     "data": {
      "text/plain": [
       "4901    0.435818\n",
       "6624    0.805603\n",
       "762     0.075935\n",
       "2007    0.183691\n",
       "3441    0.344403\n",
       "6365    0.114182\n",
       "5243    0.069942\n",
       "7933    0.051136\n",
       "8579    0.094290\n",
       "9171    0.577801\n",
       "dtype: float64"
      ]
     },
     "execution_count": 255,
     "metadata": {},
     "output_type": "execute_result"
    }
   ],
   "source": [
    "# Getting the predicted values on the train set\n",
    "\n",
    "y_train_pred = res.predict(X_train_sm)\n",
    "y_train_pred[:10]"
   ]
  },
  {
   "cell_type": "code",
   "execution_count": 256,
   "id": "3e6383d0",
   "metadata": {},
   "outputs": [
    {
     "data": {
      "text/html": [
       "<div>\n",
       "<style scoped>\n",
       "    .dataframe tbody tr th:only-of-type {\n",
       "        vertical-align: middle;\n",
       "    }\n",
       "\n",
       "    .dataframe tbody tr th {\n",
       "        vertical-align: top;\n",
       "    }\n",
       "\n",
       "    .dataframe thead th {\n",
       "        text-align: right;\n",
       "    }\n",
       "</style>\n",
       "<table border=\"1\" class=\"dataframe\">\n",
       "  <thead>\n",
       "    <tr style=\"text-align: right;\">\n",
       "      <th></th>\n",
       "      <th>Converted</th>\n",
       "      <th>Converted_Prob</th>\n",
       "      <th>LeadId</th>\n",
       "    </tr>\n",
       "  </thead>\n",
       "  <tbody>\n",
       "    <tr>\n",
       "      <th>4901</th>\n",
       "      <td>1</td>\n",
       "      <td>0.435818</td>\n",
       "      <td>4901</td>\n",
       "    </tr>\n",
       "    <tr>\n",
       "      <th>6624</th>\n",
       "      <td>1</td>\n",
       "      <td>0.805603</td>\n",
       "      <td>6624</td>\n",
       "    </tr>\n",
       "    <tr>\n",
       "      <th>762</th>\n",
       "      <td>0</td>\n",
       "      <td>0.075935</td>\n",
       "      <td>762</td>\n",
       "    </tr>\n",
       "    <tr>\n",
       "      <th>2007</th>\n",
       "      <td>0</td>\n",
       "      <td>0.183691</td>\n",
       "      <td>2007</td>\n",
       "    </tr>\n",
       "    <tr>\n",
       "      <th>3441</th>\n",
       "      <td>1</td>\n",
       "      <td>0.344403</td>\n",
       "      <td>3441</td>\n",
       "    </tr>\n",
       "  </tbody>\n",
       "</table>\n",
       "</div>"
      ],
      "text/plain": [
       "      Converted  Converted_Prob  LeadId\n",
       "4901          1        0.435818    4901\n",
       "6624          1        0.805603    6624\n",
       "762           0        0.075935     762\n",
       "2007          0        0.183691    2007\n",
       "3441          1        0.344403    3441"
      ]
     },
     "execution_count": 256,
     "metadata": {},
     "output_type": "execute_result"
    }
   ],
   "source": [
    "y_train_pred_final = pd.DataFrame({'Converted':y_train.values, 'Converted_Prob':y_train_pred})\n",
    "y_train_pred_final['LeadId'] = y_train.index\n",
    "y_train_pred_final.head()"
   ]
  },
  {
   "cell_type": "markdown",
   "id": "271c2073",
   "metadata": {},
   "source": [
    "Creating new column 'predicted' with 1 if Converted_Prob > 0.5 else 0"
   ]
  },
  {
   "cell_type": "code",
   "execution_count": 258,
   "id": "1ebbc410",
   "metadata": {},
   "outputs": [
    {
     "data": {
      "text/html": [
       "<div>\n",
       "<style scoped>\n",
       "    .dataframe tbody tr th:only-of-type {\n",
       "        vertical-align: middle;\n",
       "    }\n",
       "\n",
       "    .dataframe tbody tr th {\n",
       "        vertical-align: top;\n",
       "    }\n",
       "\n",
       "    .dataframe thead th {\n",
       "        text-align: right;\n",
       "    }\n",
       "</style>\n",
       "<table border=\"1\" class=\"dataframe\">\n",
       "  <thead>\n",
       "    <tr style=\"text-align: right;\">\n",
       "      <th></th>\n",
       "      <th>Converted</th>\n",
       "      <th>Converted_Prob</th>\n",
       "      <th>LeadId</th>\n",
       "      <th>predicted</th>\n",
       "    </tr>\n",
       "  </thead>\n",
       "  <tbody>\n",
       "    <tr>\n",
       "      <th>4901</th>\n",
       "      <td>1</td>\n",
       "      <td>0.435818</td>\n",
       "      <td>4901</td>\n",
       "      <td>0</td>\n",
       "    </tr>\n",
       "    <tr>\n",
       "      <th>6624</th>\n",
       "      <td>1</td>\n",
       "      <td>0.805603</td>\n",
       "      <td>6624</td>\n",
       "      <td>1</td>\n",
       "    </tr>\n",
       "    <tr>\n",
       "      <th>762</th>\n",
       "      <td>0</td>\n",
       "      <td>0.075935</td>\n",
       "      <td>762</td>\n",
       "      <td>0</td>\n",
       "    </tr>\n",
       "    <tr>\n",
       "      <th>2007</th>\n",
       "      <td>0</td>\n",
       "      <td>0.183691</td>\n",
       "      <td>2007</td>\n",
       "      <td>0</td>\n",
       "    </tr>\n",
       "    <tr>\n",
       "      <th>3441</th>\n",
       "      <td>1</td>\n",
       "      <td>0.344403</td>\n",
       "      <td>3441</td>\n",
       "      <td>0</td>\n",
       "    </tr>\n",
       "  </tbody>\n",
       "</table>\n",
       "</div>"
      ],
      "text/plain": [
       "      Converted  Converted_Prob  LeadId  predicted\n",
       "4901          1        0.435818    4901          0\n",
       "6624          1        0.805603    6624          1\n",
       "762           0        0.075935     762          0\n",
       "2007          0        0.183691    2007          0\n",
       "3441          1        0.344403    3441          0"
      ]
     },
     "execution_count": 258,
     "metadata": {},
     "output_type": "execute_result"
    }
   ],
   "source": [
    "y_train_pred_final['predicted'] = y_train_pred_final.Converted_Prob.map(lambda x: 1 if x > 0.5 else 0)\n",
    "y_train_pred_final.dropna()\n",
    "y_train_pred_final.head()"
   ]
  },
  {
   "cell_type": "code",
   "execution_count": 259,
   "id": "c492da43",
   "metadata": {},
   "outputs": [
    {
     "name": "stdout",
     "output_type": "stream",
     "text": [
      "Accuracy = 0.822716049382716\n",
      "Recall = 0.7059836418424451\n",
      "Precision = 0.8062930186823992\n"
     ]
    }
   ],
   "source": [
    "from sklearn import metrics\n",
    "print(\"Accuracy =\", metrics.accuracy_score(y_train_pred_final[\"Converted\"], y_train_pred_final[\"predicted\"]))\n",
    "print(\"Recall =\", metrics.recall_score(y_train_pred_final[\"Converted\"], y_train_pred_final[\"predicted\"]))\n",
    "print(\"Precision =\", metrics.precision_score(y_train_pred_final[\"Converted\"],y_train_pred_final[\"predicted\"]))"
   ]
  },
  {
   "cell_type": "code",
   "execution_count": 268,
   "id": "080bf4c4",
   "metadata": {},
   "outputs": [
    {
     "data": {
      "image/png": "[encoded data removed]",
      "text/plain": [
       "<Figure size 432x288 with 2 Axes>"
      ]
     },
     "metadata": {
      "needs_background": "light"
     },
     "output_type": "display_data"
    }
   ],
   "source": [
    "confusion_matrix=metrics.confusion_matrix(y_train_pred_final[\"Converted\"], y_train_pred_final[\"predicted\"])\n",
    "cm_display = metrics.ConfusionMatrixDisplay(confusion_matrix = confusion_matrix, \\\n",
    "                                            display_labels = [False, True])\n",
    "cm_display.plot()\n",
    "plt.show()"
   ]
  },
  {
   "cell_type": "markdown",
   "id": "5bf29d53",
   "metadata": {},
   "source": [
    "Calculate the metrics  - Sensitivity, Specificity, False Positive Rate, Postitive Predictive Value and Negative Predictive Value"
   ]
  },
  {
   "cell_type": "code",
   "execution_count": 269,
   "id": "6a0d402c",
   "metadata": {},
   "outputs": [
    {
     "name": "stdout",
     "output_type": "stream",
     "text": [
      "[[3358  394]\n",
      " [ 683 1640]]\n"
     ]
    }
   ],
   "source": [
    "print(confusion_matrix)"
   ]
  },
  {
   "cell_type": "code",
   "execution_count": 270,
   "id": "c809b898",
   "metadata": {},
   "outputs": [],
   "source": [
    "TP = confusion_matrix[1,1] # true positive \n",
    "TN = confusion_matrix[0,0] # true negatives\n",
    "FP = confusion_matrix[0,1] # false positives\n",
    "FN = confusion_matrix[1,0] # false negatives"
   ]
  },
  {
   "cell_type": "markdown",
   "id": "1f8853b6",
   "metadata": {},
   "source": [
    "#### Sensitivity"
   ]
  },
  {
   "cell_type": "code",
   "execution_count": 272,
   "id": "dd1e9f6d",
   "metadata": {},
   "outputs": [
    {
     "data": {
      "text/plain": [
       "0.7059836418424451"
      ]
     },
     "execution_count": 272,
     "metadata": {},
     "output_type": "execute_result"
    }
   ],
   "source": [
    "TP/float(TP+FN)"
   ]
  },
  {
   "cell_type": "markdown",
   "id": "344c440e",
   "metadata": {},
   "source": [
    "#### Specificity"
   ]
  },
  {
   "cell_type": "code",
   "execution_count": 273,
   "id": "64778185",
   "metadata": {},
   "outputs": [
    {
     "data": {
      "text/plain": [
       "0.8949893390191898"
      ]
     },
     "execution_count": 273,
     "metadata": {},
     "output_type": "execute_result"
    }
   ],
   "source": [
    "TN / float(TN+FP)"
   ]
  },
  {
   "cell_type": "markdown",
   "id": "f643565b",
   "metadata": {},
   "source": [
    "#### False postive rate - predicting non conversion when leads have converted"
   ]
  },
  {
   "cell_type": "code",
   "execution_count": 274,
   "id": "c940f3c0",
   "metadata": {},
   "outputs": [
    {
     "name": "stdout",
     "output_type": "stream",
     "text": [
      "0.10501066098081023\n"
     ]
    }
   ],
   "source": [
    "print(FP/ float(TN+FP))"
   ]
  },
  {
   "cell_type": "markdown",
   "id": "00d5caff",
   "metadata": {},
   "source": [
    "#### Positive predictive value "
   ]
  },
  {
   "cell_type": "code",
   "execution_count": 275,
   "id": "9c1e2d0d",
   "metadata": {},
   "outputs": [
    {
     "name": "stdout",
     "output_type": "stream",
     "text": [
      "0.8062930186823992\n"
     ]
    }
   ],
   "source": [
    "print (TP / float(TP+FP))"
   ]
  },
  {
   "cell_type": "markdown",
   "id": "8d73896f",
   "metadata": {},
   "source": [
    "#### Negative predictive value\n"
   ]
  },
  {
   "cell_type": "code",
   "execution_count": 276,
   "id": "e8c73568",
   "metadata": {},
   "outputs": [
    {
     "name": "stdout",
     "output_type": "stream",
     "text": [
      "0.8309824300915615\n"
     ]
    }
   ],
   "source": [
    "print (TN / float(TN+ FN))"
   ]
  },
  {
   "cell_type": "markdown",
   "id": "3baa42c8",
   "metadata": {},
   "source": [
    "### Plotting the ROC Curve"
   ]
  },
  {
   "cell_type": "code",
   "execution_count": 277,
   "id": "d32f490b",
   "metadata": {},
   "outputs": [],
   "source": [
    "def draw_roc( actual, probs ):\n",
    "    fpr, tpr, thresholds = metrics.roc_curve( actual, probs,\n",
    "                                              drop_intermediate = False )\n",
    "    auc_score = metrics.roc_auc_score( actual, probs )\n",
    "    plt.figure(figsize=(5, 5))\n",
    "    plt.plot( fpr, tpr, label='ROC curve (area = %0.2f)' % auc_score )\n",
    "    plt.plot([0, 1], [0, 1], 'k--')\n",
    "    plt.xlim([0.0, 1.0])\n",
    "    plt.ylim([0.0, 1.05])\n",
    "    plt.xlabel('False Positive Rate or [1 - True Negative Rate]')\n",
    "    plt.ylabel('True Positive Rate')\n",
    "    plt.title('Receiver operating characteristic example')\n",
    "    plt.legend(loc=\"lower right\")\n",
    "    plt.show()\n",
    "\n",
    "    return None"
   ]
  },
  {
   "cell_type": "code",
   "execution_count": 278,
   "id": "463eae1a",
   "metadata": {},
   "outputs": [],
   "source": [
    "fpr, tpr, thresholds = metrics.roc_curve( y_train_pred_final.Converted, y_train_pred_final.Converted_Prob, \n",
    "                                         drop_intermediate = False )"
   ]
  },
  {
   "cell_type": "code",
   "execution_count": 279,
   "id": "cc80f273",
   "metadata": {},
   "outputs": [
    {
     "data": {
      "image/png": "[encoded data removed]",
      "text/plain": [
       "<Figure size 360x360 with 1 Axes>"
      ]
     },
     "metadata": {
      "needs_background": "light"
     },
     "output_type": "display_data"
    }
   ],
   "source": [
    "draw_roc(y_train_pred_final.Converted, y_train_pred_final.Converted_Prob)"
   ]
  },
  {
   "cell_type": "markdown",
   "id": "c1994efa",
   "metadata": {},
   "source": [
    "#### Optimal Cut off point"
   ]
  },
  {
   "cell_type": "code",
   "execution_count": 280,
   "id": "4d2dd6d3",
   "metadata": {},
   "outputs": [
    {
     "data": {
      "text/html": [
       "<div>\n",
       "<style scoped>\n",
       "    .dataframe tbody tr th:only-of-type {\n",
       "        vertical-align: middle;\n",
       "    }\n",
       "\n",
       "    .dataframe tbody tr th {\n",
       "        vertical-align: top;\n",
       "    }\n",
       "\n",
       "    .dataframe thead th {\n",
       "        text-align: right;\n",
       "    }\n",
       "</style>\n",
       "<table border=\"1\" class=\"dataframe\">\n",
       "  <thead>\n",
       "    <tr style=\"text-align: right;\">\n",
       "      <th></th>\n",
       "      <th>Converted</th>\n",
       "      <th>Converted_Prob</th>\n",
       "      <th>LeadId</th>\n",
       "      <th>predicted</th>\n",
       "      <th>0.0</th>\n",
       "      <th>0.1</th>\n",
       "      <th>0.2</th>\n",
       "      <th>0.3</th>\n",
       "      <th>0.4</th>\n",
       "      <th>0.5</th>\n",
       "      <th>0.6</th>\n",
       "      <th>0.7</th>\n",
       "      <th>0.8</th>\n",
       "      <th>0.9</th>\n",
       "    </tr>\n",
       "  </thead>\n",
       "  <tbody>\n",
       "    <tr>\n",
       "      <th>4901</th>\n",
       "      <td>1</td>\n",
       "      <td>0.435818</td>\n",
       "      <td>4901</td>\n",
       "      <td>0</td>\n",
       "      <td>1</td>\n",
       "      <td>1</td>\n",
       "      <td>1</td>\n",
       "      <td>1</td>\n",
       "      <td>1</td>\n",
       "      <td>0</td>\n",
       "      <td>0</td>\n",
       "      <td>0</td>\n",
       "      <td>0</td>\n",
       "      <td>0</td>\n",
       "    </tr>\n",
       "    <tr>\n",
       "      <th>6624</th>\n",
       "      <td>1</td>\n",
       "      <td>0.805603</td>\n",
       "      <td>6624</td>\n",
       "      <td>1</td>\n",
       "      <td>1</td>\n",
       "      <td>1</td>\n",
       "      <td>1</td>\n",
       "      <td>1</td>\n",
       "      <td>1</td>\n",
       "      <td>1</td>\n",
       "      <td>1</td>\n",
       "      <td>1</td>\n",
       "      <td>1</td>\n",
       "      <td>0</td>\n",
       "    </tr>\n",
       "    <tr>\n",
       "      <th>762</th>\n",
       "      <td>0</td>\n",
       "      <td>0.075935</td>\n",
       "      <td>762</td>\n",
       "      <td>0</td>\n",
       "      <td>1</td>\n",
       "      <td>0</td>\n",
       "      <td>0</td>\n",
       "      <td>0</td>\n",
       "      <td>0</td>\n",
       "      <td>0</td>\n",
       "      <td>0</td>\n",
       "      <td>0</td>\n",
       "      <td>0</td>\n",
       "      <td>0</td>\n",
       "    </tr>\n",
       "    <tr>\n",
       "      <th>2007</th>\n",
       "      <td>0</td>\n",
       "      <td>0.183691</td>\n",
       "      <td>2007</td>\n",
       "      <td>0</td>\n",
       "      <td>1</td>\n",
       "      <td>1</td>\n",
       "      <td>0</td>\n",
       "      <td>0</td>\n",
       "      <td>0</td>\n",
       "      <td>0</td>\n",
       "      <td>0</td>\n",
       "      <td>0</td>\n",
       "      <td>0</td>\n",
       "      <td>0</td>\n",
       "    </tr>\n",
       "    <tr>\n",
       "      <th>3441</th>\n",
       "      <td>1</td>\n",
       "      <td>0.344403</td>\n",
       "      <td>3441</td>\n",
       "      <td>0</td>\n",
       "      <td>1</td>\n",
       "      <td>1</td>\n",
       "      <td>1</td>\n",
       "      <td>1</td>\n",
       "      <td>0</td>\n",
       "      <td>0</td>\n",
       "      <td>0</td>\n",
       "      <td>0</td>\n",
       "      <td>0</td>\n",
       "      <td>0</td>\n",
       "    </tr>\n",
       "  </tbody>\n",
       "</table>\n",
       "</div>"
      ],
      "text/plain": [
       "      Converted  Converted_Prob  LeadId  predicted  0.0  0.1  0.2  0.3  0.4  \\\n",
       "4901          1        0.435818    4901          0    1    1    1    1    1   \n",
       "6624          1        0.805603    6624          1    1    1    1    1    1   \n",
       "762           0        0.075935     762          0    1    0    0    0    0   \n",
       "2007          0        0.183691    2007          0    1    1    0    0    0   \n",
       "3441          1        0.344403    3441          0    1    1    1    1    0   \n",
       "\n",
       "      0.5  0.6  0.7  0.8  0.9  \n",
       "4901    0    0    0    0    0  \n",
       "6624    1    1    1    1    0  \n",
       "762     0    0    0    0    0  \n",
       "2007    0    0    0    0    0  \n",
       "3441    0    0    0    0    0  "
      ]
     },
     "execution_count": 280,
     "metadata": {},
     "output_type": "execute_result"
    }
   ],
   "source": [
    "numbers = [float(x)/10 for x in range(10)]\n",
    "for i in numbers:\n",
    "    y_train_pred_final[i]= y_train_pred_final.Converted_Prob.map(lambda x: 1 if x > i else 0)\n",
    "y_train_pred_final.head()"
   ]
  },
  {
   "cell_type": "markdown",
   "id": "218cfb31",
   "metadata": {},
   "source": [
    "Calculate accuracy sensitivity and specificity with all cutoff points"
   ]
  },
  {
   "cell_type": "code",
   "execution_count": 281,
   "id": "d6e8a69a",
   "metadata": {},
   "outputs": [
    {
     "name": "stdout",
     "output_type": "stream",
     "text": [
      "     prob  accuracy     sensi     speci\n",
      "0.0   0.0  0.382387  1.000000  0.000000\n",
      "0.1   0.1  0.647243  0.972449  0.445896\n",
      "0.2   0.2  0.769547  0.918640  0.677239\n",
      "0.3   0.3  0.807737  0.876453  0.765192\n",
      "0.4   0.4  0.815967  0.771847  0.843284\n",
      "0.5   0.5  0.822716  0.705984  0.894989\n",
      "0.6   0.6  0.814650  0.640551  0.922441\n",
      "0.7   0.7  0.794897  0.543263  0.950693\n",
      "0.8   0.8  0.772346  0.456307  0.968017\n",
      "0.9   0.9  0.731852  0.319415  0.987207\n"
     ]
    }
   ],
   "source": [
    "cutoff_df = pd.DataFrame( columns = ['prob','accuracy','sensi','speci'])\n",
    "from sklearn.metrics import confusion_matrix\n",
    "\n",
    "# TP = confusion[1,1] # true positive \n",
    "# TN = confusion[0,0] # true negatives\n",
    "# FP = confusion[0,1] # false positives\n",
    "# FN = confusion[1,0] # false negatives\n",
    "\n",
    "num = [0.0,0.1,0.2,0.3,0.4,0.5,0.6,0.7,0.8,0.9]\n",
    "for i in num:\n",
    "    cm1 = metrics.confusion_matrix(y_train_pred_final.Converted, y_train_pred_final[i] )\n",
    "    total1=sum(sum(cm1))\n",
    "    accuracy = (cm1[0,0]+cm1[1,1])/total1\n",
    "    \n",
    "    speci = cm1[0,0]/(cm1[0,0]+cm1[0,1])\n",
    "    sensi = cm1[1,1]/(cm1[1,0]+cm1[1,1])\n",
    "    cutoff_df.loc[i] =[ i ,accuracy,sensi,speci]\n",
    "print(cutoff_df)"
   ]
  },
  {
   "cell_type": "markdown",
   "id": "bedd1508",
   "metadata": {},
   "source": [
    "Plot accuracy sensitivity and specificity for various probabilities."
   ]
  },
  {
   "cell_type": "code",
   "execution_count": 282,
   "id": "27b59c04",
   "metadata": {},
   "outputs": [
    {
     "data": {
      "image/png": "[encoded data removed]",
      "text/plain": [
       "<Figure size 432x288 with 1 Axes>"
      ]
     },
     "metadata": {
      "needs_background": "light"
     },
     "output_type": "display_data"
    }
   ],
   "source": [
    "cutoff_df.plot.line(x='prob', y=['accuracy','sensi','speci'])\n",
    "plt.show()"
   ]
  },
  {
   "cell_type": "markdown",
   "id": "0d51cc11",
   "metadata": {},
   "source": [
    "From the above grap 0.37 is the optimal cutoff"
   ]
  },
  {
   "cell_type": "markdown",
   "id": "9283c5bb",
   "metadata": {},
   "source": [
    "Calculate the final prediction using 0.37 as the cut off"
   ]
  },
  {
   "cell_type": "code",
   "execution_count": 283,
   "id": "45e75780",
   "metadata": {},
   "outputs": [
    {
     "data": {
      "text/html": [
       "<div>\n",
       "<style scoped>\n",
       "    .dataframe tbody tr th:only-of-type {\n",
       "        vertical-align: middle;\n",
       "    }\n",
       "\n",
       "    .dataframe tbody tr th {\n",
       "        vertical-align: top;\n",
       "    }\n",
       "\n",
       "    .dataframe thead th {\n",
       "        text-align: right;\n",
       "    }\n",
       "</style>\n",
       "<table border=\"1\" class=\"dataframe\">\n",
       "  <thead>\n",
       "    <tr style=\"text-align: right;\">\n",
       "      <th></th>\n",
       "      <th>Converted</th>\n",
       "      <th>Converted_Prob</th>\n",
       "      <th>LeadId</th>\n",
       "      <th>predicted</th>\n",
       "      <th>0.0</th>\n",
       "      <th>0.1</th>\n",
       "      <th>0.2</th>\n",
       "      <th>0.3</th>\n",
       "      <th>0.4</th>\n",
       "      <th>0.5</th>\n",
       "      <th>0.6</th>\n",
       "      <th>0.7</th>\n",
       "      <th>0.8</th>\n",
       "      <th>0.9</th>\n",
       "      <th>final_predicted</th>\n",
       "    </tr>\n",
       "  </thead>\n",
       "  <tbody>\n",
       "    <tr>\n",
       "      <th>4901</th>\n",
       "      <td>1</td>\n",
       "      <td>0.435818</td>\n",
       "      <td>4901</td>\n",
       "      <td>0</td>\n",
       "      <td>1</td>\n",
       "      <td>1</td>\n",
       "      <td>1</td>\n",
       "      <td>1</td>\n",
       "      <td>1</td>\n",
       "      <td>0</td>\n",
       "      <td>0</td>\n",
       "      <td>0</td>\n",
       "      <td>0</td>\n",
       "      <td>0</td>\n",
       "      <td>1</td>\n",
       "    </tr>\n",
       "    <tr>\n",
       "      <th>6624</th>\n",
       "      <td>1</td>\n",
       "      <td>0.805603</td>\n",
       "      <td>6624</td>\n",
       "      <td>1</td>\n",
       "      <td>1</td>\n",
       "      <td>1</td>\n",
       "      <td>1</td>\n",
       "      <td>1</td>\n",
       "      <td>1</td>\n",
       "      <td>1</td>\n",
       "      <td>1</td>\n",
       "      <td>1</td>\n",
       "      <td>1</td>\n",
       "      <td>0</td>\n",
       "      <td>1</td>\n",
       "    </tr>\n",
       "    <tr>\n",
       "      <th>762</th>\n",
       "      <td>0</td>\n",
       "      <td>0.075935</td>\n",
       "      <td>762</td>\n",
       "      <td>0</td>\n",
       "      <td>1</td>\n",
       "      <td>0</td>\n",
       "      <td>0</td>\n",
       "      <td>0</td>\n",
       "      <td>0</td>\n",
       "      <td>0</td>\n",
       "      <td>0</td>\n",
       "      <td>0</td>\n",
       "      <td>0</td>\n",
       "      <td>0</td>\n",
       "      <td>0</td>\n",
       "    </tr>\n",
       "    <tr>\n",
       "      <th>2007</th>\n",
       "      <td>0</td>\n",
       "      <td>0.183691</td>\n",
       "      <td>2007</td>\n",
       "      <td>0</td>\n",
       "      <td>1</td>\n",
       "      <td>1</td>\n",
       "      <td>0</td>\n",
       "      <td>0</td>\n",
       "      <td>0</td>\n",
       "      <td>0</td>\n",
       "      <td>0</td>\n",
       "      <td>0</td>\n",
       "      <td>0</td>\n",
       "      <td>0</td>\n",
       "      <td>0</td>\n",
       "    </tr>\n",
       "    <tr>\n",
       "      <th>3441</th>\n",
       "      <td>1</td>\n",
       "      <td>0.344403</td>\n",
       "      <td>3441</td>\n",
       "      <td>0</td>\n",
       "      <td>1</td>\n",
       "      <td>1</td>\n",
       "      <td>1</td>\n",
       "      <td>1</td>\n",
       "      <td>0</td>\n",
       "      <td>0</td>\n",
       "      <td>0</td>\n",
       "      <td>0</td>\n",
       "      <td>0</td>\n",
       "      <td>0</td>\n",
       "      <td>0</td>\n",
       "    </tr>\n",
       "  </tbody>\n",
       "</table>\n",
       "</div>"
      ],
      "text/plain": [
       "      Converted  Converted_Prob  LeadId  predicted  0.0  0.1  0.2  0.3  0.4  \\\n",
       "4901          1        0.435818    4901          0    1    1    1    1    1   \n",
       "6624          1        0.805603    6624          1    1    1    1    1    1   \n",
       "762           0        0.075935     762          0    1    0    0    0    0   \n",
       "2007          0        0.183691    2007          0    1    1    0    0    0   \n",
       "3441          1        0.344403    3441          0    1    1    1    1    0   \n",
       "\n",
       "      0.5  0.6  0.7  0.8  0.9  final_predicted  \n",
       "4901    0    0    0    0    0                1  \n",
       "6624    1    1    1    1    0                1  \n",
       "762     0    0    0    0    0                0  \n",
       "2007    0    0    0    0    0                0  \n",
       "3441    0    0    0    0    0                0  "
      ]
     },
     "execution_count": 283,
     "metadata": {},
     "output_type": "execute_result"
    }
   ],
   "source": [
    "y_train_pred_final['final_predicted'] = y_train_pred_final.Converted_Prob.map( lambda x: 1 if x > 0.37 else 0)\n",
    "y_train_pred_final.head()"
   ]
  },
  {
   "cell_type": "code",
   "execution_count": 284,
   "id": "2f7ba46f",
   "metadata": {},
   "outputs": [
    {
     "data": {
      "text/html": [
       "<div>\n",
       "<style scoped>\n",
       "    .dataframe tbody tr th:only-of-type {\n",
       "        vertical-align: middle;\n",
       "    }\n",
       "\n",
       "    .dataframe tbody tr th {\n",
       "        vertical-align: top;\n",
       "    }\n",
       "\n",
       "    .dataframe thead th {\n",
       "        text-align: right;\n",
       "    }\n",
       "</style>\n",
       "<table border=\"1\" class=\"dataframe\">\n",
       "  <thead>\n",
       "    <tr style=\"text-align: right;\">\n",
       "      <th></th>\n",
       "      <th>Converted</th>\n",
       "      <th>Converted_Prob</th>\n",
       "      <th>LeadId</th>\n",
       "      <th>predicted</th>\n",
       "      <th>0.0</th>\n",
       "      <th>0.1</th>\n",
       "      <th>0.2</th>\n",
       "      <th>0.3</th>\n",
       "      <th>0.4</th>\n",
       "      <th>0.5</th>\n",
       "      <th>0.6</th>\n",
       "      <th>0.7</th>\n",
       "      <th>0.8</th>\n",
       "      <th>0.9</th>\n",
       "      <th>final_predicted</th>\n",
       "      <th>lead_score</th>\n",
       "    </tr>\n",
       "  </thead>\n",
       "  <tbody>\n",
       "    <tr>\n",
       "      <th>4901</th>\n",
       "      <td>1</td>\n",
       "      <td>0.435818</td>\n",
       "      <td>4901</td>\n",
       "      <td>0</td>\n",
       "      <td>1</td>\n",
       "      <td>1</td>\n",
       "      <td>1</td>\n",
       "      <td>1</td>\n",
       "      <td>1</td>\n",
       "      <td>0</td>\n",
       "      <td>0</td>\n",
       "      <td>0</td>\n",
       "      <td>0</td>\n",
       "      <td>0</td>\n",
       "      <td>1</td>\n",
       "      <td>44</td>\n",
       "    </tr>\n",
       "    <tr>\n",
       "      <th>6624</th>\n",
       "      <td>1</td>\n",
       "      <td>0.805603</td>\n",
       "      <td>6624</td>\n",
       "      <td>1</td>\n",
       "      <td>1</td>\n",
       "      <td>1</td>\n",
       "      <td>1</td>\n",
       "      <td>1</td>\n",
       "      <td>1</td>\n",
       "      <td>1</td>\n",
       "      <td>1</td>\n",
       "      <td>1</td>\n",
       "      <td>1</td>\n",
       "      <td>0</td>\n",
       "      <td>1</td>\n",
       "      <td>81</td>\n",
       "    </tr>\n",
       "    <tr>\n",
       "      <th>762</th>\n",
       "      <td>0</td>\n",
       "      <td>0.075935</td>\n",
       "      <td>762</td>\n",
       "      <td>0</td>\n",
       "      <td>1</td>\n",
       "      <td>0</td>\n",
       "      <td>0</td>\n",
       "      <td>0</td>\n",
       "      <td>0</td>\n",
       "      <td>0</td>\n",
       "      <td>0</td>\n",
       "      <td>0</td>\n",
       "      <td>0</td>\n",
       "      <td>0</td>\n",
       "      <td>0</td>\n",
       "      <td>8</td>\n",
       "    </tr>\n",
       "    <tr>\n",
       "      <th>2007</th>\n",
       "      <td>0</td>\n",
       "      <td>0.183691</td>\n",
       "      <td>2007</td>\n",
       "      <td>0</td>\n",
       "      <td>1</td>\n",
       "      <td>1</td>\n",
       "      <td>0</td>\n",
       "      <td>0</td>\n",
       "      <td>0</td>\n",
       "      <td>0</td>\n",
       "      <td>0</td>\n",
       "      <td>0</td>\n",
       "      <td>0</td>\n",
       "      <td>0</td>\n",
       "      <td>0</td>\n",
       "      <td>18</td>\n",
       "    </tr>\n",
       "    <tr>\n",
       "      <th>3441</th>\n",
       "      <td>1</td>\n",
       "      <td>0.344403</td>\n",
       "      <td>3441</td>\n",
       "      <td>0</td>\n",
       "      <td>1</td>\n",
       "      <td>1</td>\n",
       "      <td>1</td>\n",
       "      <td>1</td>\n",
       "      <td>0</td>\n",
       "      <td>0</td>\n",
       "      <td>0</td>\n",
       "      <td>0</td>\n",
       "      <td>0</td>\n",
       "      <td>0</td>\n",
       "      <td>0</td>\n",
       "      <td>34</td>\n",
       "    </tr>\n",
       "    <tr>\n",
       "      <th>6365</th>\n",
       "      <td>0</td>\n",
       "      <td>0.114182</td>\n",
       "      <td>6365</td>\n",
       "      <td>0</td>\n",
       "      <td>1</td>\n",
       "      <td>1</td>\n",
       "      <td>0</td>\n",
       "      <td>0</td>\n",
       "      <td>0</td>\n",
       "      <td>0</td>\n",
       "      <td>0</td>\n",
       "      <td>0</td>\n",
       "      <td>0</td>\n",
       "      <td>0</td>\n",
       "      <td>0</td>\n",
       "      <td>11</td>\n",
       "    </tr>\n",
       "    <tr>\n",
       "      <th>5243</th>\n",
       "      <td>0</td>\n",
       "      <td>0.069942</td>\n",
       "      <td>5243</td>\n",
       "      <td>0</td>\n",
       "      <td>1</td>\n",
       "      <td>0</td>\n",
       "      <td>0</td>\n",
       "      <td>0</td>\n",
       "      <td>0</td>\n",
       "      <td>0</td>\n",
       "      <td>0</td>\n",
       "      <td>0</td>\n",
       "      <td>0</td>\n",
       "      <td>0</td>\n",
       "      <td>0</td>\n",
       "      <td>7</td>\n",
       "    </tr>\n",
       "    <tr>\n",
       "      <th>7933</th>\n",
       "      <td>0</td>\n",
       "      <td>0.051136</td>\n",
       "      <td>7933</td>\n",
       "      <td>0</td>\n",
       "      <td>1</td>\n",
       "      <td>0</td>\n",
       "      <td>0</td>\n",
       "      <td>0</td>\n",
       "      <td>0</td>\n",
       "      <td>0</td>\n",
       "      <td>0</td>\n",
       "      <td>0</td>\n",
       "      <td>0</td>\n",
       "      <td>0</td>\n",
       "      <td>0</td>\n",
       "      <td>5</td>\n",
       "    </tr>\n",
       "    <tr>\n",
       "      <th>8579</th>\n",
       "      <td>0</td>\n",
       "      <td>0.094290</td>\n",
       "      <td>8579</td>\n",
       "      <td>0</td>\n",
       "      <td>1</td>\n",
       "      <td>0</td>\n",
       "      <td>0</td>\n",
       "      <td>0</td>\n",
       "      <td>0</td>\n",
       "      <td>0</td>\n",
       "      <td>0</td>\n",
       "      <td>0</td>\n",
       "      <td>0</td>\n",
       "      <td>0</td>\n",
       "      <td>0</td>\n",
       "      <td>9</td>\n",
       "    </tr>\n",
       "    <tr>\n",
       "      <th>9171</th>\n",
       "      <td>1</td>\n",
       "      <td>0.577801</td>\n",
       "      <td>9171</td>\n",
       "      <td>1</td>\n",
       "      <td>1</td>\n",
       "      <td>1</td>\n",
       "      <td>1</td>\n",
       "      <td>1</td>\n",
       "      <td>1</td>\n",
       "      <td>1</td>\n",
       "      <td>0</td>\n",
       "      <td>0</td>\n",
       "      <td>0</td>\n",
       "      <td>0</td>\n",
       "      <td>1</td>\n",
       "      <td>58</td>\n",
       "    </tr>\n",
       "    <tr>\n",
       "      <th>6532</th>\n",
       "      <td>1</td>\n",
       "      <td>0.890906</td>\n",
       "      <td>6532</td>\n",
       "      <td>1</td>\n",
       "      <td>1</td>\n",
       "      <td>1</td>\n",
       "      <td>1</td>\n",
       "      <td>1</td>\n",
       "      <td>1</td>\n",
       "      <td>1</td>\n",
       "      <td>1</td>\n",
       "      <td>1</td>\n",
       "      <td>1</td>\n",
       "      <td>0</td>\n",
       "      <td>1</td>\n",
       "      <td>89</td>\n",
       "    </tr>\n",
       "    <tr>\n",
       "      <th>5606</th>\n",
       "      <td>1</td>\n",
       "      <td>0.161609</td>\n",
       "      <td>5606</td>\n",
       "      <td>0</td>\n",
       "      <td>1</td>\n",
       "      <td>1</td>\n",
       "      <td>0</td>\n",
       "      <td>0</td>\n",
       "      <td>0</td>\n",
       "      <td>0</td>\n",
       "      <td>0</td>\n",
       "      <td>0</td>\n",
       "      <td>0</td>\n",
       "      <td>0</td>\n",
       "      <td>0</td>\n",
       "      <td>16</td>\n",
       "    </tr>\n",
       "    <tr>\n",
       "      <th>6755</th>\n",
       "      <td>1</td>\n",
       "      <td>0.851342</td>\n",
       "      <td>6755</td>\n",
       "      <td>1</td>\n",
       "      <td>1</td>\n",
       "      <td>1</td>\n",
       "      <td>1</td>\n",
       "      <td>1</td>\n",
       "      <td>1</td>\n",
       "      <td>1</td>\n",
       "      <td>1</td>\n",
       "      <td>1</td>\n",
       "      <td>1</td>\n",
       "      <td>0</td>\n",
       "      <td>1</td>\n",
       "      <td>85</td>\n",
       "    </tr>\n",
       "    <tr>\n",
       "      <th>613</th>\n",
       "      <td>1</td>\n",
       "      <td>0.051136</td>\n",
       "      <td>613</td>\n",
       "      <td>0</td>\n",
       "      <td>1</td>\n",
       "      <td>0</td>\n",
       "      <td>0</td>\n",
       "      <td>0</td>\n",
       "      <td>0</td>\n",
       "      <td>0</td>\n",
       "      <td>0</td>\n",
       "      <td>0</td>\n",
       "      <td>0</td>\n",
       "      <td>0</td>\n",
       "      <td>0</td>\n",
       "      <td>5</td>\n",
       "    </tr>\n",
       "    <tr>\n",
       "      <th>5732</th>\n",
       "      <td>1</td>\n",
       "      <td>0.668804</td>\n",
       "      <td>5732</td>\n",
       "      <td>1</td>\n",
       "      <td>1</td>\n",
       "      <td>1</td>\n",
       "      <td>1</td>\n",
       "      <td>1</td>\n",
       "      <td>1</td>\n",
       "      <td>1</td>\n",
       "      <td>1</td>\n",
       "      <td>0</td>\n",
       "      <td>0</td>\n",
       "      <td>0</td>\n",
       "      <td>1</td>\n",
       "      <td>67</td>\n",
       "    </tr>\n",
       "    <tr>\n",
       "      <th>5763</th>\n",
       "      <td>0</td>\n",
       "      <td>0.144585</td>\n",
       "      <td>5763</td>\n",
       "      <td>0</td>\n",
       "      <td>1</td>\n",
       "      <td>1</td>\n",
       "      <td>0</td>\n",
       "      <td>0</td>\n",
       "      <td>0</td>\n",
       "      <td>0</td>\n",
       "      <td>0</td>\n",
       "      <td>0</td>\n",
       "      <td>0</td>\n",
       "      <td>0</td>\n",
       "      <td>0</td>\n",
       "      <td>14</td>\n",
       "    </tr>\n",
       "    <tr>\n",
       "      <th>8647</th>\n",
       "      <td>0</td>\n",
       "      <td>0.549098</td>\n",
       "      <td>8647</td>\n",
       "      <td>1</td>\n",
       "      <td>1</td>\n",
       "      <td>1</td>\n",
       "      <td>1</td>\n",
       "      <td>1</td>\n",
       "      <td>1</td>\n",
       "      <td>1</td>\n",
       "      <td>0</td>\n",
       "      <td>0</td>\n",
       "      <td>0</td>\n",
       "      <td>0</td>\n",
       "      <td>1</td>\n",
       "      <td>55</td>\n",
       "    </tr>\n",
       "    <tr>\n",
       "      <th>693</th>\n",
       "      <td>1</td>\n",
       "      <td>0.874073</td>\n",
       "      <td>693</td>\n",
       "      <td>1</td>\n",
       "      <td>1</td>\n",
       "      <td>1</td>\n",
       "      <td>1</td>\n",
       "      <td>1</td>\n",
       "      <td>1</td>\n",
       "      <td>1</td>\n",
       "      <td>1</td>\n",
       "      <td>1</td>\n",
       "      <td>1</td>\n",
       "      <td>0</td>\n",
       "      <td>1</td>\n",
       "      <td>87</td>\n",
       "    </tr>\n",
       "    <tr>\n",
       "      <th>7861</th>\n",
       "      <td>0</td>\n",
       "      <td>0.371690</td>\n",
       "      <td>7861</td>\n",
       "      <td>0</td>\n",
       "      <td>1</td>\n",
       "      <td>1</td>\n",
       "      <td>1</td>\n",
       "      <td>1</td>\n",
       "      <td>0</td>\n",
       "      <td>0</td>\n",
       "      <td>0</td>\n",
       "      <td>0</td>\n",
       "      <td>0</td>\n",
       "      <td>0</td>\n",
       "      <td>1</td>\n",
       "      <td>37</td>\n",
       "    </tr>\n",
       "    <tr>\n",
       "      <th>3082</th>\n",
       "      <td>0</td>\n",
       "      <td>0.164144</td>\n",
       "      <td>3082</td>\n",
       "      <td>0</td>\n",
       "      <td>1</td>\n",
       "      <td>1</td>\n",
       "      <td>0</td>\n",
       "      <td>0</td>\n",
       "      <td>0</td>\n",
       "      <td>0</td>\n",
       "      <td>0</td>\n",
       "      <td>0</td>\n",
       "      <td>0</td>\n",
       "      <td>0</td>\n",
       "      <td>0</td>\n",
       "      <td>16</td>\n",
       "    </tr>\n",
       "  </tbody>\n",
       "</table>\n",
       "</div>"
      ],
      "text/plain": [
       "      Converted  Converted_Prob  LeadId  predicted  0.0  0.1  0.2  0.3  0.4  \\\n",
       "4901          1        0.435818    4901          0    1    1    1    1    1   \n",
       "6624          1        0.805603    6624          1    1    1    1    1    1   \n",
       "762           0        0.075935     762          0    1    0    0    0    0   \n",
       "2007          0        0.183691    2007          0    1    1    0    0    0   \n",
       "3441          1        0.344403    3441          0    1    1    1    1    0   \n",
       "6365          0        0.114182    6365          0    1    1    0    0    0   \n",
       "5243          0        0.069942    5243          0    1    0    0    0    0   \n",
       "7933          0        0.051136    7933          0    1    0    0    0    0   \n",
       "8579          0        0.094290    8579          0    1    0    0    0    0   \n",
       "9171          1        0.577801    9171          1    1    1    1    1    1   \n",
       "6532          1        0.890906    6532          1    1    1    1    1    1   \n",
       "5606          1        0.161609    5606          0    1    1    0    0    0   \n",
       "6755          1        0.851342    6755          1    1    1    1    1    1   \n",
       "613           1        0.051136     613          0    1    0    0    0    0   \n",
       "5732          1        0.668804    5732          1    1    1    1    1    1   \n",
       "5763          0        0.144585    5763          0    1    1    0    0    0   \n",
       "8647          0        0.549098    8647          1    1    1    1    1    1   \n",
       "693           1        0.874073     693          1    1    1    1    1    1   \n",
       "7861          0        0.371690    7861          0    1    1    1    1    0   \n",
       "3082          0        0.164144    3082          0    1    1    0    0    0   \n",
       "\n",
       "      0.5  0.6  0.7  0.8  0.9  final_predicted  lead_score  \n",
       "4901    0    0    0    0    0                1          44  \n",
       "6624    1    1    1    1    0                1          81  \n",
       "762     0    0    0    0    0                0           8  \n",
       "2007    0    0    0    0    0                0          18  \n",
       "3441    0    0    0    0    0                0          34  \n",
       "6365    0    0    0    0    0                0          11  \n",
       "5243    0    0    0    0    0                0           7  \n",
       "7933    0    0    0    0    0                0           5  \n",
       "8579    0    0    0    0    0                0           9  \n",
       "9171    1    0    0    0    0                1          58  \n",
       "6532    1    1    1    1    0                1          89  \n",
       "5606    0    0    0    0    0                0          16  \n",
       "6755    1    1    1    1    0                1          85  \n",
       "613     0    0    0    0    0                0           5  \n",
       "5732    1    1    0    0    0                1          67  \n",
       "5763    0    0    0    0    0                0          14  \n",
       "8647    1    0    0    0    0                1          55  \n",
       "693     1    1    1    1    0                1          87  \n",
       "7861    0    0    0    0    0                1          37  \n",
       "3082    0    0    0    0    0                0          16  "
      ]
     },
     "execution_count": 284,
     "metadata": {},
     "output_type": "execute_result"
    }
   ],
   "source": [
    "# Now let us calculate the lead score\n",
    "\n",
    "y_train_pred_final['lead_score'] = y_train_pred_final.Converted_Prob.map(lambda x: round(x*100))\n",
    "y_train_pred_final.head(20)\n"
   ]
  },
  {
   "cell_type": "markdown",
   "id": "db467976",
   "metadata": {},
   "source": [
    "Get the total of final predicted conversion / non conversion counts from the actual converted rates\n"
   ]
  },
  {
   "cell_type": "code",
   "execution_count": 288,
   "id": "facdbccd",
   "metadata": {},
   "outputs": [
    {
     "data": {
      "text/plain": [
       "1    1853\n",
       "0     470\n",
       "Name: final_predicted, dtype: int64"
      ]
     },
     "execution_count": 288,
     "metadata": {},
     "output_type": "execute_result"
    }
   ],
   "source": [
    "\n",
    "checking_df = y_train_pred_final.loc[y_train_pred_final['Converted']==1,['Converted','final_predicted']]\n",
    "checking_df['final_predicted'].value_counts()"
   ]
  },
  {
   "cell_type": "code",
   "execution_count": 289,
   "id": "ce1b0147",
   "metadata": {},
   "outputs": [
    {
     "data": {
      "text/plain": [
       "0.7976754197158846"
      ]
     },
     "execution_count": 289,
     "metadata": {},
     "output_type": "execute_result"
    }
   ],
   "source": [
    "# check the precentage of final_predicted conversions\n",
    "\n",
    "1853/float(1853+470)"
   ]
  },
  {
   "cell_type": "markdown",
   "id": "3b73511d",
   "metadata": {},
   "source": [
    "As per the we are able to acheive the 80%(79.76%) conversion rate with this final model"
   ]
  },
  {
   "cell_type": "markdown",
   "id": "0e6c6a93",
   "metadata": {},
   "source": [
    "#### Final Metrics"
   ]
  },
  {
   "cell_type": "code",
   "execution_count": 291,
   "id": "d2e2d7cb",
   "metadata": {},
   "outputs": [
    {
     "data": {
      "text/plain": [
       "0.8153086419753086"
      ]
     },
     "execution_count": 291,
     "metadata": {},
     "output_type": "execute_result"
    }
   ],
   "source": [
    "metrics.accuracy_score(y_train_pred_final.Converted, y_train_pred_final.final_predicted)"
   ]
  },
  {
   "cell_type": "code",
   "execution_count": 294,
   "id": "981fa0bb",
   "metadata": {},
   "outputs": [
    {
     "data": {
      "text/plain": [
       "array([[3100,  652],\n",
       "       [ 470, 1853]])"
      ]
     },
     "execution_count": 294,
     "metadata": {},
     "output_type": "execute_result"
    }
   ],
   "source": [
    "confusion_matrix2 = metrics.confusion_matrix(y_train_pred_final.Converted, y_train_pred_final.final_predicted )\n",
    "confusion_matrix2 "
   ]
  },
  {
   "cell_type": "code",
   "execution_count": 336,
   "id": "68743df2",
   "metadata": {},
   "outputs": [
    {
     "data": {
      "image/png": "[encoded data removed]",
      "text/plain": [
       "<Figure size 432x288 with 2 Axes>"
      ]
     },
     "metadata": {
      "needs_background": "light"
     },
     "output_type": "display_data"
    }
   ],
   "source": [
    "cm_display = metrics.ConfusionMatrixDisplay(confusion_matrix = confusion_matrix2, \\\n",
    "                                            display_labels = [False, True])\n",
    "cm_display.plot()\n",
    "plt.show()"
   ]
  },
  {
   "cell_type": "code",
   "execution_count": 295,
   "id": "a8d31acd",
   "metadata": {},
   "outputs": [],
   "source": [
    "TP = confusion_matrix2[1,1] # true positive \n",
    "TN = confusion_matrix2[0,0] # true negatives\n",
    "FP = confusion_matrix2[0,1] # false positives\n",
    "FN = confusion_matrix2[1,0] # false negatives"
   ]
  },
  {
   "cell_type": "markdown",
   "id": "943abfd0",
   "metadata": {},
   "source": [
    "sensitivity of our logistic regression model\n"
   ]
  },
  {
   "cell_type": "code",
   "execution_count": 296,
   "id": "d810c143",
   "metadata": {},
   "outputs": [
    {
     "data": {
      "text/plain": [
       "0.7976754197158846"
      ]
     },
     "execution_count": 296,
     "metadata": {},
     "output_type": "execute_result"
    }
   ],
   "source": [
    "\n",
    "TP / float(TP+FN)"
   ]
  },
  {
   "cell_type": "markdown",
   "id": "8c3e1380",
   "metadata": {},
   "source": [
    "specificity"
   ]
  },
  {
   "cell_type": "code",
   "execution_count": 297,
   "id": "3c4547d7",
   "metadata": {},
   "outputs": [
    {
     "data": {
      "text/plain": [
       "0.826226012793177"
      ]
     },
     "execution_count": 297,
     "metadata": {},
     "output_type": "execute_result"
    }
   ],
   "source": [
    "TN / float(TN+FP)"
   ]
  },
  {
   "cell_type": "markdown",
   "id": "d1df7edf",
   "metadata": {},
   "source": [
    "false postive rate"
   ]
  },
  {
   "cell_type": "code",
   "execution_count": 298,
   "id": "0dd560fd",
   "metadata": {},
   "outputs": [
    {
     "name": "stdout",
     "output_type": "stream",
     "text": [
      "0.17377398720682302\n"
     ]
    }
   ],
   "source": [
    "print(FP/ float(TN+FP))"
   ]
  },
  {
   "cell_type": "markdown",
   "id": "58ff7ca9",
   "metadata": {},
   "source": [
    "Positive predictive value"
   ]
  },
  {
   "cell_type": "code",
   "execution_count": 299,
   "id": "bdae87e6",
   "metadata": {},
   "outputs": [
    {
     "data": {
      "text/plain": [
       "0.7397205588822355"
      ]
     },
     "execution_count": 299,
     "metadata": {},
     "output_type": "execute_result"
    }
   ],
   "source": [
    "TP / float(TP+FP)"
   ]
  },
  {
   "cell_type": "markdown",
   "id": "2d2b4c93",
   "metadata": {},
   "source": [
    "Negative predictive value"
   ]
  },
  {
   "cell_type": "code",
   "execution_count": 300,
   "id": "8f9ee1ca",
   "metadata": {},
   "outputs": [
    {
     "data": {
      "text/plain": [
       "0.8683473389355743"
      ]
     },
     "execution_count": 300,
     "metadata": {},
     "output_type": "execute_result"
    }
   ],
   "source": [
    "TN / float(TN+ FN)"
   ]
  },
  {
   "cell_type": "markdown",
   "id": "c9ae3ea5",
   "metadata": {},
   "source": [
    "### Precision and Recall"
   ]
  },
  {
   "cell_type": "code",
   "execution_count": 301,
   "id": "1a7ed9de",
   "metadata": {},
   "outputs": [],
   "source": [
    "from sklearn.metrics import precision_score, recall_score"
   ]
  },
  {
   "cell_type": "code",
   "execution_count": 302,
   "id": "d656e151",
   "metadata": {},
   "outputs": [
    {
     "name": "stdout",
     "output_type": "stream",
     "text": [
      "******* Precission****\n"
     ]
    },
    {
     "data": {
      "text/plain": [
       "0.8062930186823992"
      ]
     },
     "execution_count": 302,
     "metadata": {},
     "output_type": "execute_result"
    }
   ],
   "source": [
    "print('******* Precission****')\n",
    "precision_score(y_train_pred_final.Converted, y_train_pred_final.predicted)"
   ]
  },
  {
   "cell_type": "code",
   "execution_count": 303,
   "id": "64dfd48f",
   "metadata": {},
   "outputs": [
    {
     "name": "stdout",
     "output_type": "stream",
     "text": [
      "******* Recall****\n"
     ]
    },
    {
     "data": {
      "text/plain": [
       "0.7059836418424451"
      ]
     },
     "execution_count": 303,
     "metadata": {},
     "output_type": "execute_result"
    }
   ],
   "source": [
    "print('******* Recall****')\n",
    "recall_score(y_train_pred_final.Converted, y_train_pred_final.predicted)"
   ]
  },
  {
   "cell_type": "markdown",
   "id": "30a991bd",
   "metadata": {},
   "source": [
    "#### Precision and recall tradeoff"
   ]
  },
  {
   "cell_type": "code",
   "execution_count": 304,
   "id": "ffd21fc2",
   "metadata": {},
   "outputs": [
    {
     "data": {
      "text/plain": [
       "(4901    1\n",
       " 6624    1\n",
       " 762     0\n",
       " 2007    0\n",
       " 3441    1\n",
       "        ..\n",
       " 6112    1\n",
       " 5526    1\n",
       " 5742    1\n",
       " 936     1\n",
       " 7738    1\n",
       " Name: Converted, Length: 6075, dtype: int64,\n",
       " 4901    0\n",
       " 6624    1\n",
       " 762     0\n",
       " 2007    0\n",
       " 3441    0\n",
       "        ..\n",
       " 6112    1\n",
       " 5526    0\n",
       " 5742    1\n",
       " 936     1\n",
       " 7738    1\n",
       " Name: predicted, Length: 6075, dtype: int64)"
      ]
     },
     "execution_count": 304,
     "metadata": {},
     "output_type": "execute_result"
    }
   ],
   "source": [
    "from sklearn.metrics import precision_recall_curve\n",
    "y_train_pred_final.Converted, y_train_pred_final.predicted"
   ]
  },
  {
   "cell_type": "code",
   "execution_count": 305,
   "id": "ec8e154a",
   "metadata": {},
   "outputs": [],
   "source": [
    "p, r, thresholds = precision_recall_curve(y_train_pred_final.Converted, y_train_pred_final.Converted_Prob)"
   ]
  },
  {
   "cell_type": "code",
   "execution_count": 306,
   "id": "8cb31c31",
   "metadata": {},
   "outputs": [
    {
     "data": {
      "image/png": "[encoded data removed]",
      "text/plain": [
       "<Figure size 432x288 with 1 Axes>"
      ]
     },
     "metadata": {
      "needs_background": "light"
     },
     "output_type": "display_data"
    }
   ],
   "source": [
    "plt.plot(thresholds, p[:-1], \"g-\")\n",
    "plt.plot(thresholds, r[:-1], \"r-\")\n",
    "plt.show()"
   ]
  },
  {
   "cell_type": "markdown",
   "id": "cd07e2cf",
   "metadata": {},
   "source": [
    "### Predict on test data"
   ]
  },
  {
   "cell_type": "code",
   "execution_count": 308,
   "id": "7f7af811",
   "metadata": {},
   "outputs": [],
   "source": [
    "X_test[['TotalVisits','Total Time Spent on Website','Page Views Per Visit']] = scaler.transform(X_test[['TotalVisits',\n",
    "                                                                        'Total Time Spent on Website','Page Views Per Visit']])"
   ]
  },
  {
   "cell_type": "code",
   "execution_count": 309,
   "id": "e258cff0",
   "metadata": {},
   "outputs": [
    {
     "data": {
      "text/html": [
       "<div>\n",
       "<style scoped>\n",
       "    .dataframe tbody tr th:only-of-type {\n",
       "        vertical-align: middle;\n",
       "    }\n",
       "\n",
       "    .dataframe tbody tr th {\n",
       "        vertical-align: top;\n",
       "    }\n",
       "\n",
       "    .dataframe thead th {\n",
       "        text-align: right;\n",
       "    }\n",
       "</style>\n",
       "<table border=\"1\" class=\"dataframe\">\n",
       "  <thead>\n",
       "    <tr style=\"text-align: right;\">\n",
       "      <th></th>\n",
       "      <th>Do Not Email</th>\n",
       "      <th>Total Time Spent on Website</th>\n",
       "      <th>LeadOrigin_API</th>\n",
       "      <th>LeadOrigin_Lead Add Form</th>\n",
       "      <th>LeadSource_Olark Chat</th>\n",
       "      <th>LastActivity_Email Opened</th>\n",
       "      <th>LastActivity_Had a Phone Conversation</th>\n",
       "      <th>LastActivity_Other</th>\n",
       "      <th>LastActivity_SMS Sent</th>\n",
       "      <th>CurrentOccupation_Other</th>\n",
       "      <th>CurrentOccupation_Working Professional</th>\n",
       "      <th>LastNotableActivity_Modified</th>\n",
       "      <th>LastNotableActivity_Olark Chat Conversation</th>\n",
       "      <th>LastNotableActivity_Unreachable</th>\n",
       "    </tr>\n",
       "  </thead>\n",
       "  <tbody>\n",
       "    <tr>\n",
       "      <th>3423</th>\n",
       "      <td>0</td>\n",
       "      <td>-0.875184</td>\n",
       "      <td>1</td>\n",
       "      <td>0</td>\n",
       "      <td>1</td>\n",
       "      <td>0</td>\n",
       "      <td>0</td>\n",
       "      <td>0</td>\n",
       "      <td>0</td>\n",
       "      <td>1</td>\n",
       "      <td>0</td>\n",
       "      <td>1</td>\n",
       "      <td>0</td>\n",
       "      <td>0</td>\n",
       "    </tr>\n",
       "    <tr>\n",
       "      <th>7935</th>\n",
       "      <td>1</td>\n",
       "      <td>0.814258</td>\n",
       "      <td>0</td>\n",
       "      <td>0</td>\n",
       "      <td>0</td>\n",
       "      <td>0</td>\n",
       "      <td>0</td>\n",
       "      <td>0</td>\n",
       "      <td>0</td>\n",
       "      <td>1</td>\n",
       "      <td>0</td>\n",
       "      <td>1</td>\n",
       "      <td>0</td>\n",
       "      <td>0</td>\n",
       "    </tr>\n",
       "    <tr>\n",
       "      <th>3009</th>\n",
       "      <td>0</td>\n",
       "      <td>-0.153216</td>\n",
       "      <td>0</td>\n",
       "      <td>0</td>\n",
       "      <td>0</td>\n",
       "      <td>1</td>\n",
       "      <td>0</td>\n",
       "      <td>0</td>\n",
       "      <td>0</td>\n",
       "      <td>1</td>\n",
       "      <td>0</td>\n",
       "      <td>0</td>\n",
       "      <td>0</td>\n",
       "      <td>0</td>\n",
       "    </tr>\n",
       "    <tr>\n",
       "      <th>7432</th>\n",
       "      <td>0</td>\n",
       "      <td>1.447117</td>\n",
       "      <td>0</td>\n",
       "      <td>0</td>\n",
       "      <td>0</td>\n",
       "      <td>0</td>\n",
       "      <td>0</td>\n",
       "      <td>0</td>\n",
       "      <td>1</td>\n",
       "      <td>0</td>\n",
       "      <td>0</td>\n",
       "      <td>0</td>\n",
       "      <td>0</td>\n",
       "      <td>0</td>\n",
       "    </tr>\n",
       "    <tr>\n",
       "      <th>5038</th>\n",
       "      <td>0</td>\n",
       "      <td>1.499855</td>\n",
       "      <td>0</td>\n",
       "      <td>0</td>\n",
       "      <td>0</td>\n",
       "      <td>0</td>\n",
       "      <td>0</td>\n",
       "      <td>0</td>\n",
       "      <td>0</td>\n",
       "      <td>0</td>\n",
       "      <td>0</td>\n",
       "      <td>0</td>\n",
       "      <td>0</td>\n",
       "      <td>0</td>\n",
       "    </tr>\n",
       "  </tbody>\n",
       "</table>\n",
       "</div>"
      ],
      "text/plain": [
       "      Do Not Email  Total Time Spent on Website  LeadOrigin_API  \\\n",
       "3423             0                    -0.875184               1   \n",
       "7935             1                     0.814258               0   \n",
       "3009             0                    -0.153216               0   \n",
       "7432             0                     1.447117               0   \n",
       "5038             0                     1.499855               0   \n",
       "\n",
       "      LeadOrigin_Lead Add Form  LeadSource_Olark Chat  \\\n",
       "3423                         0                      1   \n",
       "7935                         0                      0   \n",
       "3009                         0                      0   \n",
       "7432                         0                      0   \n",
       "5038                         0                      0   \n",
       "\n",
       "      LastActivity_Email Opened  LastActivity_Had a Phone Conversation  \\\n",
       "3423                          0                                      0   \n",
       "7935                          0                                      0   \n",
       "3009                          1                                      0   \n",
       "7432                          0                                      0   \n",
       "5038                          0                                      0   \n",
       "\n",
       "      LastActivity_Other  LastActivity_SMS Sent  CurrentOccupation_Other  \\\n",
       "3423                   0                      0                        1   \n",
       "7935                   0                      0                        1   \n",
       "3009                   0                      0                        1   \n",
       "7432                   0                      1                        0   \n",
       "5038                   0                      0                        0   \n",
       "\n",
       "      CurrentOccupation_Working Professional  LastNotableActivity_Modified  \\\n",
       "3423                                       0                             1   \n",
       "7935                                       0                             1   \n",
       "3009                                       0                             0   \n",
       "7432                                       0                             0   \n",
       "5038                                       0                             0   \n",
       "\n",
       "      LastNotableActivity_Olark Chat Conversation  \\\n",
       "3423                                            0   \n",
       "7935                                            0   \n",
       "3009                                            0   \n",
       "7432                                            0   \n",
       "5038                                            0   \n",
       "\n",
       "      LastNotableActivity_Unreachable  \n",
       "3423                                0  \n",
       "7935                                0  \n",
       "3009                                0  \n",
       "7432                                0  \n",
       "5038                                0  "
      ]
     },
     "execution_count": 309,
     "metadata": {},
     "output_type": "execute_result"
    }
   ],
   "source": [
    "X_test = X_test[col]\n",
    "X_test.head()"
   ]
  },
  {
   "cell_type": "code",
   "execution_count": 310,
   "id": "3b889c19",
   "metadata": {},
   "outputs": [],
   "source": [
    "X_test_sm = sm.add_constant(X_test)"
   ]
  },
  {
   "cell_type": "code",
   "execution_count": 311,
   "id": "5ab0fd5e",
   "metadata": {},
   "outputs": [],
   "source": [
    "y_test_pred = res.predict(X_test_sm)"
   ]
  },
  {
   "cell_type": "code",
   "execution_count": 312,
   "id": "d384de60",
   "metadata": {},
   "outputs": [
    {
     "data": {
      "text/plain": [
       "3423    0.051136\n",
       "7935    0.028397\n",
       "3009    0.085338\n",
       "7432    0.861618\n",
       "5038    0.556683\n",
       "7468    0.848034\n",
       "944     0.312447\n",
       "6666    0.988934\n",
       "4328    0.191924\n",
       "1420    0.016429\n",
       "dtype: float64"
      ]
     },
     "execution_count": 312,
     "metadata": {},
     "output_type": "execute_result"
    }
   ],
   "source": [
    "y_test_pred[:10]"
   ]
  },
  {
   "cell_type": "code",
   "execution_count": 313,
   "id": "58e8728e",
   "metadata": {},
   "outputs": [],
   "source": [
    "y_pred_1 = pd.DataFrame(y_test_pred)"
   ]
  },
  {
   "cell_type": "code",
   "execution_count": 314,
   "id": "03781308",
   "metadata": {},
   "outputs": [
    {
     "data": {
      "text/html": [
       "<div>\n",
       "<style scoped>\n",
       "    .dataframe tbody tr th:only-of-type {\n",
       "        vertical-align: middle;\n",
       "    }\n",
       "\n",
       "    .dataframe tbody tr th {\n",
       "        vertical-align: top;\n",
       "    }\n",
       "\n",
       "    .dataframe thead th {\n",
       "        text-align: right;\n",
       "    }\n",
       "</style>\n",
       "<table border=\"1\" class=\"dataframe\">\n",
       "  <thead>\n",
       "    <tr style=\"text-align: right;\">\n",
       "      <th></th>\n",
       "      <th>0</th>\n",
       "    </tr>\n",
       "  </thead>\n",
       "  <tbody>\n",
       "    <tr>\n",
       "      <th>3423</th>\n",
       "      <td>0.051136</td>\n",
       "    </tr>\n",
       "    <tr>\n",
       "      <th>7935</th>\n",
       "      <td>0.028397</td>\n",
       "    </tr>\n",
       "    <tr>\n",
       "      <th>3009</th>\n",
       "      <td>0.085338</td>\n",
       "    </tr>\n",
       "    <tr>\n",
       "      <th>7432</th>\n",
       "      <td>0.861618</td>\n",
       "    </tr>\n",
       "    <tr>\n",
       "      <th>5038</th>\n",
       "      <td>0.556683</td>\n",
       "    </tr>\n",
       "  </tbody>\n",
       "</table>\n",
       "</div>"
      ],
      "text/plain": [
       "             0\n",
       "3423  0.051136\n",
       "7935  0.028397\n",
       "3009  0.085338\n",
       "7432  0.861618\n",
       "5038  0.556683"
      ]
     },
     "execution_count": 314,
     "metadata": {},
     "output_type": "execute_result"
    }
   ],
   "source": [
    "y_pred_1.head()"
   ]
  },
  {
   "cell_type": "code",
   "execution_count": 315,
   "id": "6a62009a",
   "metadata": {},
   "outputs": [],
   "source": [
    "y_test_df = pd.DataFrame(y_test)"
   ]
  },
  {
   "cell_type": "code",
   "execution_count": 316,
   "id": "934bb0f6",
   "metadata": {},
   "outputs": [],
   "source": [
    "y_test_df['LeadId'] = y_test_df.index"
   ]
  },
  {
   "cell_type": "markdown",
   "id": "68a6ca9f",
   "metadata": {},
   "source": [
    "Remove index for both dataframes to append them side by side \n",
    "\n"
   ]
  },
  {
   "cell_type": "code",
   "execution_count": 317,
   "id": "e4f55267",
   "metadata": {},
   "outputs": [],
   "source": [
    "y_pred_1.reset_index(drop=True, inplace=True)\n",
    "y_test_df.reset_index(drop=True, inplace=True)"
   ]
  },
  {
   "cell_type": "code",
   "execution_count": 318,
   "id": "9a9d200d",
   "metadata": {},
   "outputs": [],
   "source": [
    "y_pred_final = pd.concat([y_test_df, y_pred_1],axis=1)"
   ]
  },
  {
   "cell_type": "code",
   "execution_count": 319,
   "id": "8f51cc90",
   "metadata": {},
   "outputs": [
    {
     "data": {
      "text/html": [
       "<div>\n",
       "<style scoped>\n",
       "    .dataframe tbody tr th:only-of-type {\n",
       "        vertical-align: middle;\n",
       "    }\n",
       "\n",
       "    .dataframe tbody tr th {\n",
       "        vertical-align: top;\n",
       "    }\n",
       "\n",
       "    .dataframe thead th {\n",
       "        text-align: right;\n",
       "    }\n",
       "</style>\n",
       "<table border=\"1\" class=\"dataframe\">\n",
       "  <thead>\n",
       "    <tr style=\"text-align: right;\">\n",
       "      <th></th>\n",
       "      <th>Converted</th>\n",
       "      <th>LeadId</th>\n",
       "      <th>0</th>\n",
       "    </tr>\n",
       "  </thead>\n",
       "  <tbody>\n",
       "    <tr>\n",
       "      <th>0</th>\n",
       "      <td>0</td>\n",
       "      <td>3423</td>\n",
       "      <td>0.051136</td>\n",
       "    </tr>\n",
       "    <tr>\n",
       "      <th>1</th>\n",
       "      <td>0</td>\n",
       "      <td>7935</td>\n",
       "      <td>0.028397</td>\n",
       "    </tr>\n",
       "    <tr>\n",
       "      <th>2</th>\n",
       "      <td>0</td>\n",
       "      <td>3009</td>\n",
       "      <td>0.085338</td>\n",
       "    </tr>\n",
       "    <tr>\n",
       "      <th>3</th>\n",
       "      <td>1</td>\n",
       "      <td>7432</td>\n",
       "      <td>0.861618</td>\n",
       "    </tr>\n",
       "    <tr>\n",
       "      <th>4</th>\n",
       "      <td>0</td>\n",
       "      <td>5038</td>\n",
       "      <td>0.556683</td>\n",
       "    </tr>\n",
       "  </tbody>\n",
       "</table>\n",
       "</div>"
      ],
      "text/plain": [
       "   Converted  LeadId         0\n",
       "0          0    3423  0.051136\n",
       "1          0    7935  0.028397\n",
       "2          0    3009  0.085338\n",
       "3          1    7432  0.861618\n",
       "4          0    5038  0.556683"
      ]
     },
     "execution_count": 319,
     "metadata": {},
     "output_type": "execute_result"
    }
   ],
   "source": [
    "y_pred_final.head()"
   ]
  },
  {
   "cell_type": "markdown",
   "id": "7c94340a",
   "metadata": {},
   "source": [
    "Renaming the columns\n"
   ]
  },
  {
   "cell_type": "code",
   "execution_count": 321,
   "id": "22194e2f",
   "metadata": {},
   "outputs": [],
   "source": [
    "\n",
    "y_pred_final= y_pred_final.rename(columns={ 0 : 'Converted_Prob'})\n"
   ]
  },
  {
   "cell_type": "code",
   "execution_count": 323,
   "id": "7089447b",
   "metadata": {},
   "outputs": [
    {
     "data": {
      "text/html": [
       "<div>\n",
       "<style scoped>\n",
       "    .dataframe tbody tr th:only-of-type {\n",
       "        vertical-align: middle;\n",
       "    }\n",
       "\n",
       "    .dataframe tbody tr th {\n",
       "        vertical-align: top;\n",
       "    }\n",
       "\n",
       "    .dataframe thead th {\n",
       "        text-align: right;\n",
       "    }\n",
       "</style>\n",
       "<table border=\"1\" class=\"dataframe\">\n",
       "  <thead>\n",
       "    <tr style=\"text-align: right;\">\n",
       "      <th></th>\n",
       "      <th>LeadId</th>\n",
       "      <th>Converted</th>\n",
       "      <th>Converted_Prob</th>\n",
       "    </tr>\n",
       "  </thead>\n",
       "  <tbody>\n",
       "    <tr>\n",
       "      <th>0</th>\n",
       "      <td>3423</td>\n",
       "      <td>0</td>\n",
       "      <td>0.051136</td>\n",
       "    </tr>\n",
       "    <tr>\n",
       "      <th>1</th>\n",
       "      <td>7935</td>\n",
       "      <td>0</td>\n",
       "      <td>0.028397</td>\n",
       "    </tr>\n",
       "    <tr>\n",
       "      <th>2</th>\n",
       "      <td>3009</td>\n",
       "      <td>0</td>\n",
       "      <td>0.085338</td>\n",
       "    </tr>\n",
       "    <tr>\n",
       "      <th>3</th>\n",
       "      <td>7432</td>\n",
       "      <td>1</td>\n",
       "      <td>0.861618</td>\n",
       "    </tr>\n",
       "    <tr>\n",
       "      <th>4</th>\n",
       "      <td>5038</td>\n",
       "      <td>0</td>\n",
       "      <td>0.556683</td>\n",
       "    </tr>\n",
       "  </tbody>\n",
       "</table>\n",
       "</div>"
      ],
      "text/plain": [
       "   LeadId  Converted  Converted_Prob\n",
       "0    3423          0        0.051136\n",
       "1    7935          0        0.028397\n",
       "2    3009          0        0.085338\n",
       "3    7432          1        0.861618\n",
       "4    5038          0        0.556683"
      ]
     },
     "execution_count": 323,
     "metadata": {},
     "output_type": "execute_result"
    }
   ],
   "source": [
    "y_pred_final = y_pred_final.reindex(['LeadId','Converted','Converted_Prob'],axis=1)\n",
    "y_pred_final.head()"
   ]
  },
  {
   "cell_type": "markdown",
   "id": "f4844b39",
   "metadata": {},
   "source": [
    "Calculate the final predicted based on the optimal cut off value(0.37)"
   ]
  },
  {
   "cell_type": "code",
   "execution_count": 324,
   "id": "b58c12f2",
   "metadata": {},
   "outputs": [
    {
     "data": {
      "text/html": [
       "<div>\n",
       "<style scoped>\n",
       "    .dataframe tbody tr th:only-of-type {\n",
       "        vertical-align: middle;\n",
       "    }\n",
       "\n",
       "    .dataframe tbody tr th {\n",
       "        vertical-align: top;\n",
       "    }\n",
       "\n",
       "    .dataframe thead th {\n",
       "        text-align: right;\n",
       "    }\n",
       "</style>\n",
       "<table border=\"1\" class=\"dataframe\">\n",
       "  <thead>\n",
       "    <tr style=\"text-align: right;\">\n",
       "      <th></th>\n",
       "      <th>LeadId</th>\n",
       "      <th>Converted</th>\n",
       "      <th>Converted_Prob</th>\n",
       "      <th>final_predicted</th>\n",
       "    </tr>\n",
       "  </thead>\n",
       "  <tbody>\n",
       "    <tr>\n",
       "      <th>0</th>\n",
       "      <td>3423</td>\n",
       "      <td>0</td>\n",
       "      <td>0.051136</td>\n",
       "      <td>0</td>\n",
       "    </tr>\n",
       "    <tr>\n",
       "      <th>1</th>\n",
       "      <td>7935</td>\n",
       "      <td>0</td>\n",
       "      <td>0.028397</td>\n",
       "      <td>0</td>\n",
       "    </tr>\n",
       "    <tr>\n",
       "      <th>2</th>\n",
       "      <td>3009</td>\n",
       "      <td>0</td>\n",
       "      <td>0.085338</td>\n",
       "      <td>0</td>\n",
       "    </tr>\n",
       "    <tr>\n",
       "      <th>3</th>\n",
       "      <td>7432</td>\n",
       "      <td>1</td>\n",
       "      <td>0.861618</td>\n",
       "      <td>1</td>\n",
       "    </tr>\n",
       "    <tr>\n",
       "      <th>4</th>\n",
       "      <td>5038</td>\n",
       "      <td>0</td>\n",
       "      <td>0.556683</td>\n",
       "      <td>1</td>\n",
       "    </tr>\n",
       "  </tbody>\n",
       "</table>\n",
       "</div>"
      ],
      "text/plain": [
       "   LeadId  Converted  Converted_Prob  final_predicted\n",
       "0    3423          0        0.051136                0\n",
       "1    7935          0        0.028397                0\n",
       "2    3009          0        0.085338                0\n",
       "3    7432          1        0.861618                1\n",
       "4    5038          0        0.556683                1"
      ]
     },
     "execution_count": 324,
     "metadata": {},
     "output_type": "execute_result"
    }
   ],
   "source": [
    "y_pred_final['final_predicted'] = y_pred_final.Converted_Prob.map(lambda x: 1 if x > 0.37 else 0)\n",
    "y_pred_final.head()"
   ]
  },
  {
   "cell_type": "markdown",
   "id": "88aa5c40",
   "metadata": {},
   "source": [
    "calculate the lead score\n"
   ]
  },
  {
   "cell_type": "code",
   "execution_count": 325,
   "id": "9572223e",
   "metadata": {},
   "outputs": [
    {
     "data": {
      "text/html": [
       "<div>\n",
       "<style scoped>\n",
       "    .dataframe tbody tr th:only-of-type {\n",
       "        vertical-align: middle;\n",
       "    }\n",
       "\n",
       "    .dataframe tbody tr th {\n",
       "        vertical-align: top;\n",
       "    }\n",
       "\n",
       "    .dataframe thead th {\n",
       "        text-align: right;\n",
       "    }\n",
       "</style>\n",
       "<table border=\"1\" class=\"dataframe\">\n",
       "  <thead>\n",
       "    <tr style=\"text-align: right;\">\n",
       "      <th></th>\n",
       "      <th>LeadId</th>\n",
       "      <th>Converted</th>\n",
       "      <th>Converted_Prob</th>\n",
       "      <th>final_predicted</th>\n",
       "      <th>lead_score</th>\n",
       "    </tr>\n",
       "  </thead>\n",
       "  <tbody>\n",
       "    <tr>\n",
       "      <th>0</th>\n",
       "      <td>3423</td>\n",
       "      <td>0</td>\n",
       "      <td>0.051136</td>\n",
       "      <td>0</td>\n",
       "      <td>5</td>\n",
       "    </tr>\n",
       "    <tr>\n",
       "      <th>1</th>\n",
       "      <td>7935</td>\n",
       "      <td>0</td>\n",
       "      <td>0.028397</td>\n",
       "      <td>0</td>\n",
       "      <td>3</td>\n",
       "    </tr>\n",
       "    <tr>\n",
       "      <th>2</th>\n",
       "      <td>3009</td>\n",
       "      <td>0</td>\n",
       "      <td>0.085338</td>\n",
       "      <td>0</td>\n",
       "      <td>9</td>\n",
       "    </tr>\n",
       "    <tr>\n",
       "      <th>3</th>\n",
       "      <td>7432</td>\n",
       "      <td>1</td>\n",
       "      <td>0.861618</td>\n",
       "      <td>1</td>\n",
       "      <td>86</td>\n",
       "    </tr>\n",
       "    <tr>\n",
       "      <th>4</th>\n",
       "      <td>5038</td>\n",
       "      <td>0</td>\n",
       "      <td>0.556683</td>\n",
       "      <td>1</td>\n",
       "      <td>56</td>\n",
       "    </tr>\n",
       "    <tr>\n",
       "      <th>5</th>\n",
       "      <td>7468</td>\n",
       "      <td>0</td>\n",
       "      <td>0.848034</td>\n",
       "      <td>1</td>\n",
       "      <td>85</td>\n",
       "    </tr>\n",
       "    <tr>\n",
       "      <th>6</th>\n",
       "      <td>944</td>\n",
       "      <td>1</td>\n",
       "      <td>0.312447</td>\n",
       "      <td>0</td>\n",
       "      <td>31</td>\n",
       "    </tr>\n",
       "    <tr>\n",
       "      <th>7</th>\n",
       "      <td>6666</td>\n",
       "      <td>1</td>\n",
       "      <td>0.988934</td>\n",
       "      <td>1</td>\n",
       "      <td>99</td>\n",
       "    </tr>\n",
       "    <tr>\n",
       "      <th>8</th>\n",
       "      <td>4328</td>\n",
       "      <td>0</td>\n",
       "      <td>0.191924</td>\n",
       "      <td>0</td>\n",
       "      <td>19</td>\n",
       "    </tr>\n",
       "    <tr>\n",
       "      <th>9</th>\n",
       "      <td>1420</td>\n",
       "      <td>0</td>\n",
       "      <td>0.016429</td>\n",
       "      <td>0</td>\n",
       "      <td>2</td>\n",
       "    </tr>\n",
       "    <tr>\n",
       "      <th>10</th>\n",
       "      <td>7386</td>\n",
       "      <td>0</td>\n",
       "      <td>0.144585</td>\n",
       "      <td>0</td>\n",
       "      <td>14</td>\n",
       "    </tr>\n",
       "    <tr>\n",
       "      <th>11</th>\n",
       "      <td>9063</td>\n",
       "      <td>0</td>\n",
       "      <td>0.926811</td>\n",
       "      <td>1</td>\n",
       "      <td>93</td>\n",
       "    </tr>\n",
       "    <tr>\n",
       "      <th>12</th>\n",
       "      <td>1119</td>\n",
       "      <td>0</td>\n",
       "      <td>0.051136</td>\n",
       "      <td>0</td>\n",
       "      <td>5</td>\n",
       "    </tr>\n",
       "    <tr>\n",
       "      <th>13</th>\n",
       "      <td>3575</td>\n",
       "      <td>1</td>\n",
       "      <td>0.971591</td>\n",
       "      <td>1</td>\n",
       "      <td>97</td>\n",
       "    </tr>\n",
       "    <tr>\n",
       "      <th>14</th>\n",
       "      <td>1218</td>\n",
       "      <td>0</td>\n",
       "      <td>0.146278</td>\n",
       "      <td>0</td>\n",
       "      <td>15</td>\n",
       "    </tr>\n",
       "    <tr>\n",
       "      <th>15</th>\n",
       "      <td>4443</td>\n",
       "      <td>1</td>\n",
       "      <td>0.903742</td>\n",
       "      <td>1</td>\n",
       "      <td>90</td>\n",
       "    </tr>\n",
       "    <tr>\n",
       "      <th>16</th>\n",
       "      <td>4354</td>\n",
       "      <td>0</td>\n",
       "      <td>0.024026</td>\n",
       "      <td>0</td>\n",
       "      <td>2</td>\n",
       "    </tr>\n",
       "    <tr>\n",
       "      <th>17</th>\n",
       "      <td>7996</td>\n",
       "      <td>1</td>\n",
       "      <td>0.631778</td>\n",
       "      <td>1</td>\n",
       "      <td>63</td>\n",
       "    </tr>\n",
       "    <tr>\n",
       "      <th>18</th>\n",
       "      <td>3367</td>\n",
       "      <td>1</td>\n",
       "      <td>0.545448</td>\n",
       "      <td>1</td>\n",
       "      <td>55</td>\n",
       "    </tr>\n",
       "    <tr>\n",
       "      <th>19</th>\n",
       "      <td>493</td>\n",
       "      <td>1</td>\n",
       "      <td>0.908306</td>\n",
       "      <td>1</td>\n",
       "      <td>91</td>\n",
       "    </tr>\n",
       "  </tbody>\n",
       "</table>\n",
       "</div>"
      ],
      "text/plain": [
       "    LeadId  Converted  Converted_Prob  final_predicted  lead_score\n",
       "0     3423          0        0.051136                0           5\n",
       "1     7935          0        0.028397                0           3\n",
       "2     3009          0        0.085338                0           9\n",
       "3     7432          1        0.861618                1          86\n",
       "4     5038          0        0.556683                1          56\n",
       "5     7468          0        0.848034                1          85\n",
       "6      944          1        0.312447                0          31\n",
       "7     6666          1        0.988934                1          99\n",
       "8     4328          0        0.191924                0          19\n",
       "9     1420          0        0.016429                0           2\n",
       "10    7386          0        0.144585                0          14\n",
       "11    9063          0        0.926811                1          93\n",
       "12    1119          0        0.051136                0           5\n",
       "13    3575          1        0.971591                1          97\n",
       "14    1218          0        0.146278                0          15\n",
       "15    4443          1        0.903742                1          90\n",
       "16    4354          0        0.024026                0           2\n",
       "17    7996          1        0.631778                1          63\n",
       "18    3367          1        0.545448                1          55\n",
       "19     493          1        0.908306                1          91"
      ]
     },
     "execution_count": 325,
     "metadata": {},
     "output_type": "execute_result"
    }
   ],
   "source": [
    "\n",
    "y_pred_final['lead_score'] = y_pred_final.Converted_Prob.map(lambda x: round(x*100))\n",
    "y_pred_final.head(20)"
   ]
  },
  {
   "cell_type": "markdown",
   "id": "36f00b37",
   "metadata": {},
   "source": [
    "Get the total of final predicted conversion or non conversion counts from the actual converted rates\n"
   ]
  },
  {
   "cell_type": "code",
   "execution_count": 326,
   "id": "fde6c5d9",
   "metadata": {},
   "outputs": [
    {
     "data": {
      "text/plain": [
       "1    773\n",
       "0    236\n",
       "Name: final_predicted, dtype: int64"
      ]
     },
     "execution_count": 326,
     "metadata": {},
     "output_type": "execute_result"
    }
   ],
   "source": [
    "\n",
    "checking_test_df = y_pred_final.loc[y_pred_final['Converted']==1,['Converted','final_predicted']]\n",
    "checking_test_df['final_predicted'].value_counts()"
   ]
  },
  {
   "cell_type": "markdown",
   "id": "a3785bbd",
   "metadata": {},
   "source": [
    "Calculate the percentage of conversion"
   ]
  },
  {
   "cell_type": "code",
   "execution_count": 327,
   "id": "6c884a81",
   "metadata": {},
   "outputs": [
    {
     "data": {
      "text/plain": [
       "0.7661050545094152"
      ]
     },
     "execution_count": 327,
     "metadata": {},
     "output_type": "execute_result"
    }
   ],
   "source": [
    "773/float(773+236)"
   ]
  },
  {
   "cell_type": "markdown",
   "id": "997a31c9",
   "metadata": {},
   "source": [
    "Observations:\n",
    "    final prediction of conversions have a target rate of 77% (76.6%) (Around 2 % short of the predictions made on training data set)"
   ]
  },
  {
   "cell_type": "markdown",
   "id": "4e09d63c",
   "metadata": {},
   "source": [
    "#### Overall metrics on test data "
   ]
  },
  {
   "cell_type": "code",
   "execution_count": 328,
   "id": "f54373b7",
   "metadata": {},
   "outputs": [
    {
     "data": {
      "text/plain": [
       "0.8125960061443932"
      ]
     },
     "execution_count": 328,
     "metadata": {},
     "output_type": "execute_result"
    }
   ],
   "source": [
    "#Accuracy\n",
    "metrics.accuracy_score(y_pred_final.Converted, y_pred_final.final_predicted)"
   ]
  },
  {
   "cell_type": "code",
   "execution_count": 329,
   "id": "f7efaf53",
   "metadata": {},
   "outputs": [
    {
     "data": {
      "text/plain": [
       "array([[1343,  252],\n",
       "       [ 236,  773]])"
      ]
     },
     "execution_count": 329,
     "metadata": {},
     "output_type": "execute_result"
    }
   ],
   "source": [
    "confusion_matrix_test = metrics.confusion_matrix(y_pred_final.Converted, y_pred_final.final_predicted )\n",
    "confusion_matrix_test"
   ]
  },
  {
   "cell_type": "code",
   "execution_count": 338,
   "id": "685ce73b",
   "metadata": {},
   "outputs": [
    {
     "data": {
      "image/png": "[encoded data removed]",
      "text/plain": [
       "<Figure size 432x288 with 2 Axes>"
      ]
     },
     "metadata": {
      "needs_background": "light"
     },
     "output_type": "display_data"
    }
   ],
   "source": [
    "cm_display = metrics.ConfusionMatrixDisplay(confusion_matrix = confusion_matrix_test, \\\n",
    "                                            display_labels = [False, True])\n",
    "cm_display.plot()\n",
    "plt.show()"
   ]
  },
  {
   "cell_type": "code",
   "execution_count": 330,
   "id": "120bde19",
   "metadata": {},
   "outputs": [],
   "source": [
    "TP = confusion_matrix_test[1,1] # true positive \n",
    "TN = confusion_matrix_test[0,0] # true negatives\n",
    "FP = confusion_matrix_test[0,1] # false positives\n",
    "FN = confusion_matrix_test[1,0] # false negatives"
   ]
  },
  {
   "cell_type": "code",
   "execution_count": 331,
   "id": "c0501aba",
   "metadata": {},
   "outputs": [
    {
     "data": {
      "text/plain": [
       "0.7661050545094152"
      ]
     },
     "execution_count": 331,
     "metadata": {},
     "output_type": "execute_result"
    }
   ],
   "source": [
    "#sensitivity\n",
    "TP / float(TP+FN)"
   ]
  },
  {
   "cell_type": "code",
   "execution_count": 332,
   "id": "e27e15a3",
   "metadata": {},
   "outputs": [
    {
     "data": {
      "text/plain": [
       "0.8420062695924765"
      ]
     },
     "execution_count": 332,
     "metadata": {},
     "output_type": "execute_result"
    }
   ],
   "source": [
    "#specificity\n",
    "TN / float(TN+FP)"
   ]
  },
  {
   "cell_type": "markdown",
   "id": "3ca06025",
   "metadata": {},
   "source": [
    "#### Precision and Recall metrics for the test set"
   ]
  },
  {
   "cell_type": "code",
   "execution_count": 333,
   "id": "cec82322",
   "metadata": {},
   "outputs": [
    {
     "name": "stdout",
     "output_type": "stream",
     "text": [
      "precision  0.7541463414634146\n",
      "recall  0.7661050545094152\n"
     ]
    }
   ],
   "source": [
    "# precision\n",
    "print('precision ',precision_score(y_pred_final.Converted, y_pred_final.final_predicted))\n",
    "\n",
    "# recall\n",
    "print('recall ',recall_score(y_pred_final.Converted, y_pred_final.final_predicted))"
   ]
  },
  {
   "cell_type": "code",
   "execution_count": 334,
   "id": "e8273a86",
   "metadata": {},
   "outputs": [
    {
     "data": {
      "image/png": "[encoded data removed]",
      "text/plain": [
       "<Figure size 432x288 with 1 Axes>"
      ]
     },
     "metadata": {
      "needs_background": "light"
     },
     "output_type": "display_data"
    }
   ],
   "source": [
    "p, r, thresholds = precision_recall_curve(y_pred_final.Converted, y_pred_final.Converted_Prob)\n",
    "\n",
    "plt.plot(thresholds, p[:-1], \"g-\")\n",
    "plt.plot(thresholds, r[:-1], \"r-\")\n",
    "plt.show()"
   ]
  },
  {
   "cell_type": "markdown",
   "id": "5e7502c6",
   "metadata": {},
   "source": [
    "##### Conclusion"
   ]
  },
  {
   "cell_type": "markdown",
   "id": "40c8ec86",
   "metadata": {},
   "source": [
    "\n",
    "\n",
    "-We have achieved final prediction using Sensitivity and Specificity based on optimal cut off value\n",
    "\n",
    "- Accuracy, Sensitivity and Specificity values of test set are around 81%, 77% and 84% which are approximately closer to \n",
    "  the respective values calculated using trained set.\n",
    "- Also the lead score calculated in the trained set of data shows the conversion rate on the final predicted model is \n",
    "  around 80%\n",
    "- Hence overall this model seems to be good."
   ]
  },
  {
   "cell_type": "code",
   "execution_count": null,
   "id": "0da3a422",
   "metadata": {},
   "outputs": [],
   "source": []
  }
 ],
 "metadata": {
  "kernelspec": {
   "display_name": "Python 3 (ipykernel)",
   "language": "python",
   "name": "python3"
  },
  "language_info": {
   "codemirror_mode": {
    "name": "ipython",
    "version": 3
   },
   "file_extension": ".py",
   "mimetype": "text/x-python",
   "name": "python",
   "nbconvert_exporter": "python",
   "pygments_lexer": "ipython3",
   "version": "3.9.7"
  }
 },
 "nbformat": 4,
 "nbformat_minor": 5
}
